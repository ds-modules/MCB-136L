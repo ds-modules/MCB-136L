{
 "cells": [
  {
   "cell_type": "markdown",
   "metadata": {},
   "source": [
    "<h1 align=\"center\">Lab 12: Introduction to Allen Brain Connectivity Atlas Tools</h1>\n",
    "<p><center>This notebook will introduce you to the Allen Mouse Brain Connectivity Atlas tools and data.</center></p>\n",
    "<img src='connectivity_website.png', width=\"500px\"/>\n",
    "\n",
    "<h3 align=\"center\">Estimated Duration: 30 mins</h3>\n"
   ]
  },
  {
   "cell_type": "markdown",
   "metadata": {},
   "source": [
    "## Introduction"
   ]
  },
  {
   "cell_type": "markdown",
   "metadata": {},
   "source": [
    "<div style=\"border-left: 3px solid #000; padding: 1px; padding-left: 10px; background: #f0f0ff; \">\n",
    "    \n",
    "The **Allen Brain Institute for Brain Science** is a non-profit research institute that utilizes big science to understand specific aspects of brain function. The insitute has many publicly available atlases online that provide information on gene expression and neural connectivity. The atlas that we will be working with today is the Mouse Brain Connectivity Atlas, defined as \"a brain-wide map of neural projections, including cell class specific data.\" \n",
    "\n",
    "In this part of the lab, we will utilize information from the Mouse Brain Connectivity Atlas to make conclusions regarding structural connectivity and to further explore projection information.\n",
    "</div>"
   ]
  },
  {
   "cell_type": "code",
   "execution_count": 1,
   "metadata": {},
   "outputs": [],
   "source": [
    "# Run this cell\n",
    "import pandas as pd\n",
    "import numpy as np\n",
    "import os\n",
    "import matplotlib.pyplot as plt\n",
    "from allensdk.core.mouse_connectivity_cache import MouseConnectivityCache\n",
    "from allensdk.api.queries.ontologies_api import OntologiesApi\n",
    "\n",
    "%matplotlib inline \n",
    "import seaborn as sns\n",
    "\n",
    "# Activates the API and cache\n",
    "mcc = MouseConnectivityCache()\n",
    "structure_tree = mcc.get_structure_tree()\n"
   ]
  },
  {
   "cell_type": "markdown",
   "metadata": {},
   "source": [
    "<div style=\"border-left: 3px solid #000; padding: 1px; padding-left: 10px; background: #f0f0ff; \">\n",
    "    \n",
    "On this part of the lab, we will start off by showing you how to obtain specific information about individual structures of the brain and the exeriments done on them. In this Section, you will be:\n",
    "\n",
    "* Using statistical analysis to understand neural projections and connectivity in the **Papez Circuit**\n",
    "\n",
    "We will start by running the cell below, which sets up all the variables that will be needed throughout the lab.\n",
    "\n",
    "\n",
    "</div>"
   ]
  },
  {
   "cell_type": "markdown",
   "metadata": {},
   "source": [
    "## Part 1: The Data "
   ]
  },
  {
   "cell_type": "markdown",
   "metadata": {},
   "source": [
    "<div style=\"border-left: 3px solid #000; padding: 1px; padding-left: 10px; background: #f0f0ff; \">\n",
    "\n",
    "Running the cell below, you will obtain the data that we will be using in this lab. This data contains a set of experiments done on the Medial Mammillary Nucleus (Structure ID: 502) in wild-type mice. You don't need to worry about what these variables mean, but if you would like to learn more, you can go to [Mouse Connectivity](https://allensdk.readthedocs.io/en/latest/_static/examples/nb/mouse_connectivity.html) for reference.\n",
    "\n",
    "</div>"
   ]
  },
  {
   "cell_type": "code",
   "execution_count": 27,
   "metadata": {},
   "outputs": [],
   "source": [
    "summary_structures = structure_tree.get_structures_by_set_id([167587189])\n",
    "summary_structure_ids = [item['id'] for item in summary_structures]\n",
    "\n",
    "experiments = mcc.get_experiments(injection_structure_ids=[502]) \n",
    "experiment_set = [exp['id'] for exp in experiments if exp['transgenic_line'] == None]\n",
    "\n",
    "name_map = structure_tree.get_name_map()\n",
    "\n",
    "unionizes_set = mcc.get_structure_unionizes(experiment_set,\n",
    "                                               is_injection = False,\n",
    "                                                structure_ids = summary_structure_ids,\n",
    "                                               hemisphere_ids = [3])"
   ]
  },
  {
   "cell_type": "markdown",
   "metadata": {},
   "source": [
    "## Part 2: Mean, Standard Deviation, Median"
   ]
  },
  {
   "cell_type": "markdown",
   "metadata": {},
   "source": [
    "<div style=\"border-left: 3px solid #000; padding: 1px; padding-left: 10px; background: #f0f0ff; \">\n",
    "    \n",
    "We have now gathered all the information needed to do statistical and data analysis. Our **unionizes_set** DataFrame consists of a list of structures where the Subiculum projects to when it is injected. Some of the columns in this DataFrame that we will be analyzing are:\n",
    "\n",
    "* projection_density\n",
    "* projection_volume\n",
    "* structure_id\n",
    "</div>"
   ]
  },
  {
   "cell_type": "markdown",
   "metadata": {},
   "source": [
    "## Part 2.1: Most Projected Structure "
   ]
  },
  {
   "cell_type": "markdown",
   "metadata": {},
   "source": [
    "<div style=\"border-left: 3px solid #000; padding: 1px; padding-left: 10px; background: #f0f0ff; \">\n",
    "Let's check to see which structure has the largest projection density. \n",
    "    \n",
    "To do this, we want use the **sort_values** function with the correct column label and order (ascending/descending). Then we obtain the first structure id.\n",
    "</div>"
   ]
  },
  {
   "cell_type": "code",
   "execution_count": 4,
   "metadata": {},
   "outputs": [],
   "source": [
    "mystery_id = 491"
   ]
  },
  {
   "cell_type": "markdown",
   "metadata": {},
   "source": [
    "<div style=\"border-left: 3px solid #000; padding: 1px; padding-left: 10px; background: #f0f0ff; \">\n",
    "    \n",
    "Does our result make sense? Write down in the cell below why or why not. **Hint:** Where should the subiculum project to?\n",
    "</div>"
   ]
  },
  {
   "cell_type": "markdown",
   "metadata": {},
   "source": [
    "Yes, this makes sense because the subiculum and the medial mammillary nucleus are both part of the papez circuit, in which the subiculum projects to the medial mammillary nucleus."
   ]
  },
  {
   "cell_type": "markdown",
   "metadata": {},
   "source": [
    "<div style=\"border-left: 3px solid #000; padding: 1px; padding-left: 10px; background: #f0f0ff; \">\n",
    "Now that we know the structure id and name of where the highest projection density is, let's get a subset of that data. Select the structure ids that are equal to number we found in the previous question. Fill the code below.\n",
    "</div>"
   ]
  },
  {
   "cell_type": "code",
   "execution_count": 5,
   "metadata": {},
   "outputs": [
    {
     "data": {
      "text/html": [
       "<div>\n",
       "<style scoped>\n",
       "    .dataframe tbody tr th:only-of-type {\n",
       "        vertical-align: middle;\n",
       "    }\n",
       "\n",
       "    .dataframe tbody tr th {\n",
       "        vertical-align: top;\n",
       "    }\n",
       "\n",
       "    .dataframe thead th {\n",
       "        text-align: right;\n",
       "    }\n",
       "</style>\n",
       "<table border=\"1\" class=\"dataframe\">\n",
       "  <thead>\n",
       "    <tr style=\"text-align: right;\">\n",
       "      <th></th>\n",
       "      <th>hemisphere_id</th>\n",
       "      <th>id</th>\n",
       "      <th>is_injection</th>\n",
       "      <th>max_voxel_density</th>\n",
       "      <th>max_voxel_x</th>\n",
       "      <th>max_voxel_y</th>\n",
       "      <th>max_voxel_z</th>\n",
       "      <th>normalized_projection_volume</th>\n",
       "      <th>projection_density</th>\n",
       "      <th>projection_energy</th>\n",
       "      <th>projection_intensity</th>\n",
       "      <th>projection_volume</th>\n",
       "      <th>experiment_id</th>\n",
       "      <th>structure_id</th>\n",
       "      <th>sum_pixel_intensity</th>\n",
       "      <th>sum_pixels</th>\n",
       "      <th>sum_projection_pixel_intensity</th>\n",
       "      <th>sum_projection_pixels</th>\n",
       "      <th>volume</th>\n",
       "    </tr>\n",
       "  </thead>\n",
       "  <tbody>\n",
       "    <tr>\n",
       "      <th>168</th>\n",
       "      <td>3</td>\n",
       "      <td>633605954</td>\n",
       "      <td>False</td>\n",
       "      <td>1.00000</td>\n",
       "      <td>8090</td>\n",
       "      <td>5860</td>\n",
       "      <td>5300</td>\n",
       "      <td>0.153744</td>\n",
       "      <td>0.092688</td>\n",
       "      <td>507.527245</td>\n",
       "      <td>5475.634588</td>\n",
       "      <td>0.055196</td>\n",
       "      <td>126523791</td>\n",
       "      <td>491</td>\n",
       "      <td>3.957517e+11</td>\n",
       "      <td>486122392.0</td>\n",
       "      <td>2.467204e+11</td>\n",
       "      <td>4.505786e+07</td>\n",
       "      <td>0.5955</td>\n",
       "    </tr>\n",
       "    <tr>\n",
       "      <th>441</th>\n",
       "      <td>3</td>\n",
       "      <td>645407479</td>\n",
       "      <td>False</td>\n",
       "      <td>0.60012</td>\n",
       "      <td>8190</td>\n",
       "      <td>6270</td>\n",
       "      <td>5810</td>\n",
       "      <td>0.835991</td>\n",
       "      <td>0.040425</td>\n",
       "      <td>48.220957</td>\n",
       "      <td>1192.838340</td>\n",
       "      <td>0.024073</td>\n",
       "      <td>640285199</td>\n",
       "      <td>491</td>\n",
       "      <td>2.027541e+11</td>\n",
       "      <td>486122392.0</td>\n",
       "      <td>2.344129e+10</td>\n",
       "      <td>1.965169e+07</td>\n",
       "      <td>0.5955</td>\n",
       "    </tr>\n",
       "    <tr>\n",
       "      <th>671</th>\n",
       "      <td>3</td>\n",
       "      <td>633558206</td>\n",
       "      <td>False</td>\n",
       "      <td>1.00000</td>\n",
       "      <td>8240</td>\n",
       "      <td>6230</td>\n",
       "      <td>5300</td>\n",
       "      <td>0.298778</td>\n",
       "      <td>0.248148</td>\n",
       "      <td>545.671184</td>\n",
       "      <td>2198.970868</td>\n",
       "      <td>0.147772</td>\n",
       "      <td>127222723</td>\n",
       "      <td>491</td>\n",
       "      <td>3.662006e+11</td>\n",
       "      <td>486122392.0</td>\n",
       "      <td>2.652630e+11</td>\n",
       "      <td>1.206305e+08</td>\n",
       "      <td>0.5955</td>\n",
       "    </tr>\n",
       "    <tr>\n",
       "      <th>1206</th>\n",
       "      <td>3</td>\n",
       "      <td>628260905</td>\n",
       "      <td>False</td>\n",
       "      <td>1.00000</td>\n",
       "      <td>8120</td>\n",
       "      <td>6310</td>\n",
       "      <td>5250</td>\n",
       "      <td>1.667512</td>\n",
       "      <td>0.349938</td>\n",
       "      <td>934.721490</td>\n",
       "      <td>2671.104317</td>\n",
       "      <td>0.208388</td>\n",
       "      <td>152994878</td>\n",
       "      <td>491</td>\n",
       "      <td>5.253763e+11</td>\n",
       "      <td>486122392.0</td>\n",
       "      <td>4.543890e+11</td>\n",
       "      <td>1.701128e+08</td>\n",
       "      <td>0.5955</td>\n",
       "    </tr>\n",
       "    <tr>\n",
       "      <th>1280</th>\n",
       "      <td>3</td>\n",
       "      <td>633830886</td>\n",
       "      <td>False</td>\n",
       "      <td>1.00000</td>\n",
       "      <td>8240</td>\n",
       "      <td>5970</td>\n",
       "      <td>5350</td>\n",
       "      <td>0.834899</td>\n",
       "      <td>0.446652</td>\n",
       "      <td>2746.234767</td>\n",
       "      <td>6148.483279</td>\n",
       "      <td>0.265981</td>\n",
       "      <td>127795906</td>\n",
       "      <td>491</td>\n",
       "      <td>1.434483e+12</td>\n",
       "      <td>486122392.0</td>\n",
       "      <td>1.335006e+12</td>\n",
       "      <td>2.171277e+08</td>\n",
       "      <td>0.5955</td>\n",
       "    </tr>\n",
       "  </tbody>\n",
       "</table>\n",
       "</div>"
      ],
      "text/plain": [
       "      hemisphere_id         id  is_injection  max_voxel_density  max_voxel_x  \\\n",
       "168               3  633605954         False            1.00000         8090   \n",
       "441               3  645407479         False            0.60012         8190   \n",
       "671               3  633558206         False            1.00000         8240   \n",
       "1206              3  628260905         False            1.00000         8120   \n",
       "1280              3  633830886         False            1.00000         8240   \n",
       "\n",
       "      max_voxel_y  max_voxel_z  normalized_projection_volume  \\\n",
       "168          5860         5300                      0.153744   \n",
       "441          6270         5810                      0.835991   \n",
       "671          6230         5300                      0.298778   \n",
       "1206         6310         5250                      1.667512   \n",
       "1280         5970         5350                      0.834899   \n",
       "\n",
       "      projection_density  projection_energy  projection_intensity  \\\n",
       "168             0.092688         507.527245           5475.634588   \n",
       "441             0.040425          48.220957           1192.838340   \n",
       "671             0.248148         545.671184           2198.970868   \n",
       "1206            0.349938         934.721490           2671.104317   \n",
       "1280            0.446652        2746.234767           6148.483279   \n",
       "\n",
       "      projection_volume  experiment_id  structure_id  sum_pixel_intensity  \\\n",
       "168            0.055196      126523791           491         3.957517e+11   \n",
       "441            0.024073      640285199           491         2.027541e+11   \n",
       "671            0.147772      127222723           491         3.662006e+11   \n",
       "1206           0.208388      152994878           491         5.253763e+11   \n",
       "1280           0.265981      127795906           491         1.434483e+12   \n",
       "\n",
       "       sum_pixels  sum_projection_pixel_intensity  sum_projection_pixels  \\\n",
       "168   486122392.0                    2.467204e+11           4.505786e+07   \n",
       "441   486122392.0                    2.344129e+10           1.965169e+07   \n",
       "671   486122392.0                    2.652630e+11           1.206305e+08   \n",
       "1206  486122392.0                    4.543890e+11           1.701128e+08   \n",
       "1280  486122392.0                    1.335006e+12           2.171277e+08   \n",
       "\n",
       "      volume  \n",
       "168   0.5955  \n",
       "441   0.5955  \n",
       "671   0.5955  \n",
       "1206  0.5955  \n",
       "1280  0.5955  "
      ]
     },
     "execution_count": 5,
     "metadata": {},
     "output_type": "execute_result"
    }
   ],
   "source": [
    "medial_mammillary = unionizes_set[unionizes_set['structure_id'] == mystery_id]\n",
    "medial_mammillary"
   ]
  },
  {
   "cell_type": "markdown",
   "metadata": {},
   "source": [
    "## Part 2.2: Projection Density Distribution"
   ]
  },
  {
   "cell_type": "markdown",
   "metadata": {},
   "source": [
    "<div style=\"border-left: 3px solid #000; padding: 1px; padding-left: 10px; background: #f0f0ff; \">\n",
    "\n",
    "Let's observe the distribution of values in the Medial Mammilary Nucleus.\n",
    "</div>"
   ]
  },
  {
   "cell_type": "code",
   "execution_count": 6,
   "metadata": {},
   "outputs": [
    {
     "name": "stderr",
     "output_type": "stream",
     "text": [
      "/anaconda3/lib/python3.7/site-packages/scipy/stats/stats.py:1713: FutureWarning: Using a non-tuple sequence for multidimensional indexing is deprecated; use `arr[tuple(seq)]` instead of `arr[seq]`. In the future this will be interpreted as an array index, `arr[np.array(seq)]`, which will result either in an error or a different result.\n",
      "  return np.add.reduce(sorted[indexer] * weights, axis=axis) / sumval\n"
     ]
    },
    {
     "data": {
      "image/png": "[encoded data removed]",
      "text/plain": [
       "<Figure size 432x288 with 1 Axes>"
      ]
     },
     "metadata": {
      "needs_background": "light"
     },
     "output_type": "display_data"
    }
   ],
   "source": [
    "# Run this cell\n",
    "\n",
    "# Gives us a list of projection_densities in the medial mammilary nucleus\n",
    "proj_dens = medial_mammillary['projection_density'].values\n",
    "\n",
    "\n",
    "plt.title('Distribution of Projection Densities at the Medial Mammilary Nucleus')\n",
    "plt.xlabel(\"Projection Density\")\n",
    "sns.kdeplot(proj_dens);"
   ]
  },
  {
   "cell_type": "markdown",
   "metadata": {},
   "source": [
    "<div style=\"border-left: 3px solid #000; padding: 1px; padding-left: 10px; background: #f0f0ff; \">\n",
    "\n",
    "Based on this distribution, what do you think the mean, median, and standard deviation is among projection densities at the Medial Mammilary Nuclues? Type your answer in the cell below:\n",
    "</div>"
   ]
  },
  {
   "cell_type": "markdown",
   "metadata": {},
   "source": [
    "*Your Answer Here*"
   ]
  },
  {
   "cell_type": "markdown",
   "metadata": {},
   "source": [
    "## Part 2.3: The Mean, Median and Standard Deviation"
   ]
  },
  {
   "cell_type": "markdown",
   "metadata": {},
   "source": [
    "<div style=\"border-left: 3px solid #000; padding: 1px; padding-left: 10px; background: #f0f0ff; \">\n",
    "\n",
    "Let's calculate the **mean** of the projection densities at the medial mammillary nucleus.\n",
    "</div>"
   ]
  },
  {
   "cell_type": "code",
   "execution_count": 7,
   "metadata": {},
   "outputs": [
    {
     "data": {
      "text/plain": [
       "0.23557054765769622"
      ]
     },
     "execution_count": 7,
     "metadata": {},
     "output_type": "execute_result"
    }
   ],
   "source": [
    "sub_mean = sum(proj_dens) / len(proj_dens)\n",
    "sub_mean"
   ]
  },
  {
   "cell_type": "markdown",
   "metadata": {},
   "source": [
    "<div style=\"border-left: 3px solid #000; padding: 1px; padding-left: 10px; background: #f0f0ff; \">\n",
    "\n",
    "Find the **median** of the projection densities at the medial mammillary nucleus.\n",
    "</div>"
   ]
  },
  {
   "cell_type": "code",
   "execution_count": 8,
   "metadata": {},
   "outputs": [
    {
     "data": {
      "text/plain": [
       "0.24814843696811198"
      ]
     },
     "execution_count": 8,
     "metadata": {},
     "output_type": "execute_result"
    }
   ],
   "source": [
    "sub_median = medial_mammillary.sort_values('projection_density', ascending=False)['projection_density'].values[2]\n",
    "sub_median"
   ]
  },
  {
   "cell_type": "markdown",
   "metadata": {},
   "source": [
    "<div style=\"border-left: 3px solid #000; padding: 1px; padding-left: 10px; background: #f0f0ff; \">\n",
    "\n",
    "Now find the **standard deviation** of the projection densities at the medial mammillary nucleus.\n",
    "\n",
    "Recall:\n",
    "\n",
    "$$\\sigma = \\sqrt{\\sum_{i=1}^N \\frac{(x-\\mu)^2}{N - 1}}$$\n",
    "\n",
    "* $\\sigma$ = standard deviation\n",
    "* $x$ = data\n",
    "* $\\mu$ = mean\n",
    "* $N$ = number of values\n",
    "</div>"
   ]
  },
  {
   "cell_type": "code",
   "execution_count": 9,
   "metadata": {},
   "outputs": [
    {
     "data": {
      "text/plain": [
       "0.17050709841601444"
      ]
     },
     "execution_count": 9,
     "metadata": {},
     "output_type": "execute_result"
    }
   ],
   "source": [
    "sub_std = np.sqrt(sum((proj_dens - sub_mean)**2) / (len(proj_dens) - 1))\n",
    "sub_std"
   ]
  },
  {
   "cell_type": "markdown",
   "metadata": {},
   "source": [
    "## Part 2.4: Average Projection Densities"
   ]
  },
  {
   "cell_type": "markdown",
   "metadata": {},
   "source": [
    "<div style=\"border-left: 3px solid #000; padding: 1px; padding-left: 10px; background: #f0f0ff; \">\n",
    "    \n",
    "Using our statistical analysis, we can observe the average projection densities at the top 20 sites where the subiculum maps to for the 5 wildtype injections.\n",
    "</div>"
   ]
  },
  {
   "cell_type": "code",
   "execution_count": 12,
   "metadata": {},
   "outputs": [
    {
     "data": {
      "image/png": "[encoded data removed]",
      "text/plain": [
       "<Figure size 432x288 with 1 Axes>"
      ]
     },
     "metadata": {
      "needs_background": "light"
     },
     "output_type": "display_data"
    }
   ],
   "source": [
    "# Run this cell\n",
    "\n",
    "# We can combine groupby and mean to find the average projection density across experiments for each summary structure\n",
    "unionizes_set_mean = (unionizes_set.groupby('structure_id', as_index = False)['projection_density'].mean())\n",
    "\n",
    "# Again, add a column with summary structure acronyms so we can interpret the unionizes more easily\n",
    "names = [name_map[strid] for strid in unionizes_set_mean['structure_id']]\n",
    "unionizes_set_mean['structure_name'] = names\n",
    "unionizes_set_mean.sort_values(by = 'projection_density', ascending = False, inplace = True)\n",
    "\n",
    "# Plot the 20 structures with the highest average projection density across all wild type Subiculum injections\n",
    "unionizes_set_mean[:20].plot('structure_name', 'projection_density', kind='barh')\n",
    "plt.gca().invert_yaxis()\n",
    "plt.title('Average Unionize Data for %i injections'%len(experiment_set));"
   ]
  },
  {
   "cell_type": "code",
   "execution_count": 13,
   "metadata": {},
   "outputs": [
    {
     "data": {
      "text/html": [
       "<div>\n",
       "<style scoped>\n",
       "    .dataframe tbody tr th:only-of-type {\n",
       "        vertical-align: middle;\n",
       "    }\n",
       "\n",
       "    .dataframe tbody tr th {\n",
       "        vertical-align: top;\n",
       "    }\n",
       "\n",
       "    .dataframe thead th {\n",
       "        text-align: right;\n",
       "    }\n",
       "</style>\n",
       "<table border=\"1\" class=\"dataframe\">\n",
       "  <thead>\n",
       "    <tr style=\"text-align: right;\">\n",
       "      <th></th>\n",
       "      <th>structure_name</th>\n",
       "      <th>mean_projection_density</th>\n",
       "      <th>stdev</th>\n",
       "    </tr>\n",
       "  </thead>\n",
       "  <tbody>\n",
       "    <tr>\n",
       "      <th>145</th>\n",
       "      <td>Medial mammillary nucleus</td>\n",
       "      <td>0.235571</td>\n",
       "      <td>0.170507</td>\n",
       "    </tr>\n",
       "    <tr>\n",
       "      <th>282</th>\n",
       "      <td>Presubiculum</td>\n",
       "      <td>0.156300</td>\n",
       "      <td>0.164140</td>\n",
       "    </tr>\n",
       "    <tr>\n",
       "      <th>35</th>\n",
       "      <td>Anteromedial nucleus</td>\n",
       "      <td>0.137534</td>\n",
       "      <td>0.125943</td>\n",
       "    </tr>\n",
       "    <tr>\n",
       "      <th>308</th>\n",
       "      <td>Perifornical nucleus</td>\n",
       "      <td>0.136466</td>\n",
       "      <td>0.101008</td>\n",
       "    </tr>\n",
       "    <tr>\n",
       "      <th>146</th>\n",
       "      <td>Subiculum</td>\n",
       "      <td>0.124839</td>\n",
       "      <td>0.083361</td>\n",
       "    </tr>\n",
       "  </tbody>\n",
       "</table>\n",
       "</div>"
      ],
      "text/plain": [
       "                structure_name  mean_projection_density     stdev\n",
       "145  Medial mammillary nucleus                 0.235571  0.170507\n",
       "282               Presubiculum                 0.156300  0.164140\n",
       "35        Anteromedial nucleus                 0.137534  0.125943\n",
       "308       Perifornical nucleus                 0.136466  0.101008\n",
       "146                  Subiculum                 0.124839  0.083361"
      ]
     },
     "execution_count": 13,
     "metadata": {},
     "output_type": "execute_result"
    }
   ],
   "source": [
    "# look at the data\n",
    "# re-generate means so they are in the same order as standard deviation\n",
    "unionizes_set_mean = (\n",
    "    unionizes_set.groupby('structure_id', as_index = False)[\n",
    "    'projection_density'].mean())\n",
    "\n",
    "# generate a second data frame with standard deviations\n",
    "unionizes_set_std = (\n",
    "    unionizes_set.groupby('structure_id', as_index = False)[\n",
    "    'projection_density'].std())\n",
    "\n",
    "# find names from structure ids\n",
    "names = [name_map[strid] for strid in unionizes_set_mean['structure_id']]\n",
    "\n",
    "# combine names, mean, and standard deviation into one dataframe for easy plotting\n",
    "set_mean_std = pd.DataFrame({'structure_name': names, \n",
    "                            'mean_projection_density': unionizes_set_mean['projection_density'], \n",
    "                            'stdev':  unionizes_set_std['projection_density']\n",
    "                            })\n",
    "\n",
    "# sort the dataframe to get the top 20 values on top\n",
    "set_mean_std.sort_values(by = 'mean_projection_density', ascending = False, inplace = True)\n",
    "\n",
    "set_mean_std.head()"
   ]
  },
  {
   "cell_type": "markdown",
   "metadata": {},
   "source": [
    "<div style=\"border-left: 3px solid #000; padding: 1px; padding-left: 10px; background: #f0f0ff; \">\n",
    "    \n",
    "Do your results match those in our visualization and the table above?\n",
    "</div>"
   ]
  },
  {
   "cell_type": "markdown",
   "metadata": {
    "collapsed": true
   },
   "source": [
    "## Part 3: Bootstrap"
   ]
  },
  {
   "cell_type": "markdown",
   "metadata": {},
   "source": [
    "<div style=\"border-left: 3px solid #000; padding: 1px; padding-left: 10px; background: #f0f0ff; \">\n",
    "\n",
    "For this part of the lab, we will apply a technique called boostraping to analyze the probability of a structure being a part of a circuit. We will start off with looking at the Primary Visual Cortex since it has more wildtype injections than the subiculum.\n",
    "</div>"
   ]
  },
  {
   "cell_type": "code",
   "execution_count": 14,
   "metadata": {},
   "outputs": [
    {
     "name": "stdout",
     "output_type": "stream",
     "text": [
      "Total number of experiments in the Primary visual area: 33\n",
      "Primary visual area id: 385\n"
     ]
    }
   ],
   "source": [
    "# Run this cell\n",
    "VISp = structure_tree.get_structures_by_name([\"Primary visual area\"])\n",
    "VISp_id = VISp[0]['id']\n",
    "visual_experiments = mcc.get_experiments(injection_structure_ids=[VISp_id]) \n",
    "visual_experiment_set = [exp['id'] for exp in visual_experiments if exp['transgenic_line'] == None]\n",
    "visual_data = pd.DataFrame(visual_experiment_set)\n",
    "print('Total number of experiments in the Primary visual area:', len(visual_data))\n",
    "print('Primary visual area id:', VISp_id)"
   ]
  },
  {
   "cell_type": "markdown",
   "metadata": {},
   "source": [
    "<div style=\"border-left: 3px solid #000; padding: 1px; padding-left: 10px; background: #f0f0ff; \">\n",
    "\n",
    "In the cell above, we obtain the structure id for the **Primary Visual Area** and filter the number of experiments to wildtype (transgenic line == None). This was the same procedure that was done in the subiculum but condensed into one cell. Try to follow along, but don't focus too much on the code. \n",
    "\n",
    "Next, we will obtain a **unionizes_set** similar to the one obtained for the subiculum. The unionizes set is a DataFrame that consists of all of the structures that the Primary visual area projects to for every injection. We named it visual_unionizes_set to differentiate between the earlier unionizes_set.\n",
    "</div>"
   ]
  },
  {
   "cell_type": "code",
   "execution_count": 15,
   "metadata": {},
   "outputs": [
    {
     "name": "stderr",
     "output_type": "stream",
     "text": [
      "/anaconda3/lib/python3.7/site-packages/allensdk/api/cache.py:346: FutureWarning: from_csv is deprecated. Please use read_csv(...) instead. Note that some of the default arguments are different, so please refer to the documentation for from_csv when changing your function calls\n",
      "  data = reader(path)\n"
     ]
    },
    {
     "data": {
      "text/html": [
       "<div>\n",
       "<style scoped>\n",
       "    .dataframe tbody tr th:only-of-type {\n",
       "        vertical-align: middle;\n",
       "    }\n",
       "\n",
       "    .dataframe tbody tr th {\n",
       "        vertical-align: top;\n",
       "    }\n",
       "\n",
       "    .dataframe thead th {\n",
       "        text-align: right;\n",
       "    }\n",
       "</style>\n",
       "<table border=\"1\" class=\"dataframe\">\n",
       "  <thead>\n",
       "    <tr style=\"text-align: right;\">\n",
       "      <th></th>\n",
       "      <th>hemisphere_id</th>\n",
       "      <th>id</th>\n",
       "      <th>is_injection</th>\n",
       "      <th>max_voxel_density</th>\n",
       "      <th>max_voxel_x</th>\n",
       "      <th>max_voxel_y</th>\n",
       "      <th>max_voxel_z</th>\n",
       "      <th>normalized_projection_volume</th>\n",
       "      <th>projection_density</th>\n",
       "      <th>projection_energy</th>\n",
       "      <th>projection_intensity</th>\n",
       "      <th>projection_volume</th>\n",
       "      <th>experiment_id</th>\n",
       "      <th>structure_id</th>\n",
       "      <th>sum_pixel_intensity</th>\n",
       "      <th>sum_pixels</th>\n",
       "      <th>sum_projection_pixel_intensity</th>\n",
       "      <th>sum_projection_pixels</th>\n",
       "      <th>volume</th>\n",
       "      <th>structure_name</th>\n",
       "    </tr>\n",
       "  </thead>\n",
       "  <tbody>\n",
       "    <tr>\n",
       "      <th>0</th>\n",
       "      <td>3</td>\n",
       "      <td>636132166</td>\n",
       "      <td>False</td>\n",
       "      <td>1.000000</td>\n",
       "      <td>9370</td>\n",
       "      <td>2500</td>\n",
       "      <td>9450</td>\n",
       "      <td>0.105844</td>\n",
       "      <td>0.129473</td>\n",
       "      <td>280.100383</td>\n",
       "      <td>2163.396424</td>\n",
       "      <td>0.070242</td>\n",
       "      <td>307297141</td>\n",
       "      <td>312782574</td>\n",
       "      <td>2.717960e+11</td>\n",
       "      <td>442877400.0</td>\n",
       "      <td>1.240501e+11</td>\n",
       "      <td>5.734045e+07</td>\n",
       "      <td>0.542525</td>\n",
       "      <td>Laterointermediate area</td>\n",
       "    </tr>\n",
       "    <tr>\n",
       "      <th>1</th>\n",
       "      <td>3</td>\n",
       "      <td>636130952</td>\n",
       "      <td>False</td>\n",
       "      <td>0.176642</td>\n",
       "      <td>3690</td>\n",
       "      <td>3470</td>\n",
       "      <td>6460</td>\n",
       "      <td>0.000097</td>\n",
       "      <td>0.000069</td>\n",
       "      <td>0.029395</td>\n",
       "      <td>424.604137</td>\n",
       "      <td>0.000064</td>\n",
       "      <td>307297141</td>\n",
       "      <td>44</td>\n",
       "      <td>1.842736e+11</td>\n",
       "      <td>759889792.0</td>\n",
       "      <td>2.233689e+07</td>\n",
       "      <td>5.260639e+04</td>\n",
       "      <td>0.930865</td>\n",
       "      <td>Infralimbic area</td>\n",
       "    </tr>\n",
       "    <tr>\n",
       "      <th>2</th>\n",
       "      <td>3</td>\n",
       "      <td>636131320</td>\n",
       "      <td>False</td>\n",
       "      <td>0.000000</td>\n",
       "      <td>0</td>\n",
       "      <td>0</td>\n",
       "      <td>0</td>\n",
       "      <td>0.000000</td>\n",
       "      <td>0.000000</td>\n",
       "      <td>0.000000</td>\n",
       "      <td>0.000000</td>\n",
       "      <td>0.000000</td>\n",
       "      <td>307297141</td>\n",
       "      <td>246</td>\n",
       "      <td>7.140429e+09</td>\n",
       "      <td>123998400.0</td>\n",
       "      <td>0.000000e+00</td>\n",
       "      <td>0.000000e+00</td>\n",
       "      <td>0.151898</td>\n",
       "      <td>Midbrain reticular nucleus, retrorubral area</td>\n",
       "    </tr>\n",
       "    <tr>\n",
       "      <th>3</th>\n",
       "      <td>3</td>\n",
       "      <td>636131638</td>\n",
       "      <td>False</td>\n",
       "      <td>0.000000</td>\n",
       "      <td>0</td>\n",
       "      <td>0</td>\n",
       "      <td>0</td>\n",
       "      <td>0.000000</td>\n",
       "      <td>0.000000</td>\n",
       "      <td>0.000000</td>\n",
       "      <td>0.000000</td>\n",
       "      <td>0.000000</td>\n",
       "      <td>307297141</td>\n",
       "      <td>460</td>\n",
       "      <td>5.506341e+08</td>\n",
       "      <td>8535600.0</td>\n",
       "      <td>0.000000e+00</td>\n",
       "      <td>0.000000e+00</td>\n",
       "      <td>0.010456</td>\n",
       "      <td>Midbrain trigeminal nucleus</td>\n",
       "    </tr>\n",
       "    <tr>\n",
       "      <th>4</th>\n",
       "      <td>3</td>\n",
       "      <td>636132128</td>\n",
       "      <td>False</td>\n",
       "      <td>0.000000</td>\n",
       "      <td>0</td>\n",
       "      <td>0</td>\n",
       "      <td>0</td>\n",
       "      <td>0.000000</td>\n",
       "      <td>0.000000</td>\n",
       "      <td>0.000000</td>\n",
       "      <td>0.000000</td>\n",
       "      <td>0.000000</td>\n",
       "      <td>307297141</td>\n",
       "      <td>599626923</td>\n",
       "      <td>4.878733e+08</td>\n",
       "      <td>13030200.0</td>\n",
       "      <td>0.000000e+00</td>\n",
       "      <td>0.000000e+00</td>\n",
       "      <td>0.015962</td>\n",
       "      <td>Subcommissural organ</td>\n",
       "    </tr>\n",
       "  </tbody>\n",
       "</table>\n",
       "</div>"
      ],
      "text/plain": [
       "   hemisphere_id         id  is_injection  max_voxel_density  max_voxel_x  \\\n",
       "0              3  636132166         False           1.000000         9370   \n",
       "1              3  636130952         False           0.176642         3690   \n",
       "2              3  636131320         False           0.000000            0   \n",
       "3              3  636131638         False           0.000000            0   \n",
       "4              3  636132128         False           0.000000            0   \n",
       "\n",
       "   max_voxel_y  max_voxel_z  normalized_projection_volume  projection_density  \\\n",
       "0         2500         9450                      0.105844            0.129473   \n",
       "1         3470         6460                      0.000097            0.000069   \n",
       "2            0            0                      0.000000            0.000000   \n",
       "3            0            0                      0.000000            0.000000   \n",
       "4            0            0                      0.000000            0.000000   \n",
       "\n",
       "   projection_energy  projection_intensity  projection_volume  experiment_id  \\\n",
       "0         280.100383           2163.396424           0.070242      307297141   \n",
       "1           0.029395            424.604137           0.000064      307297141   \n",
       "2           0.000000              0.000000           0.000000      307297141   \n",
       "3           0.000000              0.000000           0.000000      307297141   \n",
       "4           0.000000              0.000000           0.000000      307297141   \n",
       "\n",
       "   structure_id  sum_pixel_intensity   sum_pixels  \\\n",
       "0     312782574         2.717960e+11  442877400.0   \n",
       "1            44         1.842736e+11  759889792.0   \n",
       "2           246         7.140429e+09  123998400.0   \n",
       "3           460         5.506341e+08    8535600.0   \n",
       "4     599626923         4.878733e+08   13030200.0   \n",
       "\n",
       "   sum_projection_pixel_intensity  sum_projection_pixels    volume  \\\n",
       "0                    1.240501e+11           5.734045e+07  0.542525   \n",
       "1                    2.233689e+07           5.260639e+04  0.930865   \n",
       "2                    0.000000e+00           0.000000e+00  0.151898   \n",
       "3                    0.000000e+00           0.000000e+00  0.010456   \n",
       "4                    0.000000e+00           0.000000e+00  0.015962   \n",
       "\n",
       "                                 structure_name  \n",
       "0                       Laterointermediate area  \n",
       "1                              Infralimbic area  \n",
       "2  Midbrain reticular nucleus, retrorubral area  \n",
       "3                   Midbrain trigeminal nucleus  \n",
       "4                          Subcommissural organ  "
      ]
     },
     "execution_count": 15,
     "metadata": {},
     "output_type": "execute_result"
    }
   ],
   "source": [
    "visual_unionizes_set = mcc.get_structure_unionizes(visual_experiment_set,\n",
    "                                               is_injection = False,\n",
    "                                                structure_ids = summary_structure_ids,\n",
    "                                               hemisphere_ids = [3])\n",
    "visual_names = [name_map[strid] for strid in visual_unionizes_set['structure_id']]\n",
    "visual_unionizes_set['structure_name'] = visual_names\n",
    "visual_unionizes_set.head()"
   ]
  },
  {
   "cell_type": "markdown",
   "metadata": {},
   "source": [
    "<div style=\"border-left: 3px solid #000; padding: 1px; padding-left: 10px; background: #f0f0ff; \">\n",
    "\n",
    "In the next cell, we want to obtain the projection densities for the different injections to the Primary visual area that project to the medial mammillary nucleus. We do this in the first line and we name it **mmn** to differentiate from the variable **medial_mammillary**. Next, we arrange the projection densities from biggest to smallest.\n",
    "</div>"
   ]
  },
  {
   "cell_type": "code",
   "execution_count": 16,
   "metadata": {},
   "outputs": [
    {
     "data": {
      "text/plain": [
       "array([3.53851879e-01, 5.54855498e-02, 6.99215228e-04, 1.87557598e-04,\n",
       "       1.59921258e-04, 1.27419001e-04, 1.13553904e-04, 1.05397442e-04,\n",
       "       8.50623343e-05, 7.62672564e-05, 6.96496052e-05, 5.50569880e-05,\n",
       "       4.81055549e-05, 3.82561235e-05, 3.21326946e-05, 3.04819335e-05,\n",
       "       2.96921059e-05, 2.64879792e-05, 1.21357127e-05, 9.85602408e-06,\n",
       "       9.83749942e-06, 9.46315358e-06, 6.95636149e-06, 6.37881662e-06,\n",
       "       5.13140928e-06, 2.05455434e-06, 1.48721138e-06, 1.32933310e-06,\n",
       "       4.21888049e-07, 7.88465769e-08, 2.38114485e-08, 3.44629633e-09,\n",
       "       0.00000000e+00])"
      ]
     },
     "execution_count": 16,
     "metadata": {},
     "output_type": "execute_result"
    }
   ],
   "source": [
    "mmn = visual_unionizes_set[visual_unionizes_set['structure_name'] == 'Medial mammillary nucleus']\n",
    "mmn = mmn['projection_density'].sort_values(ascending=False).values\n",
    "mmn"
   ]
  },
  {
   "cell_type": "markdown",
   "metadata": {},
   "source": [
    "<div style=\"border-left: 3px solid #000; padding: 1px; padding-left: 10px; background: #f0f0ff; \">\n",
    "    \n",
    "Next, we are going to create a dataframe that we will be able to use for the bootstrapping. \n",
    "</div>"
   ]
  },
  {
   "cell_type": "code",
   "execution_count": 17,
   "metadata": {},
   "outputs": [
    {
     "data": {
      "text/html": [
       "<div>\n",
       "<style scoped>\n",
       "    .dataframe tbody tr th:only-of-type {\n",
       "        vertical-align: middle;\n",
       "    }\n",
       "\n",
       "    .dataframe tbody tr th {\n",
       "        vertical-align: top;\n",
       "    }\n",
       "\n",
       "    .dataframe thead th {\n",
       "        text-align: right;\n",
       "    }\n",
       "</style>\n",
       "<table border=\"1\" class=\"dataframe\">\n",
       "  <thead>\n",
       "    <tr style=\"text-align: right;\">\n",
       "      <th></th>\n",
       "      <th>Medial mammillary nucleus</th>\n",
       "    </tr>\n",
       "  </thead>\n",
       "  <tbody>\n",
       "    <tr>\n",
       "      <th>0</th>\n",
       "      <td>0.353852</td>\n",
       "    </tr>\n",
       "    <tr>\n",
       "      <th>1</th>\n",
       "      <td>0.055486</td>\n",
       "    </tr>\n",
       "    <tr>\n",
       "      <th>2</th>\n",
       "      <td>0.000699</td>\n",
       "    </tr>\n",
       "    <tr>\n",
       "      <th>3</th>\n",
       "      <td>0.000188</td>\n",
       "    </tr>\n",
       "    <tr>\n",
       "      <th>4</th>\n",
       "      <td>0.000160</td>\n",
       "    </tr>\n",
       "  </tbody>\n",
       "</table>\n",
       "</div>"
      ],
      "text/plain": [
       "   Medial mammillary nucleus\n",
       "0                   0.353852\n",
       "1                   0.055486\n",
       "2                   0.000699\n",
       "3                   0.000188\n",
       "4                   0.000160"
      ]
     },
     "execution_count": 17,
     "metadata": {},
     "output_type": "execute_result"
    }
   ],
   "source": [
    "mmn_data = {'Medial mammillary nucleus': mmn}\n",
    "mmn_dataframe = pd.DataFrame(data=mmn_data)\n",
    "mmn_dataframe.head()"
   ]
  },
  {
   "cell_type": "markdown",
   "metadata": {},
   "source": [
    "<div style=\"border-left: 3px solid #000; padding: 1px; padding-left: 10px; background: #f0f0ff; \">\n",
    "    \n",
    "The essence of bootstrapping is reliant on a population. In this case, the population is going to be that of the neurons that project to the medial mammillary nucleus from the primary visual area. We obtained a sample, the 33 wildtype experiments from the primary visual area. \n",
    "\n",
    "In the cell below, we will resample the samples, which will give us an estimate of the real population distribution, and will give us a \"confidence interval\" for where the real mean of the population should be. We will do this 5000 times to make sure that our number is big enough for our data to be accurate.\n",
    "</div>"
   ]
  },
  {
   "cell_type": "code",
   "execution_count": 18,
   "metadata": {},
   "outputs": [],
   "source": [
    "# Run this cell\n",
    "means = []\n",
    "for i in np.arange(5000):\n",
    "    resampled = mmn_dataframe.sample(n = 33, replace = True)\n",
    "    mean = resampled.mean()\n",
    "    means = np.append(means, mean)"
   ]
  },
  {
   "cell_type": "markdown",
   "metadata": {},
   "source": [
    "<div style=\"border-left: 3px solid #000; padding: 1px; padding-left: 10px; background: #f0f0ff; \">\n",
    "    \n",
    "We will now graph the resampled means in the histogram below. \n",
    "</div>"
   ]
  },
  {
   "cell_type": "code",
   "execution_count": 19,
   "metadata": {},
   "outputs": [
    {
     "data": {
      "image/png": "[encoded data removed]",
      "text/plain": [
       "<Figure size 432x288 with 1 Axes>"
      ]
     },
     "metadata": {
      "needs_background": "light"
     },
     "output_type": "display_data"
    }
   ],
   "source": [
    "# Run this cell\n",
    "mmn = {'Projection Density Means': means}\n",
    "mmn_means = pd.DataFrame(data=mmn).hist()"
   ]
  },
  {
   "cell_type": "markdown",
   "metadata": {
    "collapsed": true
   },
   "source": [
    "<div style=\"border-left: 3px solid #000; padding: 1px; padding-left: 10px; background: #f0f0ff; \">\n",
    "    \n",
    "Now, let's overlay the mean projection density from the subiculum to the medial mammillary nucleus with the historygram above.\n",
    "</div>"
   ]
  },
  {
   "cell_type": "code",
   "execution_count": 20,
   "metadata": {},
   "outputs": [
    {
     "data": {
      "text/plain": [
       "<matplotlib.lines.Line2D at 0x1a26d0f358>"
      ]
     },
     "execution_count": 20,
     "metadata": {},
     "output_type": "execute_result"
    },
    {
     "data": {
      "image/png": "[encoded data removed]",
      "text/plain": [
       "<Figure size 432x288 with 1 Axes>"
      ]
     },
     "metadata": {
      "needs_background": "light"
     },
     "output_type": "display_data"
    }
   ],
   "source": [
    "# Run this cell\n",
    "mmn = {'Projection Density Means': means}\n",
    "mmn_means = pd.DataFrame(data=mmn).hist()\n",
    "plt.axvline(sub_mean, color = 'k')"
   ]
  },
  {
   "cell_type": "markdown",
   "metadata": {
    "collapsed": true
   },
   "source": [
    "<div style=\"border-left: 3px solid #000; padding: 1px; padding-left: 10px; background: #f0f0ff; \">\n",
    "    \n",
    "What can we see about the difference in projection density means to the medial mammillary nucleus from the primary visual area and the subiculum?\n",
    "</div>"
   ]
  },
  {
   "cell_type": "markdown",
   "metadata": {
    "collapsed": true
   },
   "source": [
    "*Your answer here*"
   ]
  },
  {
   "cell_type": "markdown",
   "metadata": {
    "collapsed": true
   },
   "source": [
    "<div style=\"border-left: 3px solid #000; padding: 1px; padding-left: 10px; background: #f0f0ff; \">\n",
    "    \n",
    "From the histogram above, it is obvious that the mean projection density from the subiculum and the one from the primary visual area do not come from the same underlying population distribution, due to the sharp contrast in numbers. Usually, this analysis would be done using p-values, (which will be included as optional exercises afterwards) but because the contrast is so big, we can skip this step. \n",
    "\n",
    "<h3 align=\"center\">What does this mean in terms of connectivity?</h3>\n",
    "\n",
    "It makes sense that the mean projection density from the subiculum to the medial mammillary nucleus be so high due to this being the connectivity in the Papez circuit. It also makes sense that the mean projection density is so low for the primary visual cortex, due to the fact that this structure is not part of the circuit (even though there is still minimal connectivity)."
   ]
  },
  {
   "cell_type": "markdown",
   "metadata": {},
   "source": [
    "<div style=\"border-left: 3px solid #000; padding: 1px; padding-left: 10px; background: #f0f0ff; \">\n",
    "    \n",
    "Below, we will use the function **quantile** to come up with the 95% interval. This interval says that the true mean of all projection densities from the primary visual area to the medial mammillary nucleus is likely to be between these two values.\n",
    "</div>"
   ]
  },
  {
   "cell_type": "code",
   "execution_count": 21,
   "metadata": {},
   "outputs": [
    {
     "data": {
      "text/plain": [
       "[4.3343283011022625e-05, 0.03558799887880502]"
      ]
     },
     "execution_count": 21,
     "metadata": {},
     "output_type": "execute_result"
    }
   ],
   "source": [
    "mmn = {'Projection Density Means': means}\n",
    "mmn_means = pd.DataFrame(data=mmn)\n",
    "percentile = list(mmn_means.quantile([0.025, 0.975])['Projection Density Means'])\n",
    "percentile"
   ]
  },
  {
   "cell_type": "code",
   "execution_count": 22,
   "metadata": {},
   "outputs": [
    {
     "data": {
      "text/plain": [
       "<matplotlib.collections.LineCollection at 0x1a2746c208>"
      ]
     },
     "execution_count": 22,
     "metadata": {},
     "output_type": "execute_result"
    },
    {
     "data": {
      "image/png": "[encoded data removed]",
      "text/plain": [
       "<Figure size 432x288 with 1 Axes>"
      ]
     },
     "metadata": {
      "needs_background": "light"
     },
     "output_type": "display_data"
    }
   ],
   "source": [
    "# Run this cell\n",
    "mmn = {'Projection Density Means': means}\n",
    "mmn_means = pd.DataFrame(data=mmn).hist()\n",
    "plt.hlines(y=0, xmin=percentile[0], xmax=percentile[1], linewidth=10, color = 'y')"
   ]
  },
  {
   "cell_type": "markdown",
   "metadata": {},
   "source": [
    "<div style=\"border-left: 3px solid #000; padding: 1px; padding-left: 10px; background: #f0f0ff; \">\n",
    "    \n",
    "Below, we will calculate the ***p-value*** using the above distribution and a made-up mean named **mystery_mean** that will simulate a mean projection density obtained from one of the injections into the primary visual area that projects to the medial mammillary nucleus. We must come up with a null hypothesis and an alternative hypothesis in oder to use the p-value.\n",
    "\n",
    "***Null hypothesis:*** The mystery_mean comes from the same underlying distribution as that of the medial mammilary nucleus. \n",
    "\n",
    "***Alternative hypothesis:*** The mystery_mean does not come from the same underlying distribution, and any correlation is purely due to chance. \n",
    "\n",
    "</div>"
   ]
  },
  {
   "cell_type": "code",
   "execution_count": 23,
   "metadata": {},
   "outputs": [],
   "source": [
    "# Run this cell\n",
    "mystery_mean = 0.0434\n",
    "mmn = {'Projection Density Means': means}\n",
    "mmn_means = pd.DataFrame(data=mmn)"
   ]
  },
  {
   "cell_type": "code",
   "execution_count": 24,
   "metadata": {},
   "outputs": [
    {
     "data": {
      "text/plain": [
       "<matplotlib.lines.Line2D at 0x1a269e5588>"
      ]
     },
     "execution_count": 24,
     "metadata": {},
     "output_type": "execute_result"
    },
    {
     "data": {
      "image/png": "[encoded data removed]",
      "text/plain": [
       "<Figure size 432x288 with 1 Axes>"
      ]
     },
     "metadata": {
      "needs_background": "light"
     },
     "output_type": "display_data"
    }
   ],
   "source": [
    "mmn_means.hist()\n",
    "plt.axvline(mystery_mean, color = 'k')"
   ]
  },
  {
   "cell_type": "code",
   "execution_count": 25,
   "metadata": {},
   "outputs": [
    {
     "data": {
      "text/plain": [
       "0.0122"
      ]
     },
     "execution_count": 25,
     "metadata": {},
     "output_type": "execute_result"
    }
   ],
   "source": [
    "p_value = np.average(mmn_means > mystery_mean)\n",
    "p_value"
   ]
  },
  {
   "cell_type": "markdown",
   "metadata": {},
   "source": [
    "<div style=\"border-left: 3px solid #000; padding: 1px; padding-left: 10px; background: #f0f0ff; \">\n",
    "    \n",
    "Since the p_value is less than 0.05 (chosen by convention), we can reject the null hypothesis. This means that our mystery_mean did not come from the same underlying distribution as the means from the primary visual area, so we can assume that our mystery_mean is not coming from the primary visual area.\n",
    "\n",
    "</div>"
   ]
  },
  {
   "cell_type": "markdown",
   "metadata": {
    "collapsed": true
   },
   "source": [
    "## Conclusion"
   ]
  },
  {
   "cell_type": "markdown",
   "metadata": {
    "collapsed": true
   },
   "source": [
    "<div style=\"border-left: 3px solid #000; padding: 1px; padding-left: 10px; background: #f0f0ff; \">\n",
    "    \n",
    "We hoped that this lab served as a good introductions to the tools and the statistical analysis used in neuroinformatics. Neuroinformatics is a growing field and every year, new techniques are being invented for collection of large neural information. Because of this, it is important to know how to analyze and manipulate this data. \n",
    "\n",
    "If you liked the lab and would like to further your data science techniques, below are some introductary courses that may interest you:\n",
    "\n",
    "***Data 8: The Foundations of Data Science***\n",
    "\n",
    "***Data 100: Principles and Techniques of Data Science***\n",
    "\n",
    "***Prob 140: Probability for Data Science***\n",
    "</div>"
   ]
  }
 ],
 "metadata": {
  "kernelspec": {
   "display_name": "Python 3",
   "language": "python",
   "name": "python3"
  },
  "language_info": {
   "codemirror_mode": {
    "name": "ipython",
    "version": 3
   },
   "file_extension": ".py",
   "mimetype": "text/x-python",
   "name": "python",
   "nbconvert_exporter": "python",
   "pygments_lexer": "ipython3",
   "version": "3.7.1"
  }
 },
 "nbformat": 4,
 "nbformat_minor": 2
}
