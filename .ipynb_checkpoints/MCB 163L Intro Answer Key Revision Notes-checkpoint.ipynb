{
 "cells": [
  {
   "cell_type": "markdown",
   "metadata": {},
   "source": [
    "# Berkeley Data Science Modules: Introduction to Data Science in Python\n",
    "\n",
    "<span style=\"color:red\">General note: when referring to code in a markdown cell, it's typically easier to read and understand if the font for code is different than the rest of the text. That is why we use the \\`\\` around code. I think this is more effective than bolding (although you can do both): ex. `data_frame.sort_values()` is more easily understood as code than **data_frame.sort_values()**. This way, you can also reserve using bold to emphasize not code but **key words** that you want students to notice. Make this change if you acn, across this notebook and also the lab notebook.</span>"
   ]
  },
  {
   "cell_type": "markdown",
   "metadata": {},
   "source": [
    "# The Jupyter  Notebook <a id='section 0'></a>"
   ]
  },
  {
   "cell_type": "markdown",
   "metadata": {},
   "source": [
    "<div style=\"border-left: 3px solid #003262; padding: 1px; padding-left: 10px; background: #f0f0ff; \">\n",
    "    \n",
    "Welcome to the Jupyter Notebook! **Notebooks** are documents that can contain text, code, visualizations, and more. \n",
    "\n",
    "A notebook is composed of rectangular sections called **cells**. There are 2 kinds of cells: markdown and code. A **markdown cell**, such as this one, contains text. A **code cell** contains code in Python, a programming language that we will be using for the remainder of this module. You can select any cell by clicking it once. After a cell is selected, you can navigate the notebook using the up and down arrow keys.\n",
    "\n",
    "To run a code cell once it's been selected, \n",
    "- press Shift-Enter, or\n",
    "- click the Run button in the toolbar at the top of the screen. \n",
    "\n",
    "If a code cell is running, you will see an asterisk (\\*) appear in the square brackets to the left of the cell. Once the cell has finished running, a number will replace the asterisk and any output from the code will appear under the cell."
   ]
  },
  {
   "cell_type": "code",
   "execution_count": 4,
   "metadata": {},
   "outputs": [
    {
     "name": "stdout",
     "output_type": "stream",
     "text": [
      "Hello World!\n"
     ]
    }
   ],
   "source": [
    "# run this cell\n",
    "print(\"Hello World!\")"
   ]
  },
  {
   "cell_type": "markdown",
   "metadata": {},
   "source": [
    "<div style=\"border-left: 3px solid #003262; padding: 1px; padding-left: 10px; background: #f0f0ff; \">\n",
    "    \n",
    "Code cells can be edited any time after they are highlighted. Try editing the next code cell to print your name."
   ]
  },
  {
   "cell_type": "code",
   "execution_count": 5,
   "metadata": {},
   "outputs": [
    {
     "name": "stdout",
     "output_type": "stream",
     "text": [
      "Hello: my name is Data Curriculum Staff\n"
     ]
    }
   ],
   "source": [
    "# edit the code to print your name\n",
    "print(\"Hello: my name is Data Curriculum Staff\")"
   ]
  },
  {
   "cell_type": "markdown",
   "metadata": {},
   "source": [
    "<div style=\"border-left: 3px solid #FDB515; padding: 1px; padding-left: 10px; background: #ffffff; \">\n",
    "\n",
    "### Saving and Loading"
   ]
  },
  {
   "cell_type": "markdown",
   "metadata": {},
   "source": [
    "<div style=\"border-left: 3px solid #003262; padding: 1px; padding-left: 10px; background: #f0f0ff; \">\n",
    "    \n",
    "Your notebook can record all of your text and code edits, as well as any graphs you generate or calculations you make. You can save the notebook in its current state by clicking Control-S, clicking the floppy disc icon in the toolbar at the top of the page, or by going to the File menu and selecting \"Save and Checkpoint\".\n",
    "\n",
    "The next time you open the notebook, it will look the same as when you last saved it.\n",
    "\n",
    "**Note:** after loading a notebook you will see all the outputs (graphs, computations, etc) from your last session, but you won't be able to use any variables you assigned or functions you defined. You can get the functions and variables back by re-running the cells where they were defined- the easiest way is to highlight the cell where you left off work, then go to the Cell menu at the top of the screen and click \"Run all above\". You can also use this menu to run all cells in the notebook by clicking \"Run all\"."
   ]
  },
  {
   "cell_type": "markdown",
   "metadata": {},
   "source": [
    "<div style=\"border-left: 3px solid #003262; padding: 1px; padding-left: 10px; background: #f0f0ff; \">\n",
    "    \n",
    "Before we begin, we'll need a few extra tools to conduct our analysis. Run the next cell to load some code packages that we'll use later. \n",
    "\n",
    "Note: this cell MUST be run in order for most of the rest of the notebook to work."
   ]
  },
  {
   "cell_type": "code",
   "execution_count": 90,
   "metadata": {
    "collapsed": true
   },
   "outputs": [],
   "source": [
    "# dependencies: THIS CELL MUST BE RUN\n",
    "import numpy as np\n",
    "import math\n",
    "import pandas as pd\n",
    "import seaborn as sns\n",
    "import matplotlib.pyplot as plt\n",
    "plt.style.use('fivethirtyeight')\n",
    "import ipywidgets as widgets\n",
    "%matplotlib inline"
   ]
  },
  {
   "cell_type": "markdown",
   "metadata": {},
   "source": [
    "# 1. Python <a id='section 1'></a>"
   ]
  },
  {
   "cell_type": "markdown",
   "metadata": {},
   "source": [
    "<div style=\"border-left: 3px solid #003262; padding: 1px; padding-left: 10px; background: #f0f0ff; \">\n",
    "\n",
    "**Python** is  programming language- a way for us to communicate with the computer and give it instructions. \n",
    "\n",
    "Just like any language, Python has a *vocabulary* made up of words it can understand, and a *syntax* giving the rules for how to structure communication.\n"
   ]
  },
  {
   "cell_type": "markdown",
   "metadata": {},
   "source": [
    "<div style=\"border-left: 3px solid #BC9B6A; padding: 1px; padding-left: 10px; background: #ffffff; \">\n",
    "\n",
    "### Errors <a id=\"subsection error\"></a>"
   ]
  },
  {
   "cell_type": "markdown",
   "metadata": {},
   "source": [
    "<div style=\"border-left: 3px solid #003262; padding: 1px; padding-left: 10px; background: #f0f0ff; \">\n",
    "\n",
    "**Python** is  programming language- a way for us to communicate with the computer and give it instructions. \n",
    "\n",
    "Just like any language, Python has a *vocabulary* made up of words it can understand, and a *syntax* giving the rules for how to structure communication.\n",
    "\n",
    "Python is a language, and like natural human languages, it has rules. Whenever you write code, you will often accientally break some of these rules. When you run a code cell that doesn't follow every rule exactly, Python will produce an **error message**.\n",
    "\n",
    "Errors are *normal*; experienced programmers make many errors every day. Errors are also *not dangerous*; you will not break your computer by making an error (in fact, errors are a big part of how you learn a coding language). An error is nothing more than a message from the computer saying it doesn't understand you and asking you to rewrite your command.\n",
    "\n",
    "We have made an error in the next cell.  Run it and see what happens."
   ]
  },
  {
   "cell_type": "code",
   "execution_count": 7,
   "metadata": {},
   "outputs": [
    {
     "ename": "SyntaxError",
     "evalue": "unexpected EOF while parsing (<ipython-input-7-0fbe4427aee1>, line 1)",
     "output_type": "error",
     "traceback": [
      "\u001b[0;36m  File \u001b[0;32m\"<ipython-input-7-0fbe4427aee1>\"\u001b[0;36m, line \u001b[0;32m1\u001b[0m\n\u001b[0;31m    print(\"This line is missing something.\"\u001b[0m\n\u001b[0m                                           ^\u001b[0m\n\u001b[0;31mSyntaxError\u001b[0m\u001b[0;31m:\u001b[0m unexpected EOF while parsing\n"
     ]
    }
   ],
   "source": [
    "print(\"This line is missing something.\""
   ]
  },
  {
   "cell_type": "markdown",
   "metadata": {},
   "source": [
    "<div style=\"border-left: 3px solid #003262; padding: 1px; padding-left: 10px; background: #f0f0ff; \">\n",
    "    \n",
    "The last line of the error output attempts to tell you what went wrong.  The *syntax* of a language is its structure, and this **SyntaxError** tells you that you have created an illegal structure.  \"**EOF**\" means \"end of file,\" so the message is saying Python expected you to write something more (in this case, a right parenthesis) before finishing the cell."
   ]
  },
  {
   "cell_type": "markdown",
   "metadata": {},
   "source": [
    "<div style=\"border-left: 3px solid #FDB515; padding: 1px; padding-left: 10px; background: #ffffff; \">\n",
    "\n",
    "## 1a. Data <a id='subsection 1a'></a>"
   ]
  },
  {
   "cell_type": "markdown",
   "metadata": {},
   "source": [
    "<div style=\"border-left: 3px solid #003262; padding: 1px; padding-left: 10px; background: #f0f0ff; \">\n",
    "    \n",
    "**Data** is information- the \"stuff\" we manipulate to make and test hypotheses. \n",
    "\n",
    "Almost all data you will work with broadly falls into two types: numbers and text. *Numerical data* shows up green in code cells and can be positive, negative, or include a decimal."
   ]
  },
  {
   "cell_type": "code",
   "execution_count": 8,
   "metadata": {},
   "outputs": [
    {
     "data": {
      "text/plain": [
       "3.14159"
      ]
     },
     "execution_count": 8,
     "metadata": {},
     "output_type": "execute_result"
    }
   ],
   "source": [
    "# Numerical data\n",
    "\n",
    "4\n",
    "\n",
    "87623000983\n",
    "\n",
    "-667\n",
    "\n",
    "3.14159"
   ]
  },
  {
   "cell_type": "markdown",
   "metadata": {},
   "source": [
    "<div style=\"border-left: 3px solid #003262; padding: 1px; padding-left: 10px; background: #f0f0ff; \">\n",
    "    \n",
    "Text data (also called *strings*) shows up red in code cells. Strings are enclosed in double or single quotes. Note that numbers can appear in strings."
   ]
  },
  {
   "cell_type": "code",
   "execution_count": 9,
   "metadata": {},
   "outputs": [
    {
     "data": {
      "text/plain": [
       "'3.14159'"
      ]
     },
     "execution_count": 9,
     "metadata": {},
     "output_type": "execute_result"
    }
   ],
   "source": [
    "# Strings\n",
    "\"a\"\n",
    "\n",
    "\"Hi there!\"\n",
    "\n",
    "\"We hold these truths to be self-evident that all men are created equal.\"\n",
    "\n",
    "# this is a string, NOT numerical data\n",
    "\"3.14159\""
   ]
  },
  {
   "cell_type": "markdown",
   "metadata": {},
   "source": [
    "<span style=\"color:red\">**This might be a good place to introduce arrays ^^. You explain what the different values can be, and now you can show that you can store the values in an ordered container called an array. Arrays are briefly explained later, but I think it's better to introduce it formally here.**</span>\n",
    "\n",
    "\n",
    "<div style=\"border-left: 3px solid #FDB515; padding: 1px; padding-left: 10px; background: #ffffff; \">\n",
    "\n",
    "## 1a. Expressions <a id='subsection 1a'></a>"
   ]
  },
  {
   "cell_type": "markdown",
   "metadata": {},
   "source": [
    "<div style=\"border-left: 3px solid #003262; padding: 1px; padding-left: 10px; background: #f0f0ff; \">\n",
    "\n",
    "A bit of communication in Python is called an **expression**. It tells the computer what to do with the data we give it.\n",
    "\n",
    "Here's an example of an expression."
   ]
  },
  {
   "cell_type": "code",
   "execution_count": 10,
   "metadata": {},
   "outputs": [
    {
     "data": {
      "text/plain": [
       "34"
      ]
     },
     "execution_count": 10,
     "metadata": {},
     "output_type": "execute_result"
    }
   ],
   "source": [
    "# an expression\n",
    "14 + 20"
   ]
  },
  {
   "cell_type": "markdown",
   "metadata": {},
   "source": [
    "<div style=\"border-left: 3px solid #003262; padding: 1px; padding-left: 10px; background: #f0f0ff; \">\n",
    "    \n",
    "When you run the cell, the computer **evaluates** the expression and prints the result. Note that only the last line in a code cell will be printed, unless you explicitly tell the computer you want to print the result."
   ]
  },
  {
   "cell_type": "code",
   "execution_count": 11,
   "metadata": {},
   "outputs": [
    {
     "name": "stdout",
     "output_type": "stream",
     "text": [
      "15.280000000000001\n"
     ]
    },
    {
     "data": {
      "text/plain": [
       "884"
      ]
     },
     "execution_count": 11,
     "metadata": {},
     "output_type": "execute_result"
    }
   ],
   "source": [
    "# more expressions. what gets printed and what doesn't?\n",
    "100 / 10\n",
    "\n",
    "print(4.3 + 10.98)\n",
    "\n",
    "33 - 9 * (40000 + 1)\n",
    "\n",
    "884"
   ]
  },
  {
   "cell_type": "markdown",
   "metadata": {},
   "source": [
    "<div style=\"border-left: 3px solid #003262; padding: 1px; padding-left: 10px; background: #f0f0ff; \">\n",
    "    \n",
    "Many basic arithmetic operations are built in to Python, like  **( * )**,  **( + )**,  **( - )**, and **( / )**. There are many others, which you can find information about [here](http://www.inferentialthinking.com/chapters/03/1/expressions.html). \n",
    "\n",
    "The computer evaluates arithmetic according to the PEMDAS order of operations (just like you probably learned in middle school): anything in parentheses is done first, followed by exponents, then multiplication and division, and finally addition and subtraction."
   ]
  },
  {
   "cell_type": "code",
   "execution_count": 12,
   "metadata": {},
   "outputs": [
    {
     "data": {
      "text/plain": [
       "-2.0"
      ]
     },
     "execution_count": 12,
     "metadata": {},
     "output_type": "execute_result"
    }
   ],
   "source": [
    "# before you run this cell, can you say what it should print?\n",
    "4 - 2 * (1 + 6 / 3)"
   ]
  },
  {
   "cell_type": "markdown",
   "metadata": {},
   "source": [
    "<div style=\"border-left: 3px solid #FDB515; padding: 1px; padding-left: 10px; background: #ffffff; \">\n",
    "\n",
    "## 1b. Names <a id='subsection 1b'></a>"
   ]
  },
  {
   "cell_type": "markdown",
   "metadata": {},
   "source": [
    "<div style=\"border-left: 3px solid #003262; padding: 1px; padding-left: 10px; background: #f0f0ff; \">\n",
    "    \n",
    "Sometimes, the values you work with can get cumbersome- maybe the expression that gives the value is very complicated, or maybe the value itself is long. In these cases it's useful to give the value a **name**.\n",
    "\n",
    "We can name values using what's called an *assignment* statement."
   ]
  },
  {
   "cell_type": "code",
   "execution_count": 13,
   "metadata": {
    "collapsed": true
   },
   "outputs": [],
   "source": [
    "# assigns 442 to x\n",
    "x = 442"
   ]
  },
  {
   "cell_type": "markdown",
   "metadata": {},
   "source": [
    "<div style=\"border-left: 3px solid #003262; padding: 1px; padding-left: 10px; background: #f0f0ff; \">\n",
    "    \n",
    "The assignment statement has three parts. On the left is the *name* (**x**). On the right is the *value* (442). The *equals sign* in the middle tells the computer to assign the value to the name.\n",
    "\n",
    "You'll notice that when you run the cell with the assignment, it doesn't print anything. But, if we try to access `x` again in the future, it will have the value we assigned it."
   ]
  },
  {
   "cell_type": "code",
   "execution_count": 14,
   "metadata": {},
   "outputs": [
    {
     "data": {
      "text/plain": [
       "442"
      ]
     },
     "execution_count": 14,
     "metadata": {},
     "output_type": "execute_result"
    }
   ],
   "source": [
    "# print the value of x\n",
    "x"
   ]
  },
  {
   "cell_type": "markdown",
   "metadata": {},
   "source": [
    "<div style=\"border-left: 3px solid #003262; padding: 1px; padding-left: 10px; background: #f0f0ff; \">\n",
    "    \n",
    "You can also assign names to expressions. The computer will compute the expression and assign the name to the result of the computation."
   ]
  },
  {
   "cell_type": "code",
   "execution_count": 15,
   "metadata": {},
   "outputs": [
    {
     "data": {
      "text/plain": [
       "101"
      ]
     },
     "execution_count": 15,
     "metadata": {},
     "output_type": "execute_result"
    }
   ],
   "source": [
    "y = 50 * 2 + 1\n",
    "y"
   ]
  },
  {
   "cell_type": "markdown",
   "metadata": {},
   "source": [
    "<div style=\"border-left: 3px solid #003262; padding: 1px; padding-left: 10px; background: #f0f0ff; \">\n",
    "    \n",
    "We can then use these name as if they were numbers."
   ]
  },
  {
   "cell_type": "code",
   "execution_count": 16,
   "metadata": {},
   "outputs": [
    {
     "data": {
      "text/plain": [
       "400"
      ]
     },
     "execution_count": 16,
     "metadata": {},
     "output_type": "execute_result"
    }
   ],
   "source": [
    "x - 42"
   ]
  },
  {
   "cell_type": "code",
   "execution_count": 17,
   "metadata": {},
   "outputs": [
    {
     "data": {
      "text/plain": [
       "543"
      ]
     },
     "execution_count": 17,
     "metadata": {},
     "output_type": "execute_result"
    }
   ],
   "source": [
    "x + y"
   ]
  },
  {
   "cell_type": "markdown",
   "metadata": {},
   "source": [
    "<div style=\"border-left: 3px solid #FDB515; padding: 1px; padding-left: 10px; background: #ffffff; \">\n",
    "\n",
    "## 1c. Functions <a id='subsection 1c'></a>"
   ]
  },
  {
   "cell_type": "markdown",
   "metadata": {},
   "source": [
    "<div style=\"border-left: 3px solid #003262; padding: 1px; padding-left: 10px; background: #f0f0ff; \">\n",
    "    \n",
    "We've seen that values can have names (often called **variables**), but operations may also have names. A named operation is called a **function**. Python has some functions built into it."
   ]
  },
  {
   "cell_type": "code",
   "execution_count": 18,
   "metadata": {},
   "outputs": [
    {
     "data": {
      "text/plain": [
       "<function round>"
      ]
     },
     "execution_count": 18,
     "metadata": {},
     "output_type": "execute_result"
    }
   ],
   "source": [
    "# a built-in function \n",
    "round"
   ]
  },
  {
   "cell_type": "markdown",
   "metadata": {},
   "source": [
    "<div style=\"border-left: 3px solid #003262; padding: 1px; padding-left: 10px; background: #f0f0ff; \">\n",
    "    \n",
    "Functions get used in *call expressions*, where a function is named and given values to operate on inside a set of parentheses. The **round** function returns the number it was given, rounded to the nearest whole number."
   ]
  },
  {
   "cell_type": "code",
   "execution_count": 19,
   "metadata": {},
   "outputs": [
    {
     "data": {
      "text/plain": [
       "1989"
      ]
     },
     "execution_count": 19,
     "metadata": {},
     "output_type": "execute_result"
    }
   ],
   "source": [
    "# a call expression using round\n",
    "round(1988.74699)"
   ]
  },
  {
   "cell_type": "markdown",
   "metadata": {},
   "source": [
    "<div style=\"border-left: 3px solid #003262; padding: 1px; padding-left: 10px; background: #f0f0ff; \">\n",
    "        \n",
    "A function may also be called on more than one value (called *arguments*). For instance, the **min** function takes however many arguments you'd like and returns the smallest. Multiple arguments are separated by commas. (*max* works the same way, can you guess what it does?)"
   ]
  },
  {
   "cell_type": "code",
   "execution_count": 20,
   "metadata": {},
   "outputs": [
    {
     "data": {
      "text/plain": [
       "-34"
      ]
     },
     "execution_count": 20,
     "metadata": {},
     "output_type": "execute_result"
    }
   ],
   "source": [
    "min(9, -34, 0, 99)"
   ]
  },
  {
   "cell_type": "markdown",
   "metadata": {},
   "source": [
    "<div style=\"border-left: 3px solid #003262; padding: 1px; padding-left: 10px; background: #f0f0ff; \">\n",
    "    \n",
    "Another example of this is the **sum** function. The diference of this function is that the items that you are summing must be in an *array*, which is basically a list inside [...]. In the cell below, set **my_array** to a list of number you'd like and then use **sum** to add them up. \n",
    "\n",
    "<span style=\"color:red\">**It looks like you're setting `my_array` to a list, which is not entirely accurate even though they are very similar things. Also it looks like you assume students know what a list is which is probably not a safe assumption. We definitely should choose one or the other to use and stick with it. Since the actual lab works with arrays a lot, it makes sense to explain arrays and not lists. Make sure to property introduce what an array is in a very easily understandable way (i.e. essensially a container that stores individual values in order)**</span>"
   ]
  },
  {
   "cell_type": "code",
   "execution_count": 21,
   "metadata": {},
   "outputs": [
    {
     "data": {
      "text/plain": [
       "[1, 2, 3, 4, 5]"
      ]
     },
     "execution_count": 21,
     "metadata": {},
     "output_type": "execute_result"
    }
   ],
   "source": [
    "# should be np.array([1,2,3,4,5])\n",
    "\n",
    "my_array = [1, 2, 3, 4, 5]\n",
    "my_array"
   ]
  },
  {
   "cell_type": "code",
   "execution_count": 22,
   "metadata": {},
   "outputs": [
    {
     "data": {
      "text/plain": [
       "15"
      ]
     },
     "execution_count": 22,
     "metadata": {},
     "output_type": "execute_result"
    }
   ],
   "source": [
    "sum(my_array)"
   ]
  },
  {
   "cell_type": "markdown",
   "metadata": {},
   "source": [
    "<div style=\"border-left: 3px solid #003262; padding: 1px; padding-left: 10px; background: #f0f0ff; \">\n",
    "\n",
    "PRACTICE\n",
    "- The **abs** function takes one argument (just like **round**)\n",
    "\n",
    "Try calling **abs** in the cell below. What does it do?\n",
    "\n",
    "Also try calling each function *incorrectly*, such as with the wrong number of arguments. What kinds of error messages do you see?\n",
    "</div>"
   ]
  },
  {
   "cell_type": "code",
   "execution_count": 23,
   "metadata": {},
   "outputs": [
    {
     "data": {
      "text/plain": [
       "515"
      ]
     },
     "execution_count": 23,
     "metadata": {},
     "output_type": "execute_result"
    }
   ],
   "source": [
    "# replace the ... with calls to abs \n",
    "abs(-515)"
   ]
  },
  {
   "cell_type": "markdown",
   "metadata": {},
   "source": [
    "<div style=\"border-left: 3px solid #BC9B6A; padding: 1px; padding-left: 10px; background: #ffffff; \">\n",
    "\n",
    "### Dot Notation"
   ]
  },
  {
   "cell_type": "markdown",
   "metadata": {},
   "source": [
    "<div style=\"border-left: 3px solid #003262; padding: 1px; padding-left: 10px; background: #f0f0ff; \">\n",
    "        \n",
    "Python has a lot of [built-in functions](https://docs.python.org/3/library/functions.html) (that is, functions that are already named and defined in Python), but even more functions are stored in collections called *modules*. Earlier, we imported the **math** module so we could use it later. Once a module is imported, you can use its functions by typing the name of the module, then the name of the function you want from it, separated with a `.`."
   ]
  },
  {
   "cell_type": "code",
   "execution_count": 24,
   "metadata": {},
   "outputs": [
    {
     "data": {
      "text/plain": [
       "120"
      ]
     },
     "execution_count": 24,
     "metadata": {},
     "output_type": "execute_result"
    }
   ],
   "source": [
    "# a call expression with the factorial function from the math module\n",
    "math.factorial(5)"
   ]
  },
  {
   "cell_type": "markdown",
   "metadata": {},
   "source": [
    "# 2. Tables <a id='section 2'></a>"
   ]
  },
  {
   "cell_type": "markdown",
   "metadata": {},
   "source": [
    "<div style=\"border-left: 3px solid #003262; padding: 1px; padding-left: 10px; background: #f0f0ff; \">\n",
    "    \n",
    "The last section covered four basic concepts of python: data, expressions, names, and functions. In this next section, we'll see just how much we can do to examine and manipulate our data with only these minimal Python skills."
   ]
  },
  {
   "cell_type": "markdown",
   "metadata": {},
   "source": [
    "<div style=\"border-left: 3px solid #003262; padding: 1px; padding-left: 10px; background: #f0f0ff; \">\n",
    "    \n",
    "**Tables** are fundamental ways of organizing and displaying data. Run the next cell to load the data."
   ]
  },
  {
   "cell_type": "code",
   "execution_count": 25,
   "metadata": {},
   "outputs": [
    {
     "data": {
      "text/html": [
       "<div>\n",
       "<style>\n",
       "    .dataframe thead tr:only-child th {\n",
       "        text-align: right;\n",
       "    }\n",
       "\n",
       "    .dataframe thead th {\n",
       "        text-align: left;\n",
       "    }\n",
       "\n",
       "    .dataframe tbody tr th {\n",
       "        vertical-align: top;\n",
       "    }\n",
       "</style>\n",
       "<table border=\"1\" class=\"dataframe\">\n",
       "  <thead>\n",
       "    <tr style=\"text-align: right;\">\n",
       "      <th></th>\n",
       "      <th>id</th>\n",
       "      <th>projection_density</th>\n",
       "      <th>projection_intensity</th>\n",
       "      <th>experiment_id</th>\n",
       "      <th>structure_id</th>\n",
       "      <th>volume</th>\n",
       "    </tr>\n",
       "  </thead>\n",
       "  <tbody>\n",
       "    <tr>\n",
       "      <th>0</th>\n",
       "      <td>633910317</td>\n",
       "      <td>0.369275</td>\n",
       "      <td>2317.957628</td>\n",
       "      <td>146858006</td>\n",
       "      <td>1002</td>\n",
       "      <td>2.305407</td>\n",
       "    </tr>\n",
       "    <tr>\n",
       "      <th>1</th>\n",
       "      <td>633909357</td>\n",
       "      <td>0.000004</td>\n",
       "      <td>41.824506</td>\n",
       "      <td>146858006</td>\n",
       "      <td>63</td>\n",
       "      <td>0.144033</td>\n",
       "    </tr>\n",
       "    <tr>\n",
       "      <th>2</th>\n",
       "      <td>633910180</td>\n",
       "      <td>0.012837</td>\n",
       "      <td>508.762710</td>\n",
       "      <td>146858006</td>\n",
       "      <td>895</td>\n",
       "      <td>1.887742</td>\n",
       "    </tr>\n",
       "    <tr>\n",
       "      <th>3</th>\n",
       "      <td>633909650</td>\n",
       "      <td>0.000197</td>\n",
       "      <td>167.747616</td>\n",
       "      <td>146858006</td>\n",
       "      <td>338</td>\n",
       "      <td>0.022839</td>\n",
       "    </tr>\n",
       "    <tr>\n",
       "      <th>4</th>\n",
       "      <td>633909678</td>\n",
       "      <td>0.000027</td>\n",
       "      <td>209.261534</td>\n",
       "      <td>146858006</td>\n",
       "      <td>362</td>\n",
       "      <td>1.525187</td>\n",
       "    </tr>\n",
       "  </tbody>\n",
       "</table>\n",
       "</div>"
      ],
      "text/plain": [
       "          id  projection_density  projection_intensity  experiment_id  \\\n",
       "0  633910317            0.369275           2317.957628      146858006   \n",
       "1  633909357            0.000004             41.824506      146858006   \n",
       "2  633910180            0.012837            508.762710      146858006   \n",
       "3  633909650            0.000197            167.747616      146858006   \n",
       "4  633909678            0.000027            209.261534      146858006   \n",
       "\n",
       "   structure_id    volume  \n",
       "0          1002  2.305407  \n",
       "1            63  0.144033  \n",
       "2           895  1.887742  \n",
       "3           338  0.022839  \n",
       "4           362  1.525187  "
      ]
     },
     "execution_count": 25,
     "metadata": {},
     "output_type": "execute_result"
    }
   ],
   "source": [
    "# Run this cell\n",
    "primary_auditory = pd.read_csv('primary_auditory_area.csv')\n",
    "primary_auditory.head()"
   ]
  },
  {
   "cell_type": "markdown",
   "metadata": {},
   "source": [
    "<div style=\"border-left: 3px solid #003262; padding: 1px; padding-left: 10px; background: #f0f0ff; \">\n",
    "        \n",
    "This DataFrame (or table) is organized into **columns**: one for each *category* of information collected:\n",
    "\n",
    "You can also think about the table in terms of its **rows**. Each row represents all the information collected about a particular instance, which can be a person, location, action, or other unit. <span style=\"color:red\">**Explain what it is in our case with the dataset we see above**</span>\n",
    "\n",
    "Using the function **.head()** give us only the first five rows by default. Can you see how many rows there are in total?"
   ]
  },
  {
   "cell_type": "markdown",
   "metadata": {},
   "source": [
    "<div style=\"border-left: 3px solid #FDB515; padding: 1px; padding-left: 10px; background: #ffffff; \">\n",
    "\n",
    "## 2a. Table Attributes <a id='subsection 2a'></a>"
   ]
  },
  {
   "cell_type": "markdown",
   "metadata": {},
   "source": [
    "<div style=\"border-left: 3px solid #003262; padding: 1px; padding-left: 10px; background: #f0f0ff; \">\n",
    "       \n",
    "Every table has **attributes** that give information about the table, like the number of rows and the number of columns. Table attributes are accessed using the dot method. But, since an attribute doesn't perform an operation on the table, there are no parentheses (like there would be in a call expression).\n",
    "\n",
    "Attributes you'll use frequently include **index** and **columns**, which identify the rows and columns in the table, respectively. Using the length function **len(...)**, we can find the number of rows and columns in the table. \n",
    "\n",
    "\n",
    "<span style=\"color:red\">**Do we ever use `.index` in the actual lab? This might be unnecessary information?**</span>"
   ]
  },
  {
   "cell_type": "code",
   "execution_count": 26,
   "metadata": {},
   "outputs": [
    {
     "data": {
      "text/plain": [
       "6"
      ]
     },
     "execution_count": 26,
     "metadata": {},
     "output_type": "execute_result"
    }
   ],
   "source": [
    "# get the number of columns\n",
    "len(primary_auditory.columns)"
   ]
  },
  {
   "cell_type": "code",
   "execution_count": 27,
   "metadata": {},
   "outputs": [
    {
     "data": {
      "text/plain": [
       "1264"
      ]
     },
     "execution_count": 27,
     "metadata": {},
     "output_type": "execute_result"
    }
   ],
   "source": [
    "# get the number of rows\n",
    "len(primary_auditory.index)"
   ]
  },
  {
   "cell_type": "markdown",
   "metadata": {},
   "source": [
    "<div style=\"border-left: 3px solid #FDB515; padding: 1px; padding-left: 10px; background: #ffffff; \">\n",
    "\n",
    "## 2b. Sorting DataFrames <a id='subsection 2b'></a>"
   ]
  },
  {
   "cell_type": "markdown",
   "metadata": {},
   "source": [
    "<div style=\"border-left: 3px solid #BC9B6A; padding: 1px; padding-left: 10px; background: #ffffff; \">\n",
    "\n",
    "### Sorting values in a column using  `.sort_values`"
   ]
  },
  {
   "cell_type": "markdown",
   "metadata": {},
   "source": [
    "<div style=\"border-left: 3px solid #003262; padding: 1px; padding-left: 10px; background: #f0f0ff; \">\n",
    "        \n",
    "The **.sort_values** function is used to sort the values in a column of a DataFrame. This function takes in two arguments, The **column label** *(in string form)* and **ascending** *(must equal True or False)*. In order to get values sorted from least to greatest, **ascending = True**. In order to get values sorted from greatest to least, **ascending = False**.\n",
    "\n",
    "Let's sort the values in the column **projection_density** from *greatest to least* from the **primary_auditory** DataFrame."
   ]
  },
  {
   "cell_type": "code",
   "execution_count": 28,
   "metadata": {},
   "outputs": [
    {
     "data": {
      "text/html": [
       "<div>\n",
       "<style>\n",
       "    .dataframe thead tr:only-child th {\n",
       "        text-align: right;\n",
       "    }\n",
       "\n",
       "    .dataframe thead th {\n",
       "        text-align: left;\n",
       "    }\n",
       "\n",
       "    .dataframe tbody tr th {\n",
       "        vertical-align: top;\n",
       "    }\n",
       "</style>\n",
       "<table border=\"1\" class=\"dataframe\">\n",
       "  <thead>\n",
       "    <tr style=\"text-align: right;\">\n",
       "      <th></th>\n",
       "      <th>id</th>\n",
       "      <th>projection_density</th>\n",
       "      <th>projection_intensity</th>\n",
       "      <th>experiment_id</th>\n",
       "      <th>structure_id</th>\n",
       "      <th>volume</th>\n",
       "    </tr>\n",
       "  </thead>\n",
       "  <tbody>\n",
       "    <tr>\n",
       "      <th>237</th>\n",
       "      <td>633910344</td>\n",
       "      <td>0.503760</td>\n",
       "      <td>4533.668548</td>\n",
       "      <td>146858006</td>\n",
       "      <td>1027</td>\n",
       "      <td>0.625498</td>\n",
       "    </tr>\n",
       "    <tr>\n",
       "      <th>0</th>\n",
       "      <td>633910317</td>\n",
       "      <td>0.369275</td>\n",
       "      <td>2317.957628</td>\n",
       "      <td>146858006</td>\n",
       "      <td>1002</td>\n",
       "      <td>2.305407</td>\n",
       "    </tr>\n",
       "    <tr>\n",
       "      <th>739</th>\n",
       "      <td>633117226</td>\n",
       "      <td>0.274526</td>\n",
       "      <td>1992.324495</td>\n",
       "      <td>120491896</td>\n",
       "      <td>1002</td>\n",
       "      <td>2.275487</td>\n",
       "    </tr>\n",
       "    <tr>\n",
       "      <th>950</th>\n",
       "      <td>631208331</td>\n",
       "      <td>0.158768</td>\n",
       "      <td>2455.250805</td>\n",
       "      <td>100149109</td>\n",
       "      <td>1002</td>\n",
       "      <td>2.306901</td>\n",
       "    </tr>\n",
       "    <tr>\n",
       "      <th>419</th>\n",
       "      <td>633424814</td>\n",
       "      <td>0.142119</td>\n",
       "      <td>1435.964484</td>\n",
       "      <td>116903230</td>\n",
       "      <td>1002</td>\n",
       "      <td>2.291676</td>\n",
       "    </tr>\n",
       "  </tbody>\n",
       "</table>\n",
       "</div>"
      ],
      "text/plain": [
       "            id  projection_density  projection_intensity  experiment_id  \\\n",
       "237  633910344            0.503760           4533.668548      146858006   \n",
       "0    633910317            0.369275           2317.957628      146858006   \n",
       "739  633117226            0.274526           1992.324495      120491896   \n",
       "950  631208331            0.158768           2455.250805      100149109   \n",
       "419  633424814            0.142119           1435.964484      116903230   \n",
       "\n",
       "     structure_id    volume  \n",
       "237          1027  0.625498  \n",
       "0            1002  2.305407  \n",
       "739          1002  2.275487  \n",
       "950          1002  2.306901  \n",
       "419          1002  2.291676  "
      ]
     },
     "execution_count": 28,
     "metadata": {},
     "output_type": "execute_result"
    }
   ],
   "source": [
    "primary_auditory.sort_values('projection_density', ascending = False).head()"
   ]
  },
  {
   "cell_type": "markdown",
   "metadata": {},
   "source": [
    "<div style=\"border-left: 3px solid #003262; padding: 1px; padding-left: 10px; background: #f0f0ff; \">\n",
    "\n",
    "PRACTICE\n",
    "\n",
    "Try using **.sort_values** on **primary_auditory** in the cell below to arrange the volume from least to greatest. What is the **structure_id** of the experiment that had the least volume injected to it? If there is more than one with the same volume, just write down the top-most of the table. Assign this value to **least_volume**.\n",
    "</div>"
   ]
  },
  {
   "cell_type": "code",
   "execution_count": 29,
   "metadata": {},
   "outputs": [
    {
     "data": {
      "text/html": [
       "<div>\n",
       "<style>\n",
       "    .dataframe thead tr:only-child th {\n",
       "        text-align: right;\n",
       "    }\n",
       "\n",
       "    .dataframe thead th {\n",
       "        text-align: left;\n",
       "    }\n",
       "\n",
       "    .dataframe tbody tr th {\n",
       "        vertical-align: top;\n",
       "    }\n",
       "</style>\n",
       "<table border=\"1\" class=\"dataframe\">\n",
       "  <thead>\n",
       "    <tr style=\"text-align: right;\">\n",
       "      <th></th>\n",
       "      <th>id</th>\n",
       "      <th>projection_density</th>\n",
       "      <th>projection_intensity</th>\n",
       "      <th>experiment_id</th>\n",
       "      <th>structure_id</th>\n",
       "      <th>volume</th>\n",
       "    </tr>\n",
       "  </thead>\n",
       "  <tbody>\n",
       "    <tr>\n",
       "      <th>1183</th>\n",
       "      <td>631207819</td>\n",
       "      <td>0.0</td>\n",
       "      <td>0.0</td>\n",
       "      <td>100149109</td>\n",
       "      <td>576</td>\n",
       "      <td>0.006205</td>\n",
       "    </tr>\n",
       "    <tr>\n",
       "      <th>51</th>\n",
       "      <td>633909879</td>\n",
       "      <td>0.0</td>\n",
       "      <td>0.0</td>\n",
       "      <td>146858006</td>\n",
       "      <td>576</td>\n",
       "      <td>0.006205</td>\n",
       "    </tr>\n",
       "    <tr>\n",
       "      <th>621</th>\n",
       "      <td>633424483</td>\n",
       "      <td>0.0</td>\n",
       "      <td>0.0</td>\n",
       "      <td>116903230</td>\n",
       "      <td>576</td>\n",
       "      <td>0.006205</td>\n",
       "    </tr>\n",
       "    <tr>\n",
       "      <th>666</th>\n",
       "      <td>633116636</td>\n",
       "      <td>0.0</td>\n",
       "      <td>0.0</td>\n",
       "      <td>120491896</td>\n",
       "      <td>576</td>\n",
       "      <td>0.006205</td>\n",
       "    </tr>\n",
       "    <tr>\n",
       "      <th>1155</th>\n",
       "      <td>631207585</td>\n",
       "      <td>0.0</td>\n",
       "      <td>0.0</td>\n",
       "      <td>100149109</td>\n",
       "      <td>332</td>\n",
       "      <td>0.006851</td>\n",
       "    </tr>\n",
       "  </tbody>\n",
       "</table>\n",
       "</div>"
      ],
      "text/plain": [
       "             id  projection_density  projection_intensity  experiment_id  \\\n",
       "1183  631207819                 0.0                   0.0      100149109   \n",
       "51    633909879                 0.0                   0.0      146858006   \n",
       "621   633424483                 0.0                   0.0      116903230   \n",
       "666   633116636                 0.0                   0.0      120491896   \n",
       "1155  631207585                 0.0                   0.0      100149109   \n",
       "\n",
       "      structure_id    volume  \n",
       "1183           576  0.006205  \n",
       "51             576  0.006205  \n",
       "621            576  0.006205  \n",
       "666            576  0.006205  \n",
       "1155           332  0.006851  "
      ]
     },
     "execution_count": 29,
     "metadata": {},
     "output_type": "execute_result"
    }
   ],
   "source": [
    "primary_auditory.sort_values('volume', ascending = True).head()"
   ]
  },
  {
   "cell_type": "code",
   "execution_count": 30,
   "metadata": {},
   "outputs": [
    {
     "data": {
      "text/plain": [
       "576"
      ]
     },
     "execution_count": 30,
     "metadata": {},
     "output_type": "execute_result"
    }
   ],
   "source": [
    "least_volume = 576\n",
    "least_volume"
   ]
  },
  {
   "cell_type": "markdown",
   "metadata": {},
   "source": [
    "<div style=\"border-left: 3px solid #FDB515; padding: 1px; padding-left: 10px; background: #ffffff; \">\n",
    "\n",
    "## 2c. Column/Row Selection <a id='subsection 2b'></a>"
   ]
  },
  {
   "cell_type": "markdown",
   "metadata": {},
   "source": [
    "<div style=\"border-left: 3px solid #BC9B6A; padding: 1px; padding-left: 10px; background: #ffffff; \">\n",
    "\n",
    "### Selecting columns with `[ ... ]`"
   ]
  },
  {
   "cell_type": "markdown",
   "metadata": {},
   "source": [
    "<div style=\"border-left: 3px solid #003262; padding: 1px; padding-left: 10px; background: #f0f0ff; \">\n",
    "        \n",
    "The **[...]** is used to get a **Series** containing one column and an index. It takes in the name of a column in the form of a string.\n",
    "\n",
    "Let's select the **projection_density** from the **primary_auditory** DataFrame and assign it to **proj_density**."
   ]
  },
  {
   "cell_type": "code",
   "execution_count": 31,
   "metadata": {},
   "outputs": [
    {
     "data": {
      "text/plain": [
       "0       3.692751e-01\n",
       "1       4.123313e-06\n",
       "2       1.283747e-02\n",
       "3       1.972891e-04\n",
       "4       2.664822e-05\n",
       "5       3.834191e-04\n",
       "6       4.992553e-04\n",
       "7       7.612440e-06\n",
       "8       8.460778e-04\n",
       "9       7.893355e-05\n",
       "10      1.320373e-04\n",
       "11      4.315364e-06\n",
       "12      6.639497e-02\n",
       "13      1.077242e-04\n",
       "14      1.864043e-03\n",
       "15      0.000000e+00\n",
       "16      7.855044e-07\n",
       "17      2.479754e-04\n",
       "18      0.000000e+00\n",
       "19      3.221951e-05\n",
       "20      8.637651e-05\n",
       "21      0.000000e+00\n",
       "22      7.261229e-03\n",
       "23      6.018361e-02\n",
       "24      6.312055e-03\n",
       "25      4.234803e-04\n",
       "26      6.771754e-04\n",
       "27      6.093192e-02\n",
       "28      0.000000e+00\n",
       "29      9.126371e-04\n",
       "            ...     \n",
       "1234    6.116316e-03\n",
       "1235    1.020957e-03\n",
       "1236    3.521699e-04\n",
       "1237    6.276456e-09\n",
       "1238    3.261592e-02\n",
       "1239    7.158385e-08\n",
       "1240    5.796269e-07\n",
       "1241    3.296581e-02\n",
       "1242    0.000000e+00\n",
       "1243    1.779570e-05\n",
       "1244    8.520625e-03\n",
       "1245    5.562547e-03\n",
       "1246    0.000000e+00\n",
       "1247    1.629792e-06\n",
       "1248    1.006289e-06\n",
       "1249    1.901035e-03\n",
       "1250    0.000000e+00\n",
       "1251    3.458719e-02\n",
       "1252    5.484469e-07\n",
       "1253    1.486146e-03\n",
       "1254    5.300949e-04\n",
       "1255    0.000000e+00\n",
       "1256    3.520126e-04\n",
       "1257    7.242203e-06\n",
       "1258    2.761338e-06\n",
       "1259    0.000000e+00\n",
       "1260    1.485346e-05\n",
       "1261    0.000000e+00\n",
       "1262    0.000000e+00\n",
       "1263    0.000000e+00\n",
       "Name: projection_density, Length: 1264, dtype: float64"
      ]
     },
     "execution_count": 31,
     "metadata": {},
     "output_type": "execute_result"
    }
   ],
   "source": [
    "# make a new table with only selected columns\n",
    "proj_density = primary_auditory['projection_density']\n",
    "proj_density"
   ]
  },
  {
   "cell_type": "markdown",
   "metadata": {},
   "source": [
    "<div style=\"border-left: 3px solid #003262; padding: 1px; padding-left: 10px; background: #f0f0ff; \">\n",
    "        \n",
    "Using **.values** will give us a list of the values in the column in the form of an **array**. <span style=\"color:red\">**Add a small section explaining what an array is above so we can say: \"As you've already seen, ...**</span> An **array** is simply a list of values in the form of integers, strings, etc."
   ]
  },
  {
   "cell_type": "code",
   "execution_count": 32,
   "metadata": {},
   "outputs": [
    {
     "data": {
      "text/plain": [
       "array([  3.69275150e-01,   4.12331250e-06,   1.28374696e-02, ...,\n",
       "         0.00000000e+00,   0.00000000e+00,   0.00000000e+00])"
      ]
     },
     "execution_count": 32,
     "metadata": {},
     "output_type": "execute_result"
    }
   ],
   "source": [
    "# Run this cell\n",
    "proj_density.values"
   ]
  },
  {
   "cell_type": "markdown",
   "metadata": {},
   "source": [
    "<div style=\"border-left: 3px solid #003262; padding: 1px; padding-left: 10px; background: #f0f0ff; \">\n",
    "    \n",
    "To access the 1st value of an array, we use **[...]** again and the number 0. \n",
    "\n",
    "Suppose n is the number of values in our array. If we wanted to get the last value of an array, we would input n - 1 into the brackets. \n",
    "\n",
    "<span style=\"color:red\">**The above is a little confusing. Do we need to teach students how to index? Or can you just say \"if you want the very first value in an array, use some_array[0]\"? Indexing is a confusing topic that probably cannot be breezed over in one brief sentence.**</span>"
   ]
  },
  {
   "cell_type": "code",
   "execution_count": 94,
   "metadata": {},
   "outputs": [
    {
     "data": {
      "text/plain": [
       "0.36927514957930602"
      ]
     },
     "execution_count": 94,
     "metadata": {},
     "output_type": "execute_result"
    }
   ],
   "source": [
    "# Run this cell\n",
    "proj_density.values[0]"
   ]
  },
  {
   "cell_type": "markdown",
   "metadata": {},
   "source": [
    "# 4. Statistics + DataFrames\n",
    "\n",
    "We can also apply our mathematical and statistical background along with our coding experience to find out basic stats regarding our data (i.e. mean, median, standard deviation, etc.). In this section, we will use DataFrames and functions to calculate these stats."
   ]
  },
  {
   "cell_type": "markdown",
   "metadata": {},
   "source": [
    "## 4a. The Mean"
   ]
  },
  {
   "cell_type": "markdown",
   "metadata": {},
   "source": [
    "<span style=\"color:red\">**It sounds like you expect students in this class to have taken statistics before: is it a rerequisite for MCB? Is it a fair assumption that students have seen this before?**</span>\n",
    "\n",
    "\n",
    "Let's first find the **mean** projection densities at the primary auditory area. Recall in statistics the formula for the mean:\n",
    "\n",
    "$$M = \\sum_{i=1}^N \\frac{x_i}{N}$$\n",
    "\n",
    "<span style=\"color:red\">**Note: I changed /mu to M because it's less intimidating**</span>\n",
    "\n",
    "\n",
    "\n",
    "<span style=\"color:red\">**I think this should be the formula since you calculate the mean in this way with code below:**</span>\n",
    "$$M = \\frac{\\sum_{i=1}^N x_i}{N}$$\n",
    "\n",
    "In other words, we add up all the values in the projection density array, then divide the sum by the total number of values in the array. \n",
    "\n",
    "\n",
    "\n",
    "Where the variables are represented as follows:\n",
    "<span style=\"color:red\">**Be more specific and description here -- mean, data, number of values is difficult to understand. Examples provide. **</span>\n",
    "\n",
    "* $M$ = mean <span style=\"color:red\">** \"Average projection density in the Primary Auditory Area\"**</span>\n",
    "* $x_i$ = data  <span style=\"color:red\">**\"Data: i.e. each projection density value in the array\"**</span>\n",
    "* $N$ = number of values <span style=\"color:red\">**\"Total Number of projection densities in the array\"**</span>\n",
    "\n",
    "To do this, we can use **proj_density** which we defined earlier and use **.values** to get the list of values. Then, we can sum up the values using the **sum()** function."
   ]
  },
  {
   "cell_type": "code",
   "execution_count": 95,
   "metadata": {},
   "outputs": [
    {
     "data": {
      "text/plain": [
       "7.0364912525295589"
      ]
     },
     "execution_count": 95,
     "metadata": {},
     "output_type": "execute_result"
    }
   ],
   "source": [
    "# Run this cell\n",
    "sum_values = sum(proj_density.values)\n",
    "sum_values"
   ]
  },
  {
   "cell_type": "markdown",
   "metadata": {},
   "source": [
    "Next, we can use the **len()** function to find the number of values in the list of projection densities."
   ]
  },
  {
   "cell_type": "code",
   "execution_count": 96,
   "metadata": {},
   "outputs": [
    {
     "data": {
      "text/plain": [
       "1264"
      ]
     },
     "execution_count": 96,
     "metadata": {},
     "output_type": "execute_result"
    }
   ],
   "source": [
    "# Run this cell\n",
    "num_values = len(proj_density.values)\n",
    "num_values"
   ]
  },
  {
   "cell_type": "markdown",
   "metadata": {},
   "source": [
    "Finally, we can divide the summed up values from **sum_values** with the number of values from **num_values** to get the mean."
   ]
  },
  {
   "cell_type": "code",
   "execution_count": 97,
   "metadata": {},
   "outputs": [
    {
     "data": {
      "text/plain": [
       "0.0055668443453556638"
      ]
     },
     "execution_count": 97,
     "metadata": {},
     "output_type": "execute_result"
    }
   ],
   "source": [
    "# Run this cell\n",
    "mean = sum_values / num_values\n",
    "mean"
   ]
  },
  {
   "cell_type": "markdown",
   "metadata": {},
   "source": [
    "**Practice:** Now, try and find the **mean projection volumes** of the primary auditory area. First, assign **proj_volumes** to a list of projection volumes using **.values**. Then, assign **sum_volumes** to the sum of these values using the **sum()** function. Next, assign **num_values** to number of values using the **len()** function. Finally, assign mean_volume to **sum_volumes** divided by **num_volumes**."
   ]
  },
  {
   "cell_type": "code",
   "execution_count": 98,
   "metadata": {},
   "outputs": [
    {
     "data": {
      "text/plain": [
       "1.631913697288619"
      ]
     },
     "execution_count": 98,
     "metadata": {},
     "output_type": "execute_result"
    }
   ],
   "source": [
    "proj_volumes = primary_auditory['volume'].values\n",
    "sum_volumes = sum(proj_volumes)\n",
    "num_volumes = len(proj_volumes)\n",
    "mean_volume = sum_volumes / num_volumes\n",
    "mean_volume"
   ]
  },
  {
   "cell_type": "markdown",
   "metadata": {},
   "source": [
    "## 4b. The Median\n",
    "\n",
    "<span style=\"color:red\">**Looking at the lab itself, it doesn't look like we actually use median in the bootstrapping, so we don't have to spend time introducin what this is. Given our tight time constraint, we might want to get rid of this section. Let me know if you disagree -- this is just my thought.**</span>\n"
   ]
  },
  {
   "cell_type": "markdown",
   "metadata": {},
   "source": [
    "Next, let's find the **median** projection densities at the primary auditory area. Recall that the median value in the \"middle\" value from a sorted list of values. For example,\n",
    "\n",
    "If the number of values is **even**:\n",
    "\n",
    "* **Step 1:** Find the value at position $\\frac{n}{2}$.\n",
    "\n",
    "* **Step 2:** Find the value at position $\\frac{n}{2} + 1$.\n",
    "\n",
    "* **Step 3:** Take the average of these two values.\n",
    "\n",
    "Otherwise, if the number of values is **odd**:\n",
    "\n",
    "* The median is the value at position $\\frac{n + 1}{2}$.\n",
    "\n",
    "To do this, we can first sort the projection densities using **.sort_values()** with **ascending = False**. Then, we get the Series of projection densities by using **['projection_density']**. Lastly, use **.values()** to get the list of values."
   ]
  },
  {
   "cell_type": "code",
   "execution_count": 99,
   "metadata": {},
   "outputs": [
    {
     "name": "stdout",
     "output_type": "stream",
     "text": [
      "[ 0.50376046  0.36927515  0.27452557 ...,  0.          0.          0.        ]\n"
     ]
    }
   ],
   "source": [
    "# Run this cell\n",
    "sorted_values = primary_auditory.sort_values('projection_density', ascending = False)['projection_density'].values\n",
    "print(sorted_values)"
   ]
  },
  {
   "cell_type": "code",
   "execution_count": 100,
   "metadata": {},
   "outputs": [
    {
     "name": "stdout",
     "output_type": "stream",
     "text": [
      "Number of Values: 1264\n"
     ]
    }
   ],
   "source": [
    "# Run this cell\n",
    "num_values = len(sorted_values)\n",
    "print('Number of Values:', num_values)"
   ]
  },
  {
   "cell_type": "markdown",
   "metadata": {},
   "source": [
    "Next, we see that the number of values is an even number. Therefore, we have to follow the steps for finding the **median** for an even number of values."
   ]
  },
  {
   "cell_type": "code",
   "execution_count": 101,
   "metadata": {},
   "outputs": [
    {
     "data": {
      "text/plain": [
       "3.6544584383927203e-05"
      ]
     },
     "execution_count": 101,
     "metadata": {},
     "output_type": "execute_result"
    }
   ],
   "source": [
    "# Run this cell\n",
    "step_1 = sorted_values[632]\n",
    "step_1"
   ]
  },
  {
   "cell_type": "code",
   "execution_count": 102,
   "metadata": {},
   "outputs": [
    {
     "data": {
      "text/plain": [
       "3.6265607937411898e-05"
      ]
     },
     "execution_count": 102,
     "metadata": {},
     "output_type": "execute_result"
    }
   ],
   "source": [
    "# Run this cell\n",
    "step_2 = sorted_values[633]\n",
    "step_2"
   ]
  },
  {
   "cell_type": "code",
   "execution_count": 103,
   "metadata": {},
   "outputs": [
    {
     "data": {
      "text/plain": [
       "3.640509616066955e-05"
      ]
     },
     "execution_count": 103,
     "metadata": {},
     "output_type": "execute_result"
    }
   ],
   "source": [
    "# Run this cell\n",
    "median = (step_1 + step_2) / 2\n",
    "median"
   ]
  },
  {
   "cell_type": "markdown",
   "metadata": {},
   "source": [
    "We see that the median is around 3.6405.\n",
    "\n",
    "**Practice:** Find the **median projection volumes**. Remember to sort the values first using **.sort_values()**. We already know that the number of values is even, so we must follow the steps accordingly."
   ]
  },
  {
   "cell_type": "code",
   "execution_count": 104,
   "metadata": {},
   "outputs": [
    {
     "data": {
      "text/plain": [
       "0.53580837520000002"
      ]
     },
     "execution_count": 104,
     "metadata": {},
     "output_type": "execute_result"
    }
   ],
   "source": [
    "sorted_volumes = primary_auditory.sort_values('volume', ascending = False)['volume'].values\n",
    "step_1 = sorted_volumes[632]\n",
    "step_2 = sorted_volumes[633]\n",
    "median_volume = (step_1 + step_2) / 2\n",
    "median_volume"
   ]
  },
  {
   "cell_type": "markdown",
   "metadata": {},
   "source": [
    "## 4c. The Standard Deviation\n",
    "\n",
    "<span style=\"color:red\">**Same thing for standard deviation: I don't think it's necessary to teach students in this much detail on what standard deviation is and how to calculate it. The Boostrapping section doesn't seem to rely on students' firm grasp in sd, so I think it's safe to cut this down to be bare bones or even get rid of this section altogether.**</span>\n",
    "\n",
    "\n",
    "Now, let's find the **standard deviation** projection densities at the primary auditory area. Recall in statistics the formula for the standard deviation is:\n",
    "\n",
    "$$\\sigma = \\sqrt{\\sum_{i=1}^N \\frac{(x-\\mu)^2}{N - 1}}$$\n",
    "\n",
    "* $\\sigma$ = standard deviation\n",
    "* $x$ = data\n",
    "* $\\mu$ = mean\n",
    "* $N$ = number of values\n",
    "\n",
    "To do this, we can first find get the values of the projection densities and subtract them by the mean (which we found in part **4a.**). Then, we use the **sum()** function to sum up these values. This will be our numerator."
   ]
  },
  {
   "cell_type": "code",
   "execution_count": 106,
   "metadata": {},
   "outputs": [
    {
     "data": {
      "text/plain": [
       "9.2592720278451933e-29"
      ]
     },
     "execution_count": 106,
     "metadata": {},
     "output_type": "execute_result"
    }
   ],
   "source": [
    "# Run this cell\n",
    "numerator = sum(proj_density.values - mean)**2\n",
    "numerator"
   ]
  },
  {
   "cell_type": "markdown",
   "metadata": {},
   "source": [
    "Next, we use the **len()** function again to find the number of values and subtract it by 1. This will be our denominator."
   ]
  },
  {
   "cell_type": "code",
   "execution_count": 107,
   "metadata": {},
   "outputs": [
    {
     "data": {
      "text/plain": [
       "1263"
      ]
     },
     "execution_count": 107,
     "metadata": {},
     "output_type": "execute_result"
    }
   ],
   "source": [
    "# Run this cell\n",
    "denominator = len(proj_density.values) - 1\n",
    "denominator"
   ]
  },
  {
   "cell_type": "markdown",
   "metadata": {},
   "source": [
    "Lastly, we divide the numerator and by the denominator. We use a new function called **np.sqrt()** that takes the square root of a list of values."
   ]
  },
  {
   "cell_type": "code",
   "execution_count": 108,
   "metadata": {},
   "outputs": [
    {
     "data": {
      "text/plain": [
       "2.707613971510978e-16"
      ]
     },
     "execution_count": 108,
     "metadata": {},
     "output_type": "execute_result"
    }
   ],
   "source": [
    "# Run this cell\n",
    "standard_dev = np.sqrt(numerator / denominator)\n",
    "standard_dev"
   ]
  },
  {
   "cell_type": "markdown",
   "metadata": {},
   "source": [
    "## 4d. The Distribution\n",
    "\n",
    "<span style=\"color:red\">**Define what a distribution is!! It's a really intimidating term, so it's important that you provide an example and make it a tangible concept for students.**</span>\n",
    "\n",
    "\n",
    "\n",
    "Lastly, we can visualize the distribution of the projection density values. Notice in the graph below, taken from Lumen Learning that shows the how values can be distributed.\n",
    "\n",
    "<img src='dist.png' width=\"700px\"/>\n",
    "\n",
    "<span style=\"color:red\">**Explain what these images are showing, and make sure to describe the distribution outputted by the code block below. What does it mean for a distribution to have a right tail? Left tail? What are some examples where we might see this?**</span>\n",
    "\n",
    "Run the cell below to output a visual distribution of projection densities in the primary auditory area."
   ]
  },
  {
   "cell_type": "code",
   "execution_count": 2,
   "metadata": {},
   "outputs": [
    {
     "ename": "NameError",
     "evalue": "name 'plt' is not defined",
     "output_type": "error",
     "traceback": [
      "\u001b[1;31m---------------------------------------------------------------------------\u001b[0m",
      "\u001b[1;31mNameError\u001b[0m                                 Traceback (most recent call last)",
      "\u001b[1;32m<ipython-input-2-0773588d56f1>\u001b[0m in \u001b[0;36m<module>\u001b[1;34m()\u001b[0m\n\u001b[0;32m      1\u001b[0m \u001b[1;31m# Run this cell\u001b[0m\u001b[1;33m\u001b[0m\u001b[1;33m\u001b[0m\u001b[0m\n\u001b[1;32m----> 2\u001b[1;33m \u001b[0mplt\u001b[0m\u001b[1;33m.\u001b[0m\u001b[0mxlim\u001b[0m\u001b[1;33m(\u001b[0m\u001b[1;36m0\u001b[0m\u001b[1;33m,\u001b[0m \u001b[1;36m0.21\u001b[0m\u001b[1;33m)\u001b[0m\u001b[1;33m\u001b[0m\u001b[0m\n\u001b[0m\u001b[0;32m      3\u001b[0m \u001b[0msns\u001b[0m\u001b[1;33m.\u001b[0m\u001b[0mdistplot\u001b[0m\u001b[1;33m(\u001b[0m\u001b[0mproj_density\u001b[0m\u001b[1;33m,\u001b[0m \u001b[0mhist\u001b[0m\u001b[1;33m=\u001b[0m\u001b[1;32mFalse\u001b[0m\u001b[1;33m)\u001b[0m\u001b[1;33m;\u001b[0m\u001b[1;33m\u001b[0m\u001b[0m\n",
      "\u001b[1;31mNameError\u001b[0m: name 'plt' is not defined"
     ]
    }
   ],
   "source": [
    "# Run this cell\n",
    "plt.xlim(0, 0.21)\n",
    "sns.distplot(proj_density, hist=False);"
   ]
  },
  {
   "cell_type": "markdown",
   "metadata": {},
   "source": [
    "We can clearly see that this is a distribution skewed to the right.\n",
    "\n",
    "Recall the stats we computed for the mean, median, and standard deviation:\n",
    "\n",
    "* **Mean:** 0.0055\n",
    "* **Median:** 3.6405e-05\n",
    "* **Standard Deviation:** 2.7076e-16\n",
    "\n",
    "Compare these values to the figure above and the visual distribution. Notice that the data we have contains many zeros as well as high values less than 0.025, which in turn affect our outcome when caculating the stats."
   ]
  },
  {
   "cell_type": "markdown",
   "metadata": {},
   "source": [
    "# 4. Statistical Analysis "
   ]
  },
  {
   "cell_type": "markdown",
   "metadata": {},
   "source": [
    "<div style=\"border-left: 3px solid #FDB515; padding: 1px; padding-left: 10px; background: #ffffff; \">\n",
    "\n",
    "## 4.a The Bootstrap"
   ]
  },
  {
   "cell_type": "markdown",
   "metadata": {},
   "source": [
    "<div style=\"border-left: 3px solid #BC9B6A; padding: 1px; padding-left: 10px; background: #ffffff; \">\n",
    "    \n",
    "### Background"
   ]
  },
  {
   "cell_type": "markdown",
   "metadata": {},
   "source": [
    "<div style=\"border-left: 3px solid #003262; padding: 1px; padding-left: 10px; background: #f0f0ff; \">\n",
    "    \n",
    "Before we dive into what bootstrapping is, we're going to define some terms that we will be using throughout the rest of the intro lab and the lab you will perform."
   ]
  },
  {
   "cell_type": "markdown",
   "metadata": {},
   "source": [
    "<div style=\"border-left: 3px solid #003262; padding: 1px; padding-left: 10px; background: #f0f0ff; \">\n",
    "        \n",
    "- **Sample**: A sample is a set of data collected from a population by a defined procedure.\n",
    "\n",
    "   - *The type of sample that data scientists use often is a simple   random sample, where each member of the sample has an equal chance of getting chosen.*\n",
    "\n",
    "\n",
    "- **Statistic**: A single measure of some attribute of a sample.\n",
    " \n",
    "   - *An example of a statistic that is used many times is the mean.*\n",
    "   \n",
    "   \n",
    "<span style=\"color:red\">**Provide an example of a sample and statistic in the context of our dataset to make it more tangible!**</span>\n"
   ]
  },
  {
   "cell_type": "markdown",
   "metadata": {},
   "source": [
    "<div style=\"border-left: 3px solid #003262; padding: 1px; padding-left: 10px; background: #f0f0ff; \">\n",
    "        \n",
    "Run the next couple of cells. In these cells, we will show you how a sample is done and the statistic that is drawn from these samples. You do not need to understand the code in this section:<span style=\"color:red\"> just try to follow along the best you can (let's rephrase this: e.g. \"you are only responsible for understanding the concept and analysis behind Bootstrapping\").</span> \n",
    "\n",
    "\n",
    "\n",
    "We will be using the grade distribution for the class Math 110 in Fall 2018. That semester, 402 people received a grade, as shown in the x-axis. The grades are shown by the amount of GPA points awarded per grade (an A and A+ being a 4.0 to an F being 0.0).\n",
    "\n",
    "We will also find a statistic of this data, the mean."
   ]
  },
  {
   "cell_type": "code",
   "execution_count": 31,
   "metadata": {},
   "outputs": [
    {
     "data": {
      "image/png": "[encoded data removed]",
      "text/plain": [
       "<Figure size 432x288 with 1 Axes>"
      ]
     },
     "metadata": {
      "needs_background": "light"
     },
     "output_type": "display_data"
    }
   ],
   "source": [
    "# Run this cell\n",
    "math_110 = pd.read_csv('math_110_grade_distribution.csv')\n",
    "math_110.hist();"
   ]
  },
  {
   "cell_type": "code",
   "execution_count": 32,
   "metadata": {},
   "outputs": [
    {
     "data": {
      "text/plain": [
       "2.9497512437810927"
      ]
     },
     "execution_count": 32,
     "metadata": {},
     "output_type": "execute_result"
    }
   ],
   "source": [
    "# Run this cell\n",
    "math_110_mean = math_110.mean()[0]\n",
    "math_110_mean"
   ]
  },
  {
   "cell_type": "markdown",
   "metadata": {},
   "source": [
    "<div style=\"border-left: 3px solid #003262; padding: 1px; padding-left: 10px; background: #f0f0ff; \">\n",
    "       \n",
    "In the next cell, we will take a sample of the students who took the class. Our sample will be of 50 people. We will then obtain the mean and compare it with that of the population."
   ]
  },
  {
   "cell_type": "code",
   "execution_count": 33,
   "metadata": {},
   "outputs": [
    {
     "data": {
      "image/png": "[encoded data removed]",
      "text/plain": [
       "<Figure size 432x288 with 1 Axes>"
      ]
     },
     "metadata": {
      "needs_background": "light"
     },
     "output_type": "display_data"
    }
   ],
   "source": [
    "# Run this cell\n",
    "sample_1 = math_110.sample(100)\n",
    "sample_1.hist();"
   ]
  },
  {
   "cell_type": "code",
   "execution_count": 34,
   "metadata": {},
   "outputs": [
    {
     "data": {
      "text/plain": [
       "2.908"
      ]
     },
     "execution_count": 34,
     "metadata": {},
     "output_type": "execute_result"
    }
   ],
   "source": [
    "sample_1.mean()[0]"
   ]
  },
  {
   "cell_type": "markdown",
   "metadata": {},
   "source": [
    "<div style=\"border-left: 3px solid #003262; padding: 1px; padding-left: 10px; background: #f0f0ff; \">\n",
    "        \n",
    "How do the distributions from the population and the sample differ? How does the statistic differ? Write your answer below."
   ]
  },
  {
   "cell_type": "markdown",
   "metadata": {},
   "source": [
    "*If you run the two cells above again, you most likely will get a different distribution and a different statistic. This is because the statistic is only based off the sample and not the entire population.*"
   ]
  },
  {
   "cell_type": "markdown",
   "metadata": {},
   "source": [
    "<div style=\"border-left: 3px solid #BC9B6A; padding: 1px; padding-left: 10px; background: #ffffff; \">\n",
    "    \n",
    "### Bootstrapping"
   ]
  },
  {
   "cell_type": "markdown",
   "metadata": {},
   "source": [
    "<div style=\"border-left: 3px solid #003262; padding: 1px; padding-left: 10px; background: #f0f0ff; \">\n",
    "       \n",
    "A data scientist is using the data in a random sample to estimate an unknown parameter. She uses the sample to calculate the value of a statistic that she will use as her estimate.\n",
    "\n",
    "Once she has calculated the observed value of her statistic, she could just present it as her estimate and go on her merry way. But she’s a data scientist. She knows that her random sample is just one of numerous possible random samples, and thus her estimate is just one of numerous plausible estimates.\n",
    "\n",
    "By how much could those estimates vary? To answer this, it appears as though she needs to draw another sample from the population, and compute a new estimate based on the new sample. But she doesn’t have the resources to go back to the population and draw another sample.\n",
    "\n",
    "It looks as though the data scientist is stuck.\n",
    "\n",
    "Fortunately, a brilliant idea called the bootstrap can help her out. Since it is not feasible to generate new samples from the population, the bootstrap generates new random samples by a method called resampling: the new samples are drawn at random from the original sample."
   ]
  },
  {
   "cell_type": "markdown",
   "metadata": {},
   "source": [
    "<img src=\"bootstrap.png\" width=\"5000px\"/>"
   ]
  },
  {
   "cell_type": "markdown",
   "metadata": {},
   "source": [
    "<div style=\"border-left: 3px solid #003262; padding: 1px; padding-left: 10px; background: #f0f0ff; \">\n",
    "       \n",
    "In our example given above, the grades for all 402 students enrolled in Math 110 in Fall 2018 is our population. Bootstrapping is used when we don't have the overall population and instead we only have the sample drawn. \n",
    "\n",
    "Pretending we don't have the population, in the next cells, we will use bootstrap on a sample of 100 students provided by us to estimate the population statistic (which we have)."
   ]
  },
  {
   "cell_type": "code",
   "execution_count": 35,
   "metadata": {},
   "outputs": [
    {
     "data": {
      "image/png": "[encoded data removed]",
      "text/plain": [
       "<Figure size 432x288 with 1 Axes>"
      ]
     },
     "metadata": {
      "needs_background": "light"
     },
     "output_type": "display_data"
    }
   ],
   "source": [
    "# Run this cell\n",
    "math_110_sample = pd.read_csv('math_110_sample.csv')\n",
    "math_110_sample.hist();"
   ]
  },
  {
   "cell_type": "code",
   "execution_count": 36,
   "metadata": {},
   "outputs": [
    {
     "data": {
      "text/plain": [
       "3.0269999999999992"
      ]
     },
     "execution_count": 36,
     "metadata": {},
     "output_type": "execute_result"
    }
   ],
   "source": [
    "# Run this cell\n",
    "sample_mean = math_110_sample.mean()[0]\n",
    "sample_mean"
   ]
  },
  {
   "cell_type": "markdown",
   "metadata": {},
   "source": [
    "<div style=\"border-left: 3px solid #003262; padding: 1px; padding-left: 10px; background: #f0f0ff; \">   \n",
    "\n",
    "Our overall goal is to use the resamples to calculate an interval in which the statistic (the mean) of the population is likely to be. To do this, we need to find the statistic for all the resamples, which we will do in the following cells.\n",
    "\n",
    "Before we start, there are three keys to resampling that you should know about when performing a bootstrap:\n",
    "- Draw at random from the original sample \n",
    "  - This just means that we are getting a random sample of the sample and that every individual has an equal possibility of being chosen. \n",
    "- Draw with replacement (replace = True)\n",
    "  - Pretend you are drawing a card from the deck of cards. You draw the first card. If you were to draw without replacement, then you would have 51 cards to draw from for the next turn. However, if you draw with replacement, you draw from the 52 cards, meaning that you can draw the same card that you drew the first time again.\n",
    "- Draw as many values as the original sample contained \n",
    "  - For every resample, you will draw as many cards as the first sample (in this case 100).\n",
    "\n",
    "We will apply these rules when doing bootstrapping in the cells below."
   ]
  },
  {
   "cell_type": "code",
   "execution_count": 37,
   "metadata": {},
   "outputs": [
    {
     "data": {
      "text/plain": [
       "array([3.226, 3.099, 2.976, ..., 2.947, 2.882, 2.931])"
      ]
     },
     "execution_count": 37,
     "metadata": {},
     "output_type": "execute_result"
    }
   ],
   "source": [
    "# In this cell, we will use something called a **for loop** to easily \n",
    "# get the resamples and find the mean of each one. We want a large number\n",
    "# of resamples, so we set it to 5000.\n",
    "means = []\n",
    "for i in np.arange(5000):\n",
    "    resampled = math_110_sample.sample(n = 100, replace = True)\n",
    "# notice that we used n = 100 because the sample had 100 students and that\n",
    "# we set replace = True\n",
    "    mean = resampled.mean()\n",
    "    means = np.append(means, mean)\n",
    "# We obtain the means of the resamples in a list, shown below\n",
    "means"
   ]
  },
  {
   "cell_type": "markdown",
   "metadata": {},
   "source": [
    "<div style=\"border-left: 3px solid #003262; padding: 1px; padding-left: 10px; background: #f0f0ff; \">\n",
    "        \n",
    "Run the cell below to make a DataFrame with these means. "
   ]
  },
  {
   "cell_type": "code",
   "execution_count": 38,
   "metadata": {},
   "outputs": [
    {
     "data": {
      "image/png": "[encoded data removed]",
      "text/plain": [
       "<Figure size 432x288 with 1 Axes>"
      ]
     },
     "metadata": {
      "needs_background": "light"
     },
     "output_type": "display_data"
    }
   ],
   "source": [
    "# Run this cell\n",
    "sample_table = pd.DataFrame(data={'Math 110 Averages': means})\n",
    "sample_table.hist();"
   ]
  },
  {
   "cell_type": "markdown",
   "metadata": {},
   "source": [
    "<div style=\"border-left: 3px solid #FDB515; padding: 1px; padding-left: 10px; background: #ffffff; \">\n",
    "\n",
    "## 4.b Confidence Interval"
   ]
  },
  {
   "cell_type": "markdown",
   "metadata": {},
   "source": [
    "<div style=\"border-left: 3px solid #003262; padding: 1px; padding-left: 10px; background: #f0f0ff; \">\n",
    "    \n",
    "In the case of our lab, after bootstrapping is done, we want to find out the confidence interval. Bootstrapping produces an interval of estimates, to account for chance variability in the random sample. However, it happens that out of 100 resamples, around 5 of them do not include the statistic of the population. Because of this, we are only 95% confident that the bootstrap contains our population parameter. \n",
    "\n",
    "To account for this, we create a **95% Confidence Interval** of the bootstrap. We do this by using the **.quantile** function, which takes in the left and right parameters. These, we choose to be *0.025* and *0.975* so that we may be the medium 95% of the bootstrap values. "
   ]
  },
  {
   "cell_type": "code",
   "execution_count": 39,
   "metadata": {},
   "outputs": [
    {
     "data": {
      "text/plain": [
       "[2.8579749999999984, 3.1939999999999986]"
      ]
     },
     "execution_count": 39,
     "metadata": {},
     "output_type": "execute_result"
    }
   ],
   "source": [
    "# Run this cell\n",
    "left_95 = 0.025\n",
    "right_95 = 0.975\n",
    "percentile = list(sample_table.quantile([left_95, right_95])['Math 110 Averages'])\n",
    "percentile"
   ]
  },
  {
   "cell_type": "markdown",
   "metadata": {},
   "source": [
    "<div style=\"border-left: 3px solid #003262; padding: 1px; padding-left: 10px; background: #f0f0ff; \">\n",
    "       \n",
    "Run the next cell to see the 95% Confidence Interval overlayed onto the bootstrap. "
   ]
  },
  {
   "cell_type": "code",
   "execution_count": 40,
   "metadata": {},
   "outputs": [
    {
     "data": {
      "image/png": "[encoded data removed]",
      "text/plain": [
       "<Figure size 432x288 with 1 Axes>"
      ]
     },
     "metadata": {
      "needs_background": "light"
     },
     "output_type": "display_data"
    }
   ],
   "source": [
    "# Run this cell\n",
    "sample_table.hist()\n",
    "plt.hlines(y=0, xmin=percentile[0], xmax=percentile[1], linewidth=10, color = 'y');"
   ]
  },
  {
   "cell_type": "markdown",
   "metadata": {},
   "source": [
    "<div style=\"border-left: 3px solid #FDB515; padding: 1px; padding-left: 10px; background: #ffffff; \">\n",
    "\n",
    "## 4.c The P-value"
   ]
  },
  {
   "cell_type": "markdown",
   "metadata": {},
   "source": [
    "<div style=\"border-left: 3px solid #BC9B6A; padding: 1px; padding-left: 10px; background: #ffffff; \">\n",
    "\n",
    "### Background"
   ]
  },
  {
   "cell_type": "markdown",
   "metadata": {},
   "source": [
    "<div style=\"border-left: 3px solid #003262; padding: 1px; padding-left: 10px; background: #f0f0ff; \">\n",
    "\n",
    "Before diving into the p-value, we need to go over some basic necessary background, namely the **null hypothesis** and the **alternative hypothesis**."
   ]
  },
  {
   "cell_type": "markdown",
   "metadata": {},
   "source": [
    "<div style=\"border-left: 3px solid #003262; padding: 1px; padding-left: 10px; background: #f0f0ff; \">\n",
    "    \n",
    "All statistical tests attempt to choose between two views of the world. Specifically, the choice is between two views about how the data were generated. These two views are called hypotheses.\n",
    "\n",
    "**The null hypothesis**: This is a clearly defined model about chances. It says that the data was generated at random under clearly specified assumptions about the randomness. The word “null” reinforces the idea that if the data look different from what the null hypothesis predicts, the difference is due to nothing but chance.\n",
    "\n",
    "**The alternative hypothesis**: This says that some reason other than chance made the data differ from the predictions of the model in the null hypothesis."
   ]
  },
  {
   "cell_type": "markdown",
   "metadata": {},
   "source": [
    "<div style=\"border-left: 3px solid #003262; padding: 1px; padding-left: 10px; background: #f0f0ff; \">\n",
    "    \n",
    "Let's say that in Fall 2018, the head of the math department wanted to sample the scores of 100 students from one of the math classes on campus. He did this, but forgot to write down what math class it was. The mean that he obtained from these 100 students was 3.25, which we will assign to **math_mean**. Did he take the sample from Math 110, or was it from another class?\n",
    "\n",
    "<span style=\"color:red\">**You mention here that the mean you obtain from the 100 students is 3.25, but you set the `math_mean` to be 3.408 below: is this a typo?**</span>"
   ]
  },
  {
   "cell_type": "code",
   "execution_count": 41,
   "metadata": {
    "collapsed": true
   },
   "outputs": [],
   "source": [
    "# Run this cell\n",
    "math_mean = 3.408"
   ]
  },
  {
   "cell_type": "markdown",
   "metadata": {},
   "source": [
    "<div style=\"border-left: 3px solid #003262; padding: 1px; padding-left: 10px; background: #f0f0ff; \">\n",
    "    \n",
    "The first step is to come up with a **null hypothesis** and a **alternative hypothesis**."
   ]
  },
  {
   "cell_type": "markdown",
   "metadata": {},
   "source": [
    "<div style=\"border-left: 3px solid #003262; padding: 1px; padding-left: 10px; background: #f0f0ff; \">\n",
    "\n",
    "**null hypothesis**: math_mean comes from the same sample distribution as that of Fall 2018 Math 110. Any variation is purely due to chance.\n",
    "\n",
    "**alternative hypothesis**: math_mean does not come from the same sample distribution as that of Fall 2018 Math 110. "
   ]
  },
  {
   "cell_type": "markdown",
   "metadata": {},
   "source": [
    "<div style=\"border-left: 3px solid #003262; padding: 1px; padding-left: 10px; background: #f0f0ff; \">\n",
    "    \n",
    "We can find out what hypothesis is correct using something called a p-value. The P-value of a test is the chance, based on the model in the null hypothesis, that the test statistic will be equal to the observed value in the sample or even further in the direction that supports the alternative.\n",
    "\n",
    "If a P-value is small, that means the tail beyond the observed statistic is small and so the observed statistic is far away from what the null predicts. This implies that the data support the alternative hypothesis better than they support the null. By convention, we say that anything less than 5% is \"statistically significant\"."
   ]
  },
  {
   "cell_type": "code",
   "execution_count": 42,
   "metadata": {},
   "outputs": [
    {
     "data": {
      "image/png": "[encoded data removed]",
      "text/plain": [
       "<Figure size 432x288 with 1 Axes>"
      ]
     },
     "metadata": {
      "needs_background": "light"
     },
     "output_type": "display_data"
    }
   ],
   "source": [
    "# Run this cell\n",
    "sample_table.hist(bins = 20)\n",
    "plt.axvline(math_mean, color = 'k');"
   ]
  },
  {
   "cell_type": "code",
   "execution_count": 43,
   "metadata": {},
   "outputs": [
    {
     "data": {
      "text/plain": [
       "0.0"
      ]
     },
     "execution_count": 43,
     "metadata": {},
     "output_type": "execute_result"
    }
   ],
   "source": [
    "# Run this cell\n",
    "p_value = np.average(sample_table > math_mean)\n",
    "p_value"
   ]
  },
  {
   "cell_type": "markdown",
   "metadata": {},
   "source": [
    "<div style=\"border-left: 3px solid #003262; padding: 1px; padding-left: 10px; background: #f0f0ff; \">\n",
    "    \n",
    "Our P-value ends up being 0.0. Because out P-value is less than 0.05, we reject the **null hypothesis**. We, however do not yet accept the **alternative hypothesis**, we just know that the null hypothesis is incorrect.\n",
    "\n",
    "<span style=\"color:red\">**What does it mean to reject the null hypothesis in the context of this problem? What does that statement look like? What would it look like to \"accespt the alternative hypothesis\", and why is that wrong?**</span>"
   ]
  },
  {
   "cell_type": "markdown",
   "metadata": {},
   "source": [
    "<div style=\"border-left: 3px solid #003262; padding: 1px; padding-left: 10px; background: #f0f0ff; \">\n",
    "    \n",
    "After doing some organizing in her office, the head of the math department found out what course had been sampled, it was actually Math 125A! We were right, the mean of the sampled class had not come from the same distribution as that of our own, Math 110!"
   ]
  },
  {
   "cell_type": "markdown",
   "metadata": {},
   "source": [
    "# Conclusion"
   ]
  },
  {
   "cell_type": "markdown",
   "metadata": {},
   "source": [
    "<div style=\"border-left: 3px solid #003262; padding: 1px; padding-left: 10px; background: #f0f0ff; \">\n",
    "    \n",
    "It is important that you review these concepts before your in-class lab. Know the basics of operating python and how to utilize some of the functions like **.sort_values**, **len(...)**, **sum(...)**, **.values** and **[...]**. Don't worry too much about the code for Part 3, but do know conceptually what a bootstrap does, what a 95% Confidence Interval is, and what the significance of a P-value is. "
   ]
  },
  {
   "cell_type": "code",
   "execution_count": null,
   "metadata": {
    "collapsed": true
   },
   "outputs": [],
   "source": []
  }
 ],
 "metadata": {
  "kernelspec": {
   "display_name": "Python 3",
   "language": "python",
   "name": "python3"
  },
  "language_info": {
   "codemirror_mode": {
    "name": "ipython",
    "version": 3
   },
   "file_extension": ".py",
   "mimetype": "text/x-python",
   "name": "python",
   "nbconvert_exporter": "python",
   "pygments_lexer": "ipython3",
   "version": "3.6.5"
  }
 },
 "nbformat": 4,
 "nbformat_minor": 2
}
