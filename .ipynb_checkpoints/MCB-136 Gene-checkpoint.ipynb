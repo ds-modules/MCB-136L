{
 "cells": [
  {
   "cell_type": "markdown",
   "metadata": {},
   "source": [
    "<h1 align=\"center\">Lab 12: Introduction to Allen Mouse Brain Atlas Tools</h1>\n",
    "<h3 align=\"center\">Estimated Duration: 30 mins</h3>"
   ]
  },
  {
   "cell_type": "markdown",
   "metadata": {},
   "source": [
    "## Introduction"
   ]
  },
  {
   "cell_type": "markdown",
   "metadata": {},
   "source": [
    "<div style=\"border-left: 3px solid #000; padding: 1px; padding-left: 10px; background: #f0f0ff; \">\n",
    "    In the first part of the lab, we used the Mouse Connectivity Atlas to analyze projection data within regions of the brain. In this part of the lab, we will instead use the Mouse Brain Atlas to explore the gene expression density within specific regions and entire structure of the brain\n",
    "\n",
    "</center></p>. </div>"
   ]
  },
  {
   "cell_type": "markdown",
   "metadata": {},
   "source": [
    "## Pre-lab: Importing Data"
   ]
  },
  {
   "cell_type": "markdown",
   "metadata": {},
   "source": [
    "<div style=\"border-left: 3px solid #000; padding: 1px; padding-left: 10px; background: #f0f0ff; \">\n",
    "    \n",
    "Similar to the first part of the lab, we will be importing an Allen atlas. The cell below downloads all Mouse Brain experiments, expression density, and griddata that we'll be using to analyze gene expression. However, unlike the previous lab, we will take you through an example of gene data analysis with the subiculum and allow you to repeat this lab with a brain region and gene of your choice. \n",
    "\n",
    "</div>"
   ]
  },
  {
   "cell_type": "code",
   "execution_count": 7,
   "metadata": {},
   "outputs": [],
   "source": [
    "# Run this cell\n",
    "import pandas as pd\n",
    "import numpy as np\n",
    "import os\n",
    "import matplotlib.pyplot as plt\n",
    "from allensdk.core.mouse_connectivity_cache import MouseConnectivityCache\n",
    "from allensdk.api.queries.ontologies_api import OntologiesApi\n",
    "\n",
    "%matplotlib inline \n",
    "import seaborn as sns\n",
    "\n",
    "import ipywidgets as widgets\n",
    "from ipywidgets import interact, interactive, fixed, interact_manual\n",
    "\n",
    "from allensdk.api.queries.mouse_atlas_api import MouseAtlasApi\n",
    "from allensdk.core import sitk_utilities\n",
    "from allensdk.api.cache import Cache, cacheable\n",
    "\n",
    "from allensdk.api.queries.reference_space_api import ReferenceSpaceApi\n",
    "from allensdk.api.queries.grid_data_api import GridDataApi\n",
    "from allensdk.api.queries.rma_pager import pageable"
   ]
  },
  {
   "cell_type": "markdown",
   "metadata": {},
   "source": [
    "<div style=\"border-left: 3px solid #000; padding: 1px; padding-left: 10px; background: #f0f0ff; \">\n",
    "Note: This lab will be split into two rounds, the first of which will simply be taking you through analysis with the subiculum. Following this, you will see instructions being split into **1st round** and **2nd round**. \n",
    "    \n",
    "    1st round: We will be reading data that we imported into this lab folder through the read_csv() method that takes in a .csv file and converts its contents into a table.\n",
    "    \n",
    "    2nd round: Replace the file name within the quotations in read_csv() with the file you downloaded.\n",
    "</div>"
   ]
  },
  {
   "cell_type": "markdown",
   "metadata": {},
   "source": [
    "<div style=\"border-left: 3px solid #000; padding: 1px; padding-left: 10px; background: #f0f0ff; \">\n",
    "    Run the next cell block to check if the data was successfully retrieved. You should see a table with a list of 19 experiments for the subiculum. From now on, we'll be using the variable maa to retrieve all data.\n",
    "\n",
    "</div>"
   ]
  },
  {
   "cell_type": "code",
   "execution_count": 23,
   "metadata": {},
   "outputs": [
    {
     "data": {
      "text/html": [
       "<div>\n",
       "<style scoped>\n",
       "    .dataframe tbody tr th:only-of-type {\n",
       "        vertical-align: middle;\n",
       "    }\n",
       "\n",
       "    .dataframe tbody tr th {\n",
       "        vertical-align: top;\n",
       "    }\n",
       "\n",
       "    .dataframe thead th {\n",
       "        text-align: right;\n",
       "    }\n",
       "</style>\n",
       "<table border=\"1\" class=\"dataframe\">\n",
       "  <thead>\n",
       "    <tr style=\"text-align: right;\">\n",
       "      <th></th>\n",
       "      <th>id</th>\n",
       "      <th>name</th>\n",
       "      <th>gene-id</th>\n",
       "      <th>gene-symbol</th>\n",
       "      <th>gene-name</th>\n",
       "      <th>entrez-id</th>\n",
       "      <th>chromosome</th>\n",
       "      <th>plane-of-section</th>\n",
       "      <th>specimen-id</th>\n",
       "      <th>fold-change</th>\n",
       "      <th>target-sum</th>\n",
       "      <th>contrast-sum</th>\n",
       "      <th>num-target-samples</th>\n",
       "      <th>num-contrast-samples</th>\n",
       "    </tr>\n",
       "  </thead>\n",
       "  <tbody>\n",
       "    <tr>\n",
       "      <th>0</th>\n",
       "      <td>74003393</td>\n",
       "      <td>RP_060119_02_B01</td>\n",
       "      <td>88778</td>\n",
       "      <td>Gpr161</td>\n",
       "      <td>G protein-coupled receptor 161</td>\n",
       "      <td>240888</td>\n",
       "      <td>1</td>\n",
       "      <td>sagittal</td>\n",
       "      <td>NaN</td>\n",
       "      <td>16.080</td>\n",
       "      <td>2829.416</td>\n",
       "      <td>15265.243</td>\n",
       "      <td>320</td>\n",
       "      <td>27762</td>\n",
       "    </tr>\n",
       "    <tr>\n",
       "      <th>1</th>\n",
       "      <td>74003403</td>\n",
       "      <td>RP_050331_02_D08</td>\n",
       "      <td>88778</td>\n",
       "      <td>Gpr161</td>\n",
       "      <td>G protein-coupled receptor 161</td>\n",
       "      <td>240888</td>\n",
       "      <td>1</td>\n",
       "      <td>sagittal</td>\n",
       "      <td>NaN</td>\n",
       "      <td>14.725</td>\n",
       "      <td>2630.611</td>\n",
       "      <td>14340.334</td>\n",
       "      <td>315</td>\n",
       "      <td>25286</td>\n",
       "    </tr>\n",
       "    <tr>\n",
       "      <th>2</th>\n",
       "      <td>70238866</td>\n",
       "      <td>RP_050526_04_C05</td>\n",
       "      <td>71750</td>\n",
       "      <td>Dio3</td>\n",
       "      <td>deiodinase, iodothyronine type III</td>\n",
       "      <td>107585</td>\n",
       "      <td>12</td>\n",
       "      <td>sagittal</td>\n",
       "      <td>NaN</td>\n",
       "      <td>12.606</td>\n",
       "      <td>311.267</td>\n",
       "      <td>2028.147</td>\n",
       "      <td>296</td>\n",
       "      <td>24312</td>\n",
       "    </tr>\n",
       "    <tr>\n",
       "      <th>3</th>\n",
       "      <td>1364</td>\n",
       "      <td>RP_Baylor_103371</td>\n",
       "      <td>86272</td>\n",
       "      <td>Grp</td>\n",
       "      <td>gastrin releasing peptide</td>\n",
       "      <td>225642</td>\n",
       "      <td>18</td>\n",
       "      <td>sagittal</td>\n",
       "      <td>NaN</td>\n",
       "      <td>10.960</td>\n",
       "      <td>938.078</td>\n",
       "      <td>6998.214</td>\n",
       "      <td>317</td>\n",
       "      <td>25919</td>\n",
       "    </tr>\n",
       "    <tr>\n",
       "      <th>4</th>\n",
       "      <td>70562045</td>\n",
       "      <td>RP_050331_02_D08</td>\n",
       "      <td>88778</td>\n",
       "      <td>Gpr161</td>\n",
       "      <td>G protein-coupled receptor 161</td>\n",
       "      <td>240888</td>\n",
       "      <td>1</td>\n",
       "      <td>coronal</td>\n",
       "      <td>NaN</td>\n",
       "      <td>10.644</td>\n",
       "      <td>3845.768</td>\n",
       "      <td>31005.322</td>\n",
       "      <td>320</td>\n",
       "      <td>27460</td>\n",
       "    </tr>\n",
       "    <tr>\n",
       "      <th>5</th>\n",
       "      <td>1363</td>\n",
       "      <td>RP_Baylor_103371</td>\n",
       "      <td>86272</td>\n",
       "      <td>Grp</td>\n",
       "      <td>gastrin releasing peptide</td>\n",
       "      <td>225642</td>\n",
       "      <td>18</td>\n",
       "      <td>coronal</td>\n",
       "      <td>NaN</td>\n",
       "      <td>8.617</td>\n",
       "      <td>945.714</td>\n",
       "      <td>9300.524</td>\n",
       "      <td>302</td>\n",
       "      <td>25591</td>\n",
       "    </tr>\n",
       "    <tr>\n",
       "      <th>6</th>\n",
       "      <td>74357582</td>\n",
       "      <td>RP_051012_03_E02</td>\n",
       "      <td>42404</td>\n",
       "      <td>2310042E22Rik</td>\n",
       "      <td>RIKEN cDNA 2310042E22 gene</td>\n",
       "      <td>66561</td>\n",
       "      <td>16</td>\n",
       "      <td>coronal</td>\n",
       "      <td>NaN</td>\n",
       "      <td>8.483</td>\n",
       "      <td>430.646</td>\n",
       "      <td>4236.764</td>\n",
       "      <td>313</td>\n",
       "      <td>26121</td>\n",
       "    </tr>\n",
       "    <tr>\n",
       "      <th>7</th>\n",
       "      <td>71717188</td>\n",
       "      <td>RP_050526_04_C05</td>\n",
       "      <td>71750</td>\n",
       "      <td>Dio3</td>\n",
       "      <td>deiodinase, iodothyronine type III</td>\n",
       "      <td>107585</td>\n",
       "      <td>12</td>\n",
       "      <td>coronal</td>\n",
       "      <td>NaN</td>\n",
       "      <td>8.041</td>\n",
       "      <td>349.997</td>\n",
       "      <td>3680.563</td>\n",
       "      <td>320</td>\n",
       "      <td>27059</td>\n",
       "    </tr>\n",
       "    <tr>\n",
       "      <th>8</th>\n",
       "      <td>1305</td>\n",
       "      <td>RP_Baylor_103087</td>\n",
       "      <td>21823</td>\n",
       "      <td>Trpc4</td>\n",
       "      <td>transient receptor potential cation channel, s...</td>\n",
       "      <td>22066</td>\n",
       "      <td>3</td>\n",
       "      <td>coronal</td>\n",
       "      <td>NaN</td>\n",
       "      <td>7.541</td>\n",
       "      <td>2692.816</td>\n",
       "      <td>29984.627</td>\n",
       "      <td>320</td>\n",
       "      <td>26871</td>\n",
       "    </tr>\n",
       "    <tr>\n",
       "      <th>9</th>\n",
       "      <td>71016632</td>\n",
       "      <td>RP_050725_03_B01</td>\n",
       "      <td>88569</td>\n",
       "      <td>Rspo2</td>\n",
       "      <td>R-spondin 2 homolog (Xenopus laevis)</td>\n",
       "      <td>239405</td>\n",
       "      <td>15</td>\n",
       "      <td>coronal</td>\n",
       "      <td>NaN</td>\n",
       "      <td>7.112</td>\n",
       "      <td>930.369</td>\n",
       "      <td>9461.892</td>\n",
       "      <td>320</td>\n",
       "      <td>23146</td>\n",
       "    </tr>\n",
       "    <tr>\n",
       "      <th>10</th>\n",
       "      <td>79913274</td>\n",
       "      <td>RP_071204_04_F07</td>\n",
       "      <td>86272</td>\n",
       "      <td>Grp</td>\n",
       "      <td>gastrin releasing peptide</td>\n",
       "      <td>225642</td>\n",
       "      <td>18</td>\n",
       "      <td>sagittal</td>\n",
       "      <td>NaN</td>\n",
       "      <td>7.060</td>\n",
       "      <td>1215.613</td>\n",
       "      <td>16073.155</td>\n",
       "      <td>285</td>\n",
       "      <td>26603</td>\n",
       "    </tr>\n",
       "    <tr>\n",
       "      <th>11</th>\n",
       "      <td>224</td>\n",
       "      <td>RP_040324_01_A12</td>\n",
       "      <td>12290</td>\n",
       "      <td>Cd44</td>\n",
       "      <td>CD44 antigen</td>\n",
       "      <td>12505</td>\n",
       "      <td>2</td>\n",
       "      <td>coronal</td>\n",
       "      <td>NaN</td>\n",
       "      <td>6.719</td>\n",
       "      <td>467.322</td>\n",
       "      <td>5336.251</td>\n",
       "      <td>320</td>\n",
       "      <td>24550</td>\n",
       "    </tr>\n",
       "    <tr>\n",
       "      <th>12</th>\n",
       "      <td>68844146</td>\n",
       "      <td>RP_050222_01_A03</td>\n",
       "      <td>108718</td>\n",
       "      <td>6030405A18Rik</td>\n",
       "      <td>RIKEN cDNA 6030405A18 gene</td>\n",
       "      <td>329641</td>\n",
       "      <td>3</td>\n",
       "      <td>sagittal</td>\n",
       "      <td>NaN</td>\n",
       "      <td>6.608</td>\n",
       "      <td>1315.871</td>\n",
       "      <td>17924.572</td>\n",
       "      <td>264</td>\n",
       "      <td>23763</td>\n",
       "    </tr>\n",
       "    <tr>\n",
       "      <th>13</th>\n",
       "      <td>72129294</td>\n",
       "      <td>RP_051017_03_F10</td>\n",
       "      <td>86813</td>\n",
       "      <td>Tshz2</td>\n",
       "      <td>teashirt zinc finger family member 2</td>\n",
       "      <td>228911</td>\n",
       "      <td>2</td>\n",
       "      <td>coronal</td>\n",
       "      <td>NaN</td>\n",
       "      <td>6.423</td>\n",
       "      <td>320.768</td>\n",
       "      <td>4558.922</td>\n",
       "      <td>276</td>\n",
       "      <td>25197</td>\n",
       "    </tr>\n",
       "    <tr>\n",
       "      <th>14</th>\n",
       "      <td>79904698</td>\n",
       "      <td>RP_071218_03_E07</td>\n",
       "      <td>21823</td>\n",
       "      <td>Trpc4</td>\n",
       "      <td>transient receptor potential cation channel, s...</td>\n",
       "      <td>22066</td>\n",
       "      <td>3</td>\n",
       "      <td>sagittal</td>\n",
       "      <td>NaN</td>\n",
       "      <td>6.278</td>\n",
       "      <td>2439.877</td>\n",
       "      <td>33137.250</td>\n",
       "      <td>274</td>\n",
       "      <td>23364</td>\n",
       "    </tr>\n",
       "    <tr>\n",
       "      <th>15</th>\n",
       "      <td>67978686</td>\n",
       "      <td>RP_040923_01_E11</td>\n",
       "      <td>56093</td>\n",
       "      <td>Zxdc</td>\n",
       "      <td>ZXD family zinc finger C</td>\n",
       "      <td>80292</td>\n",
       "      <td>6</td>\n",
       "      <td>sagittal</td>\n",
       "      <td>NaN</td>\n",
       "      <td>6.241</td>\n",
       "      <td>316.416</td>\n",
       "      <td>5661.025</td>\n",
       "      <td>236</td>\n",
       "      <td>26353</td>\n",
       "    </tr>\n",
       "    <tr>\n",
       "      <th>16</th>\n",
       "      <td>68797894</td>\n",
       "      <td>RP_050215_01_D02</td>\n",
       "      <td>106517</td>\n",
       "      <td>6430573F11Rik</td>\n",
       "      <td>RIKEN cDNA 6430573F11 gene</td>\n",
       "      <td>319582</td>\n",
       "      <td>8</td>\n",
       "      <td>sagittal</td>\n",
       "      <td>NaN</td>\n",
       "      <td>6.179</td>\n",
       "      <td>860.748</td>\n",
       "      <td>12081.941</td>\n",
       "      <td>320</td>\n",
       "      <td>27754</td>\n",
       "    </tr>\n",
       "    <tr>\n",
       "      <th>17</th>\n",
       "      <td>2464</td>\n",
       "      <td>RP_Baylor_102944</td>\n",
       "      <td>18271</td>\n",
       "      <td>Pax3</td>\n",
       "      <td>paired box gene 3</td>\n",
       "      <td>18505</td>\n",
       "      <td>1</td>\n",
       "      <td>coronal</td>\n",
       "      <td>NaN</td>\n",
       "      <td>6.127</td>\n",
       "      <td>404.453</td>\n",
       "      <td>5376.387</td>\n",
       "      <td>320</td>\n",
       "      <td>26061</td>\n",
       "    </tr>\n",
       "    <tr>\n",
       "      <th>18</th>\n",
       "      <td>68667366</td>\n",
       "      <td>RP_050201_02_B06</td>\n",
       "      <td>88569</td>\n",
       "      <td>Rspo2</td>\n",
       "      <td>R-spondin 2 homolog (Xenopus laevis)</td>\n",
       "      <td>239405</td>\n",
       "      <td>15</td>\n",
       "      <td>sagittal</td>\n",
       "      <td>NaN</td>\n",
       "      <td>6.062</td>\n",
       "      <td>668.235</td>\n",
       "      <td>11700.461</td>\n",
       "      <td>230</td>\n",
       "      <td>24411</td>\n",
       "    </tr>\n",
       "    <tr>\n",
       "      <th>19</th>\n",
       "      <td>329</td>\n",
       "      <td>RP_Baylor_102722</td>\n",
       "      <td>12959</td>\n",
       "      <td>Dcn</td>\n",
       "      <td>decorin</td>\n",
       "      <td>13179</td>\n",
       "      <td>10</td>\n",
       "      <td>coronal</td>\n",
       "      <td>NaN</td>\n",
       "      <td>6.004</td>\n",
       "      <td>2896.727</td>\n",
       "      <td>39588.445</td>\n",
       "      <td>320</td>\n",
       "      <td>26258</td>\n",
       "    </tr>\n",
       "  </tbody>\n",
       "</table>\n",
       "</div>"
      ],
      "text/plain": [
       "          id              name  gene-id    gene-symbol  \\\n",
       "0   74003393  RP_060119_02_B01    88778         Gpr161   \n",
       "1   74003403  RP_050331_02_D08    88778         Gpr161   \n",
       "2   70238866  RP_050526_04_C05    71750           Dio3   \n",
       "3       1364  RP_Baylor_103371    86272            Grp   \n",
       "4   70562045  RP_050331_02_D08    88778         Gpr161   \n",
       "5       1363  RP_Baylor_103371    86272            Grp   \n",
       "6   74357582  RP_051012_03_E02    42404  2310042E22Rik   \n",
       "7   71717188  RP_050526_04_C05    71750           Dio3   \n",
       "8       1305  RP_Baylor_103087    21823          Trpc4   \n",
       "9   71016632  RP_050725_03_B01    88569          Rspo2   \n",
       "10  79913274  RP_071204_04_F07    86272            Grp   \n",
       "11       224  RP_040324_01_A12    12290           Cd44   \n",
       "12  68844146  RP_050222_01_A03   108718  6030405A18Rik   \n",
       "13  72129294  RP_051017_03_F10    86813          Tshz2   \n",
       "14  79904698  RP_071218_03_E07    21823          Trpc4   \n",
       "15  67978686  RP_040923_01_E11    56093           Zxdc   \n",
       "16  68797894  RP_050215_01_D02   106517  6430573F11Rik   \n",
       "17      2464  RP_Baylor_102944    18271           Pax3   \n",
       "18  68667366  RP_050201_02_B06    88569          Rspo2   \n",
       "19       329  RP_Baylor_102722    12959            Dcn   \n",
       "\n",
       "                                            gene-name  entrez-id  chromosome  \\\n",
       "0                      G protein-coupled receptor 161     240888           1   \n",
       "1                      G protein-coupled receptor 161     240888           1   \n",
       "2                  deiodinase, iodothyronine type III     107585          12   \n",
       "3                           gastrin releasing peptide     225642          18   \n",
       "4                      G protein-coupled receptor 161     240888           1   \n",
       "5                           gastrin releasing peptide     225642          18   \n",
       "6                          RIKEN cDNA 2310042E22 gene      66561          16   \n",
       "7                  deiodinase, iodothyronine type III     107585          12   \n",
       "8   transient receptor potential cation channel, s...      22066           3   \n",
       "9                R-spondin 2 homolog (Xenopus laevis)     239405          15   \n",
       "10                          gastrin releasing peptide     225642          18   \n",
       "11                                       CD44 antigen      12505           2   \n",
       "12                         RIKEN cDNA 6030405A18 gene     329641           3   \n",
       "13               teashirt zinc finger family member 2     228911           2   \n",
       "14  transient receptor potential cation channel, s...      22066           3   \n",
       "15                           ZXD family zinc finger C      80292           6   \n",
       "16                         RIKEN cDNA 6430573F11 gene     319582           8   \n",
       "17                                  paired box gene 3      18505           1   \n",
       "18               R-spondin 2 homolog (Xenopus laevis)     239405          15   \n",
       "19                                            decorin      13179          10   \n",
       "\n",
       "   plane-of-section  specimen-id  fold-change  target-sum  contrast-sum  \\\n",
       "0          sagittal          NaN       16.080    2829.416     15265.243   \n",
       "1          sagittal          NaN       14.725    2630.611     14340.334   \n",
       "2          sagittal          NaN       12.606     311.267      2028.147   \n",
       "3          sagittal          NaN       10.960     938.078      6998.214   \n",
       "4           coronal          NaN       10.644    3845.768     31005.322   \n",
       "5           coronal          NaN        8.617     945.714      9300.524   \n",
       "6           coronal          NaN        8.483     430.646      4236.764   \n",
       "7           coronal          NaN        8.041     349.997      3680.563   \n",
       "8           coronal          NaN        7.541    2692.816     29984.627   \n",
       "9           coronal          NaN        7.112     930.369      9461.892   \n",
       "10         sagittal          NaN        7.060    1215.613     16073.155   \n",
       "11          coronal          NaN        6.719     467.322      5336.251   \n",
       "12         sagittal          NaN        6.608    1315.871     17924.572   \n",
       "13          coronal          NaN        6.423     320.768      4558.922   \n",
       "14         sagittal          NaN        6.278    2439.877     33137.250   \n",
       "15         sagittal          NaN        6.241     316.416      5661.025   \n",
       "16         sagittal          NaN        6.179     860.748     12081.941   \n",
       "17          coronal          NaN        6.127     404.453      5376.387   \n",
       "18         sagittal          NaN        6.062     668.235     11700.461   \n",
       "19          coronal          NaN        6.004    2896.727     39588.445   \n",
       "\n",
       "    num-target-samples  num-contrast-samples  \n",
       "0                  320                 27762  \n",
       "1                  315                 25286  \n",
       "2                  296                 24312  \n",
       "3                  317                 25919  \n",
       "4                  320                 27460  \n",
       "5                  302                 25591  \n",
       "6                  313                 26121  \n",
       "7                  320                 27059  \n",
       "8                  320                 26871  \n",
       "9                  320                 23146  \n",
       "10                 285                 26603  \n",
       "11                 320                 24550  \n",
       "12                 264                 23763  \n",
       "13                 276                 25197  \n",
       "14                 274                 23364  \n",
       "15                 236                 26353  \n",
       "16                 320                 27754  \n",
       "17                 320                 26061  \n",
       "18                 230                 24411  \n",
       "19                 320                 26258  "
      ]
     },
     "execution_count": 23,
     "metadata": {},
     "output_type": "execute_result"
    }
   ],
   "source": [
    "# Creates variables to access the API with.\n",
    "maa = pd.read_csv(\"convertcsv.csv\")\n",
    "maa"
   ]
  },
  {
   "cell_type": "markdown",
   "metadata": {},
   "source": [
    "## Part 1: Gene Expression Within Brain Regions"
   ]
  },
  {
   "cell_type": "markdown",
   "metadata": {},
   "source": [
    "<div style=\"border-left: 3px solid #000; padding: 1px; padding-left: 10px; background: #f0f0ff; \">\n",
    "\n",
    "In this section, we will begin to explore the relationship between the expression tendencies of specific genes within brain regions.\n",
    "\n",
    "</div>"
   ]
  },
  {
   "cell_type": "markdown",
   "metadata": {},
   "source": [
    "## Part 1.1: Selecting a gene"
   ]
  },
  {
   "cell_type": "markdown",
   "metadata": {},
   "source": [
    "<div style=\"border-left: 3px solid #000; padding: 1px; padding-left: 10px; background: #f0f0ff; \">\n",
    "\n",
    "1st round: We'll be analyzing G protein-coupled receptor 161 (Gpr 161) and its relevance in the subiculum. Since we no longer need other experiments for now, we'll be taking only experiments that have the gene id Gpr 161 by  \n",
    "\n",
    "2nd round: Replace Gpr161 to the gene of your choice. You may also change the variable name gpr161, if you choose. Then run the cell block. One way to vertify that the code retrieval was successful is by counting how many rows in the above table have the gene-symbol of your choice. You should see the same number of rows below.\n",
    "\n",
    "</div>"
   ]
  },
  {
   "cell_type": "code",
   "execution_count": 27,
   "metadata": {},
   "outputs": [
    {
     "data": {
      "text/html": [
       "<div>\n",
       "<style scoped>\n",
       "    .dataframe tbody tr th:only-of-type {\n",
       "        vertical-align: middle;\n",
       "    }\n",
       "\n",
       "    .dataframe tbody tr th {\n",
       "        vertical-align: top;\n",
       "    }\n",
       "\n",
       "    .dataframe thead th {\n",
       "        text-align: right;\n",
       "    }\n",
       "</style>\n",
       "<table border=\"1\" class=\"dataframe\">\n",
       "  <thead>\n",
       "    <tr style=\"text-align: right;\">\n",
       "      <th></th>\n",
       "      <th>id</th>\n",
       "      <th>name</th>\n",
       "      <th>gene-id</th>\n",
       "      <th>gene-symbol</th>\n",
       "      <th>gene-name</th>\n",
       "      <th>entrez-id</th>\n",
       "      <th>chromosome</th>\n",
       "      <th>plane-of-section</th>\n",
       "      <th>specimen-id</th>\n",
       "      <th>fold-change</th>\n",
       "      <th>target-sum</th>\n",
       "      <th>contrast-sum</th>\n",
       "      <th>num-target-samples</th>\n",
       "      <th>num-contrast-samples</th>\n",
       "    </tr>\n",
       "  </thead>\n",
       "  <tbody>\n",
       "    <tr>\n",
       "      <th>0</th>\n",
       "      <td>74003393</td>\n",
       "      <td>RP_060119_02_B01</td>\n",
       "      <td>88778</td>\n",
       "      <td>Gpr161</td>\n",
       "      <td>G protein-coupled receptor 161</td>\n",
       "      <td>240888</td>\n",
       "      <td>1</td>\n",
       "      <td>sagittal</td>\n",
       "      <td>NaN</td>\n",
       "      <td>16.080</td>\n",
       "      <td>2829.416</td>\n",
       "      <td>15265.243</td>\n",
       "      <td>320</td>\n",
       "      <td>27762</td>\n",
       "    </tr>\n",
       "    <tr>\n",
       "      <th>1</th>\n",
       "      <td>74003403</td>\n",
       "      <td>RP_050331_02_D08</td>\n",
       "      <td>88778</td>\n",
       "      <td>Gpr161</td>\n",
       "      <td>G protein-coupled receptor 161</td>\n",
       "      <td>240888</td>\n",
       "      <td>1</td>\n",
       "      <td>sagittal</td>\n",
       "      <td>NaN</td>\n",
       "      <td>14.725</td>\n",
       "      <td>2630.611</td>\n",
       "      <td>14340.334</td>\n",
       "      <td>315</td>\n",
       "      <td>25286</td>\n",
       "    </tr>\n",
       "    <tr>\n",
       "      <th>4</th>\n",
       "      <td>70562045</td>\n",
       "      <td>RP_050331_02_D08</td>\n",
       "      <td>88778</td>\n",
       "      <td>Gpr161</td>\n",
       "      <td>G protein-coupled receptor 161</td>\n",
       "      <td>240888</td>\n",
       "      <td>1</td>\n",
       "      <td>coronal</td>\n",
       "      <td>NaN</td>\n",
       "      <td>10.644</td>\n",
       "      <td>3845.768</td>\n",
       "      <td>31005.322</td>\n",
       "      <td>320</td>\n",
       "      <td>27460</td>\n",
       "    </tr>\n",
       "  </tbody>\n",
       "</table>\n",
       "</div>"
      ],
      "text/plain": [
       "         id              name  gene-id gene-symbol  \\\n",
       "0  74003393  RP_060119_02_B01    88778      Gpr161   \n",
       "1  74003403  RP_050331_02_D08    88778      Gpr161   \n",
       "4  70562045  RP_050331_02_D08    88778      Gpr161   \n",
       "\n",
       "                        gene-name  entrez-id  chromosome plane-of-section  \\\n",
       "0  G protein-coupled receptor 161     240888           1         sagittal   \n",
       "1  G protein-coupled receptor 161     240888           1         sagittal   \n",
       "4  G protein-coupled receptor 161     240888           1          coronal   \n",
       "\n",
       "   specimen-id  fold-change  target-sum  contrast-sum  num-target-samples  \\\n",
       "0          NaN       16.080    2829.416     15265.243                 320   \n",
       "1          NaN       14.725    2630.611     14340.334                 315   \n",
       "4          NaN       10.644    3845.768     31005.322                 320   \n",
       "\n",
       "   num-contrast-samples  \n",
       "0                 27762  \n",
       "1                 25286  \n",
       "4                 27460  "
      ]
     },
     "execution_count": 27,
     "metadata": {},
     "output_type": "execute_result"
    }
   ],
   "source": [
    "#selecting rows that match the gene symbol Gpr161\n",
    "gpr161 = maa[maa[\"gene-symbol\"] == \"Gpr161\"]\n",
    "gpr161"
   ]
  },
  {
   "cell_type": "markdown",
   "metadata": {},
   "source": [
    "## Part 1.2 : Calculating gene expression density"
   ]
  },
  {
   "cell_type": "markdown",
   "metadata": {},
   "source": [
    "<div style=\"border-left: 3px solid #000; padding: 1px; padding-left: 10px; background: #f0f0ff; \">\n",
    "1st round: To calculate density, we will create a function called **percentage**. This function takes in one parameter: \n",
    "       \n",
    "       gene: the gene-symbol of the gene currently being analyzed \n",
    "\n",
    "**Percentage** will display the percent that your gene appears relative to all genes in the subiculum. To calculate proportion, we use the total amount of times the gene appears in the subiculum over the total amount of gene expression in that region and multiply this value by 100 to get the percent. \n",
    "\n",
    "To store the number of times we see our gene_id and the number of genes total, we'll create the variables occurrences and total respectively. \n",
    "\n",
    "2nd round: If you changed the variable name gpr161 earlier, replace the name here. Otherwise, run the cell block to get the percentage of your chosen gene in your brain region.\n",
    "\n",
    "</div>"
   ]
  },
  {
   "cell_type": "code",
   "execution_count": 45,
   "metadata": {},
   "outputs": [
    {
     "data": {
      "text/plain": [
       "15.948563794255177"
      ]
     },
     "execution_count": 45,
     "metadata": {},
     "output_type": "execute_result"
    }
   ],
   "source": [
    "def percentage(gene):\n",
    "    occurrences = gene[\"num-target-samples\"].sum()\n",
    "    total = maa[\"num-target-samples\"].sum()\n",
    "    return occurrences / total * 100\n",
    "percentage(gpr161)"
   ]
  },
  {
   "cell_type": "markdown",
   "metadata": {},
   "source": [
    "## Part 1.3: Most Common Gene Expressions "
   ]
  },
  {
   "cell_type": "markdown",
   "metadata": {},
   "source": [
    "<div style=\"border-left: 3px solid #000; padding: 1px; padding-left: 10px; background: #f0f0ff; \">\n",
    "    \n",
    "1st found: To ensure you are on the right track, below is a bar graph indicating the three most expressed genes in the subiculum. Simply run the cell block.\n",
    "\n",
    "2nd round: Fill in your specified brain region within quotations below. Then, run the code below to construct a bar graph showing data relevant to your brain region.\n",
    "\n",
    "</div>"
   ]
  },
  {
   "cell_type": "code",
   "execution_count": 96,
   "metadata": {},
   "outputs": [
    {
     "data": {
      "image/png": "[encoded data removed]",
      "text/plain": [
       "<Figure size 432x288 with 1 Axes>"
      ]
     },
     "metadata": {
      "needs_background": "light"
     },
     "output_type": "display_data"
    }
   ],
   "source": [
    "def bar_graph():\n",
    "    listOfGenes = [] #gathering all unique gene symbols \n",
    "    for g in maa[\"gene-symbol\"]:\n",
    "        if g not in listOfGenes: \n",
    "            listOfGenes += [g] \n",
    "    \n",
    "    percentages = [] #percentage of gene expression of each unique gene symbol relative to all gene expression \n",
    "    for gene in listOfGenes: \n",
    "        geneData = maa[maa[\"gene-symbol\"] == gene]\n",
    "        percentages += [percentage(geneData)]\n",
    "        \n",
    "    plt.bar(listOfGenes, percentages) #plotting\n",
    "    plt.xlabel('Gene Symbol', fontsize = 12)\n",
    "    plt.ylabel('Percentage in brain region', fontsize = 12)\n",
    "    plt.tight_layout()\n",
    "    plt.xticks(rotation=90)\n",
    "    \n",
    "bar_graph()"
   ]
  },
  {
   "cell_type": "markdown",
   "metadata": {},
   "source": [
    "## Part 2: Do it Yourself"
   ]
  },
  {
   "cell_type": "markdown",
   "metadata": {},
   "source": [
    "<div style=\"border-left: 3px solid #000; padding: 1px; padding-left: 10px; background: #f0f0ff; \">\n",
    "\n",
    "As said earlier, you'll now get the chance to run through this lab with a brain region and gene of your choice. The following are instructions on how to get the data you need. \n",
    "</div>"
   ]
  },
  {
   "cell_type": "code",
   "execution_count": 65,
   "metadata": {},
   "outputs": [
    {
     "data": {
      "text/plain": [
       "0.23557054765769622"
      ]
     },
     "execution_count": 65,
     "metadata": {},
     "output_type": "execute_result"
    }
   ],
   "source": [
    "sub_mean = sum(proj_dens) / len(proj_dens)\n",
    "sub_mean"
   ]
  },
  {
   "cell_type": "markdown",
   "metadata": {},
   "source": [
    "<div style=\"border-left: 3px solid #000; padding: 1px; padding-left: 10px; background: #f0f0ff; \">\n",
    "\n",
    "Find the **median** of the projection densities at the medial mammillary nucleus.\n",
    "</div>"
   ]
  },
  {
   "cell_type": "code",
   "execution_count": 66,
   "metadata": {},
   "outputs": [
    {
     "data": {
      "text/plain": [
       "0.24814843696811198"
      ]
     },
     "execution_count": 66,
     "metadata": {},
     "output_type": "execute_result"
    }
   ],
   "source": [
    "sub_median = medial_mammillary.sort_values('projection_density', ascending=False)['projection_density'].values[2]\n",
    "sub_median"
   ]
  },
  {
   "cell_type": "markdown",
   "metadata": {},
   "source": [
    "<div style=\"border-left: 3px solid #000; padding: 1px; padding-left: 10px; background: #f0f0ff; \">\n",
    "\n",
    "Now find the **standard deviation** of the projection densities at the medial mammillary nucleus.\n",
    "\n",
    "Recall:\n",
    "\n",
    "$$\\sigma = \\sqrt{\\sum_{i=1}^N \\frac{(x-\\mu)^2}{N - 1}}$$\n",
    "\n",
    "* $\\sigma$ = standard deviation\n",
    "* $x$ = data\n",
    "* $\\mu$ = mean\n",
    "* $N$ = number of values\n",
    "</div>"
   ]
  },
  {
   "cell_type": "code",
   "execution_count": 67,
   "metadata": {},
   "outputs": [
    {
     "data": {
      "text/plain": [
       "0.17050709841601444"
      ]
     },
     "execution_count": 67,
     "metadata": {},
     "output_type": "execute_result"
    }
   ],
   "source": [
    "sub_std = np.sqrt(sum((proj_dens - sub_mean)**2) / (len(proj_dens) - 1))\n",
    "sub_std"
   ]
  },
  {
   "cell_type": "markdown",
   "metadata": {},
   "source": [
    "## Part 2.4: Average Projection Densities"
   ]
  },
  {
   "cell_type": "markdown",
   "metadata": {},
   "source": [
    "<div style=\"border-left: 3px solid #000; padding: 1px; padding-left: 10px; background: #f0f0ff; \">\n",
    "    \n",
    "Using our statistical analysis, we can observe the average projection densities at the top 20 sites where the subiculum maps to for the 5 wildtype injections.\n",
    "</div>"
   ]
  },
  {
   "cell_type": "code",
   "execution_count": 68,
   "metadata": {},
   "outputs": [
    {
     "data": {
      "image/png": "[encoded data removed]",
      "text/plain": [
       "<Figure size 432x288 with 1 Axes>"
      ]
     },
     "metadata": {
      "needs_background": "light"
     },
     "output_type": "display_data"
    }
   ],
   "source": [
    "# Run this cell\n",
    "\n",
    "# We can combine groupby and mean to find the average projection density across experiments for each summary structure\n",
    "unionizes_set_mean = (unionizes_set.groupby('structure_id', as_index = False)['projection_density'].mean())\n",
    "\n",
    "# Again, add a column with summary structure acronyms so we can interpret the unionizes more easily\n",
    "names = [name_map[strid] for strid in unionizes_set_mean['structure_id']]\n",
    "unionizes_set_mean['structure_name'] = names\n",
    "unionizes_set_mean.sort_values(by = 'projection_density', ascending = False, inplace = True)\n",
    "\n",
    "# Plot the 20 structures with the highest average projection density across all wild type Subiculum injections\n",
    "unionizes_set_mean[:20].plot('structure_name', 'projection_density', kind='barh')\n",
    "plt.gca().invert_yaxis()\n",
    "plt.title('Average Unionize Data for %i injections'%len(experiment_set));"
   ]
  },
  {
   "cell_type": "code",
   "execution_count": 69,
   "metadata": {},
   "outputs": [
    {
     "data": {
      "text/html": [
       "<div>\n",
       "<style scoped>\n",
       "    .dataframe tbody tr th:only-of-type {\n",
       "        vertical-align: middle;\n",
       "    }\n",
       "\n",
       "    .dataframe tbody tr th {\n",
       "        vertical-align: top;\n",
       "    }\n",
       "\n",
       "    .dataframe thead th {\n",
       "        text-align: right;\n",
       "    }\n",
       "</style>\n",
       "<table border=\"1\" class=\"dataframe\">\n",
       "  <thead>\n",
       "    <tr style=\"text-align: right;\">\n",
       "      <th></th>\n",
       "      <th>structure_name</th>\n",
       "      <th>mean_projection_density</th>\n",
       "      <th>stdev</th>\n",
       "    </tr>\n",
       "  </thead>\n",
       "  <tbody>\n",
       "    <tr>\n",
       "      <th>145</th>\n",
       "      <td>Medial mammillary nucleus</td>\n",
       "      <td>0.235571</td>\n",
       "      <td>0.170507</td>\n",
       "    </tr>\n",
       "    <tr>\n",
       "      <th>282</th>\n",
       "      <td>Presubiculum</td>\n",
       "      <td>0.156300</td>\n",
       "      <td>0.164140</td>\n",
       "    </tr>\n",
       "    <tr>\n",
       "      <th>35</th>\n",
       "      <td>Anteromedial nucleus</td>\n",
       "      <td>0.137534</td>\n",
       "      <td>0.125943</td>\n",
       "    </tr>\n",
       "    <tr>\n",
       "      <th>308</th>\n",
       "      <td>Perifornical nucleus</td>\n",
       "      <td>0.136466</td>\n",
       "      <td>0.101008</td>\n",
       "    </tr>\n",
       "    <tr>\n",
       "      <th>146</th>\n",
       "      <td>Subiculum</td>\n",
       "      <td>0.124839</td>\n",
       "      <td>0.083361</td>\n",
       "    </tr>\n",
       "  </tbody>\n",
       "</table>\n",
       "</div>"
      ],
      "text/plain": [
       "                structure_name  mean_projection_density     stdev\n",
       "145  Medial mammillary nucleus                 0.235571  0.170507\n",
       "282               Presubiculum                 0.156300  0.164140\n",
       "35        Anteromedial nucleus                 0.137534  0.125943\n",
       "308       Perifornical nucleus                 0.136466  0.101008\n",
       "146                  Subiculum                 0.124839  0.083361"
      ]
     },
     "execution_count": 69,
     "metadata": {},
     "output_type": "execute_result"
    }
   ],
   "source": [
    "# look at the data\n",
    "# re-generate means so they are in the same order as standard deviation\n",
    "unionizes_set_mean = (\n",
    "    unionizes_set.groupby('structure_id', as_index = False)[\n",
    "    'projection_density'].mean())\n",
    "\n",
    "# generate a second data frame with standard deviations\n",
    "unionizes_set_std = (\n",
    "    unionizes_set.groupby('structure_id', as_index = False)[\n",
    "    'projection_density'].std())\n",
    "\n",
    "# find names from structure ids\n",
    "names = [name_map[strid] for strid in unionizes_set_mean['structure_id']]\n",
    "\n",
    "# combine names, mean, and standard deviation into one dataframe for easy plotting\n",
    "set_mean_std = pd.DataFrame({'structure_name': names, \n",
    "                            'mean_projection_density': unionizes_set_mean['projection_density'], \n",
    "                            'stdev':  unionizes_set_std['projection_density']\n",
    "                            })\n",
    "\n",
    "# sort the dataframe to get the top 20 values on top\n",
    "set_mean_std.sort_values(by = 'mean_projection_density', ascending = False, inplace = True)\n",
    "\n",
    "set_mean_std.head()"
   ]
  },
  {
   "cell_type": "markdown",
   "metadata": {},
   "source": [
    "<div style=\"border-left: 3px solid #000; padding: 1px; padding-left: 10px; background: #f0f0ff; \">\n",
    "    \n",
    "Do your results match those in our visualization and the table above?\n",
    "</div>"
   ]
  },
  {
   "cell_type": "markdown",
   "metadata": {
    "collapsed": true
   },
   "source": [
    "## Part 3: Bootstrap"
   ]
  },
  {
   "cell_type": "markdown",
   "metadata": {},
   "source": [
    "<div style=\"border-left: 3px solid #000; padding: 1px; padding-left: 10px; background: #f0f0ff; \">\n",
    "\n",
    "For this part of the lab, we will apply a technique called boostraping to analyze the probability of a structure being a part of a circuit. We will start off with looking at the Primary Visual Cortex since it has more wildtype injections than the subiculum.\n",
    "</div>"
   ]
  },
  {
   "cell_type": "code",
   "execution_count": 70,
   "metadata": {},
   "outputs": [
    {
     "name": "stdout",
     "output_type": "stream",
     "text": [
      "Total number of experiments in the Primary visual area: 33\n",
      "Primary visual area id: 385\n"
     ]
    }
   ],
   "source": [
    "# Run this cell\n",
    "VISp = structure_tree.get_structures_by_name([\"Primary visual area\"])\n",
    "VISp_id = VISp[0]['id']\n",
    "visual_experiments = mcc.get_experiments(injection_structure_ids=[VISp_id]) \n",
    "visual_experiment_set = [exp['id'] for exp in visual_experiments if exp['transgenic_line'] == None]\n",
    "visual_data = pd.DataFrame(visual_experiment_set)\n",
    "print('Total number of experiments in the Primary visual area:', len(visual_data))\n",
    "print('Primary visual area id:', VISp_id)"
   ]
  },
  {
   "cell_type": "markdown",
   "metadata": {},
   "source": [
    "<div style=\"border-left: 3px solid #000; padding: 1px; padding-left: 10px; background: #f0f0ff; \">\n",
    "\n",
    "In the cell above, we obtain the structure id for the **Primary Visual Area** and filter the number of experiments to wildtype (transgenic line == None). This was the same procedure that was done in the subiculum but condensed into one cell. Try to follow along, but don't focus too much on the code. \n",
    "\n",
    "Next, we will obtain a **unionizes_set** similar to the one obtained for the subiculum. The unionizes set is a DataFrame that consists of all of the structures that the Primary visual area projects to for every injection. We named it visual_unionizes_set to differentiate between the earlier unionizes_set.\n",
    "</div>"
   ]
  },
  {
   "cell_type": "code",
   "execution_count": 71,
   "metadata": {},
   "outputs": [
    {
     "data": {
      "text/html": [
       "<div>\n",
       "<style scoped>\n",
       "    .dataframe tbody tr th:only-of-type {\n",
       "        vertical-align: middle;\n",
       "    }\n",
       "\n",
       "    .dataframe tbody tr th {\n",
       "        vertical-align: top;\n",
       "    }\n",
       "\n",
       "    .dataframe thead th {\n",
       "        text-align: right;\n",
       "    }\n",
       "</style>\n",
       "<table border=\"1\" class=\"dataframe\">\n",
       "  <thead>\n",
       "    <tr style=\"text-align: right;\">\n",
       "      <th></th>\n",
       "      <th>hemisphere_id</th>\n",
       "      <th>id</th>\n",
       "      <th>is_injection</th>\n",
       "      <th>max_voxel_density</th>\n",
       "      <th>max_voxel_x</th>\n",
       "      <th>max_voxel_y</th>\n",
       "      <th>max_voxel_z</th>\n",
       "      <th>normalized_projection_volume</th>\n",
       "      <th>projection_density</th>\n",
       "      <th>projection_energy</th>\n",
       "      <th>projection_intensity</th>\n",
       "      <th>projection_volume</th>\n",
       "      <th>experiment_id</th>\n",
       "      <th>structure_id</th>\n",
       "      <th>sum_pixel_intensity</th>\n",
       "      <th>sum_pixels</th>\n",
       "      <th>sum_projection_pixel_intensity</th>\n",
       "      <th>sum_projection_pixels</th>\n",
       "      <th>volume</th>\n",
       "      <th>structure_name</th>\n",
       "    </tr>\n",
       "  </thead>\n",
       "  <tbody>\n",
       "    <tr>\n",
       "      <th>0</th>\n",
       "      <td>3</td>\n",
       "      <td>636132166</td>\n",
       "      <td>False</td>\n",
       "      <td>1.000000</td>\n",
       "      <td>9370</td>\n",
       "      <td>2500</td>\n",
       "      <td>9450</td>\n",
       "      <td>0.105844</td>\n",
       "      <td>0.129473</td>\n",
       "      <td>280.100383</td>\n",
       "      <td>2163.396424</td>\n",
       "      <td>0.070242</td>\n",
       "      <td>307297141</td>\n",
       "      <td>312782574</td>\n",
       "      <td>2.717960e+11</td>\n",
       "      <td>442877400.0</td>\n",
       "      <td>1.240501e+11</td>\n",
       "      <td>5.734045e+07</td>\n",
       "      <td>0.542525</td>\n",
       "      <td>Laterointermediate area</td>\n",
       "    </tr>\n",
       "    <tr>\n",
       "      <th>1</th>\n",
       "      <td>3</td>\n",
       "      <td>636130952</td>\n",
       "      <td>False</td>\n",
       "      <td>0.176642</td>\n",
       "      <td>3690</td>\n",
       "      <td>3470</td>\n",
       "      <td>6460</td>\n",
       "      <td>0.000097</td>\n",
       "      <td>0.000069</td>\n",
       "      <td>0.029395</td>\n",
       "      <td>424.604137</td>\n",
       "      <td>0.000064</td>\n",
       "      <td>307297141</td>\n",
       "      <td>44</td>\n",
       "      <td>1.842736e+11</td>\n",
       "      <td>759889792.0</td>\n",
       "      <td>2.233689e+07</td>\n",
       "      <td>5.260639e+04</td>\n",
       "      <td>0.930865</td>\n",
       "      <td>Infralimbic area</td>\n",
       "    </tr>\n",
       "    <tr>\n",
       "      <th>2</th>\n",
       "      <td>3</td>\n",
       "      <td>636131320</td>\n",
       "      <td>False</td>\n",
       "      <td>0.000000</td>\n",
       "      <td>0</td>\n",
       "      <td>0</td>\n",
       "      <td>0</td>\n",
       "      <td>0.000000</td>\n",
       "      <td>0.000000</td>\n",
       "      <td>0.000000</td>\n",
       "      <td>0.000000</td>\n",
       "      <td>0.000000</td>\n",
       "      <td>307297141</td>\n",
       "      <td>246</td>\n",
       "      <td>7.140429e+09</td>\n",
       "      <td>123998400.0</td>\n",
       "      <td>0.000000e+00</td>\n",
       "      <td>0.000000e+00</td>\n",
       "      <td>0.151898</td>\n",
       "      <td>Midbrain reticular nucleus, retrorubral area</td>\n",
       "    </tr>\n",
       "    <tr>\n",
       "      <th>3</th>\n",
       "      <td>3</td>\n",
       "      <td>636131638</td>\n",
       "      <td>False</td>\n",
       "      <td>0.000000</td>\n",
       "      <td>0</td>\n",
       "      <td>0</td>\n",
       "      <td>0</td>\n",
       "      <td>0.000000</td>\n",
       "      <td>0.000000</td>\n",
       "      <td>0.000000</td>\n",
       "      <td>0.000000</td>\n",
       "      <td>0.000000</td>\n",
       "      <td>307297141</td>\n",
       "      <td>460</td>\n",
       "      <td>5.506341e+08</td>\n",
       "      <td>8535600.0</td>\n",
       "      <td>0.000000e+00</td>\n",
       "      <td>0.000000e+00</td>\n",
       "      <td>0.010456</td>\n",
       "      <td>Midbrain trigeminal nucleus</td>\n",
       "    </tr>\n",
       "    <tr>\n",
       "      <th>4</th>\n",
       "      <td>3</td>\n",
       "      <td>636132128</td>\n",
       "      <td>False</td>\n",
       "      <td>0.000000</td>\n",
       "      <td>0</td>\n",
       "      <td>0</td>\n",
       "      <td>0</td>\n",
       "      <td>0.000000</td>\n",
       "      <td>0.000000</td>\n",
       "      <td>0.000000</td>\n",
       "      <td>0.000000</td>\n",
       "      <td>0.000000</td>\n",
       "      <td>307297141</td>\n",
       "      <td>599626923</td>\n",
       "      <td>4.878733e+08</td>\n",
       "      <td>13030200.0</td>\n",
       "      <td>0.000000e+00</td>\n",
       "      <td>0.000000e+00</td>\n",
       "      <td>0.015962</td>\n",
       "      <td>Subcommissural organ</td>\n",
       "    </tr>\n",
       "  </tbody>\n",
       "</table>\n",
       "</div>"
      ],
      "text/plain": [
       "   hemisphere_id         id  is_injection  max_voxel_density  max_voxel_x  \\\n",
       "0              3  636132166         False           1.000000         9370   \n",
       "1              3  636130952         False           0.176642         3690   \n",
       "2              3  636131320         False           0.000000            0   \n",
       "3              3  636131638         False           0.000000            0   \n",
       "4              3  636132128         False           0.000000            0   \n",
       "\n",
       "   max_voxel_y  max_voxel_z  normalized_projection_volume  projection_density  \\\n",
       "0         2500         9450                      0.105844            0.129473   \n",
       "1         3470         6460                      0.000097            0.000069   \n",
       "2            0            0                      0.000000            0.000000   \n",
       "3            0            0                      0.000000            0.000000   \n",
       "4            0            0                      0.000000            0.000000   \n",
       "\n",
       "   projection_energy  projection_intensity  projection_volume  experiment_id  \\\n",
       "0         280.100383           2163.396424           0.070242      307297141   \n",
       "1           0.029395            424.604137           0.000064      307297141   \n",
       "2           0.000000              0.000000           0.000000      307297141   \n",
       "3           0.000000              0.000000           0.000000      307297141   \n",
       "4           0.000000              0.000000           0.000000      307297141   \n",
       "\n",
       "   structure_id  sum_pixel_intensity   sum_pixels  \\\n",
       "0     312782574         2.717960e+11  442877400.0   \n",
       "1            44         1.842736e+11  759889792.0   \n",
       "2           246         7.140429e+09  123998400.0   \n",
       "3           460         5.506341e+08    8535600.0   \n",
       "4     599626923         4.878733e+08   13030200.0   \n",
       "\n",
       "   sum_projection_pixel_intensity  sum_projection_pixels    volume  \\\n",
       "0                    1.240501e+11           5.734045e+07  0.542525   \n",
       "1                    2.233689e+07           5.260639e+04  0.930865   \n",
       "2                    0.000000e+00           0.000000e+00  0.151898   \n",
       "3                    0.000000e+00           0.000000e+00  0.010456   \n",
       "4                    0.000000e+00           0.000000e+00  0.015962   \n",
       "\n",
       "                                 structure_name  \n",
       "0                       Laterointermediate area  \n",
       "1                              Infralimbic area  \n",
       "2  Midbrain reticular nucleus, retrorubral area  \n",
       "3                   Midbrain trigeminal nucleus  \n",
       "4                          Subcommissural organ  "
      ]
     },
     "execution_count": 71,
     "metadata": {},
     "output_type": "execute_result"
    }
   ],
   "source": [
    "visual_unionizes_set = mcc.get_structure_unionizes(visual_experiment_set,\n",
    "                                               is_injection = False,\n",
    "                                                structure_ids = summary_structure_ids,\n",
    "                                               hemisphere_ids = [3])\n",
    "visual_names = [name_map[strid] for strid in visual_unionizes_set['structure_id']]\n",
    "visual_unionizes_set['structure_name'] = visual_names\n",
    "visual_unionizes_set.head()"
   ]
  },
  {
   "cell_type": "markdown",
   "metadata": {},
   "source": [
    "<div style=\"border-left: 3px solid #000; padding: 1px; padding-left: 10px; background: #f0f0ff; \">\n",
    "\n",
    "In the next cell, we want to obtain the projection densities for the different injections to the Primary visual area that project to the medial mammillary nucleus. We do this in the first line and we name it **mmn** to differentiate from the variable **medial_mammillary**. Next, we arrange the projection densities from biggest to smallest.\n",
    "</div>"
   ]
  },
  {
   "cell_type": "code",
   "execution_count": 72,
   "metadata": {},
   "outputs": [
    {
     "data": {
      "text/plain": [
       "array([3.53851879e-01, 5.54855498e-02, 6.99215228e-04, 1.87557598e-04,\n",
       "       1.59921258e-04, 1.27419001e-04, 1.13553904e-04, 1.05397442e-04,\n",
       "       8.50623343e-05, 7.62672564e-05, 6.96496052e-05, 5.50569880e-05,\n",
       "       4.81055549e-05, 3.82561235e-05, 3.21326946e-05, 3.04819335e-05,\n",
       "       2.96921059e-05, 2.64879792e-05, 1.21357127e-05, 9.85602408e-06,\n",
       "       9.83749942e-06, 9.46315358e-06, 6.95636149e-06, 6.37881662e-06,\n",
       "       5.13140928e-06, 2.05455434e-06, 1.48721138e-06, 1.32933310e-06,\n",
       "       4.21888049e-07, 7.88465769e-08, 2.38114485e-08, 3.44629633e-09,\n",
       "       0.00000000e+00])"
      ]
     },
     "execution_count": 72,
     "metadata": {},
     "output_type": "execute_result"
    }
   ],
   "source": [
    "mmn = visual_unionizes_set[visual_unionizes_set['structure_name'] == 'Medial mammillary nucleus']\n",
    "mmn = mmn['projection_density'].sort_values(ascending=False).values\n",
    "mmn"
   ]
  },
  {
   "cell_type": "markdown",
   "metadata": {},
   "source": [
    "<div style=\"border-left: 3px solid #000; padding: 1px; padding-left: 10px; background: #f0f0ff; \">\n",
    "    \n",
    "Next, we are going to create a dataframe that we will be able to use for the bootstrapping. \n",
    "</div>"
   ]
  },
  {
   "cell_type": "code",
   "execution_count": 73,
   "metadata": {},
   "outputs": [
    {
     "data": {
      "text/html": [
       "<div>\n",
       "<style scoped>\n",
       "    .dataframe tbody tr th:only-of-type {\n",
       "        vertical-align: middle;\n",
       "    }\n",
       "\n",
       "    .dataframe tbody tr th {\n",
       "        vertical-align: top;\n",
       "    }\n",
       "\n",
       "    .dataframe thead th {\n",
       "        text-align: right;\n",
       "    }\n",
       "</style>\n",
       "<table border=\"1\" class=\"dataframe\">\n",
       "  <thead>\n",
       "    <tr style=\"text-align: right;\">\n",
       "      <th></th>\n",
       "      <th>Medial mammillary nucleus</th>\n",
       "    </tr>\n",
       "  </thead>\n",
       "  <tbody>\n",
       "    <tr>\n",
       "      <th>0</th>\n",
       "      <td>0.353852</td>\n",
       "    </tr>\n",
       "    <tr>\n",
       "      <th>1</th>\n",
       "      <td>0.055486</td>\n",
       "    </tr>\n",
       "    <tr>\n",
       "      <th>2</th>\n",
       "      <td>0.000699</td>\n",
       "    </tr>\n",
       "    <tr>\n",
       "      <th>3</th>\n",
       "      <td>0.000188</td>\n",
       "    </tr>\n",
       "    <tr>\n",
       "      <th>4</th>\n",
       "      <td>0.000160</td>\n",
       "    </tr>\n",
       "  </tbody>\n",
       "</table>\n",
       "</div>"
      ],
      "text/plain": [
       "   Medial mammillary nucleus\n",
       "0                   0.353852\n",
       "1                   0.055486\n",
       "2                   0.000699\n",
       "3                   0.000188\n",
       "4                   0.000160"
      ]
     },
     "execution_count": 73,
     "metadata": {},
     "output_type": "execute_result"
    }
   ],
   "source": [
    "mmn_data = {'Medial mammillary nucleus': mmn}\n",
    "mmn_dataframe = pd.DataFrame(data=mmn_data)\n",
    "mmn_dataframe.head()"
   ]
  },
  {
   "cell_type": "markdown",
   "metadata": {},
   "source": [
    "<div style=\"border-left: 3px solid #000; padding: 1px; padding-left: 10px; background: #f0f0ff; \">\n",
    "    \n",
    "The essence of bootstrapping is reliant on a population. In this case, the population is going to be that of the neurons that project to the medial mammillary nucleus from the primary visual area. We obtained a sample, the 33 wildtype experiments from the primary visual area. \n",
    "\n",
    "In the cell below, we will resample the samples, which will give us an estimate of the real population distribution, and will give us a \"confidence interval\" for where the real mean of the population should be. We will do this 5000 times to make sure that our number is big enough for our data to be accurate.\n",
    "</div>"
   ]
  },
  {
   "cell_type": "code",
   "execution_count": 74,
   "metadata": {},
   "outputs": [],
   "source": [
    "# Run this cell\n",
    "means = []\n",
    "for i in np.arange(5000):\n",
    "    resampled = mmn_dataframe.sample(n = 33, replace = True)\n",
    "    mean = resampled.mean()\n",
    "    means = np.append(means, mean)"
   ]
  },
  {
   "cell_type": "markdown",
   "metadata": {},
   "source": [
    "<div style=\"border-left: 3px solid #000; padding: 1px; padding-left: 10px; background: #f0f0ff; \">\n",
    "    \n",
    "We will now graph the resampled means in the histogram below. \n",
    "</div>"
   ]
  },
  {
   "cell_type": "code",
   "execution_count": 75,
   "metadata": {},
   "outputs": [
    {
     "data": {
      "image/png": "[encoded data removed]",
      "text/plain": [
       "<Figure size 432x288 with 1 Axes>"
      ]
     },
     "metadata": {
      "needs_background": "light"
     },
     "output_type": "display_data"
    }
   ],
   "source": [
    "# Run this cell\n",
    "mmn = {'Projection Density Means': means}\n",
    "mmn_means = pd.DataFrame(data=mmn).hist()"
   ]
  },
  {
   "cell_type": "markdown",
   "metadata": {
    "collapsed": true
   },
   "source": [
    "<div style=\"border-left: 3px solid #000; padding: 1px; padding-left: 10px; background: #f0f0ff; \">\n",
    "    \n",
    "Now, let's overlay the mean projection density from the subiculum to the medial mammillary nucleus with the historygram above.\n",
    "</div>"
   ]
  },
  {
   "cell_type": "code",
   "execution_count": 76,
   "metadata": {},
   "outputs": [
    {
     "data": {
      "text/plain": [
       "<matplotlib.lines.Line2D at 0x1a2c4653c8>"
      ]
     },
     "execution_count": 76,
     "metadata": {},
     "output_type": "execute_result"
    },
    {
     "data": {
      "image/png": "[encoded data removed]",
      "text/plain": [
       "<Figure size 432x288 with 1 Axes>"
      ]
     },
     "metadata": {
      "needs_background": "light"
     },
     "output_type": "display_data"
    }
   ],
   "source": [
    "# Run this cell\n",
    "mmn = {'Projection Density Means': means}\n",
    "mmn_means = pd.DataFrame(data=mmn).hist()\n",
    "plt.axvline(sub_mean, color = 'k')"
   ]
  },
  {
   "cell_type": "markdown",
   "metadata": {
    "collapsed": true
   },
   "source": [
    "<div style=\"border-left: 3px solid #000; padding: 1px; padding-left: 10px; background: #f0f0ff; \">\n",
    "    \n",
    "What can we see about the difference in projection density means to the medial mammillary nucleus from the primary visual area and the subiculum?\n",
    "</div>"
   ]
  },
  {
   "cell_type": "markdown",
   "metadata": {
    "collapsed": true
   },
   "source": [
    "*Your answer here*"
   ]
  },
  {
   "cell_type": "markdown",
   "metadata": {
    "collapsed": true
   },
   "source": [
    "<div style=\"border-left: 3px solid #000; padding: 1px; padding-left: 10px; background: #f0f0ff; \">\n",
    "    \n",
    "From the histogram above, it is obvious that the mean projection density from the subiculum and the one from the primary visual area do not come from the same underlying population distribution, due to the sharp contrast in numbers. Usually, this analysis would be done using p-values, (which will be included as optional exercises afterwards) but because the contrast is so big, we can skip this step. \n",
    "\n",
    "<h3 align=\"center\">What does this mean in terms of connectivity?</h3>\n",
    "\n",
    "It makes sense that the mean projection density from the subiculum to the medial mammillary nucleus be so high due to this being the connectivity in the Papez circuit. It also makes sense that the mean projection density is so low for the primary visual cortex, due to the fact that this structure is not part of the circuit (even though there is still minimal connectivity)."
   ]
  },
  {
   "cell_type": "markdown",
   "metadata": {
    "collapsed": true
   },
   "source": [
    "<div style=\"border-left: 3px solid #000; padding: 1px; padding-left: 10px; background: #f0f0ff; \">\n",
    "    \n",
    "<h3 align=\"center\">Optional Exercises</h3>\n",
    "\n",
    "</div>"
   ]
  },
  {
   "cell_type": "markdown",
   "metadata": {},
   "source": [
    "<div style=\"border-left: 3px solid #000; padding: 1px; padding-left: 10px; background: #f0f0ff; \">\n",
    "    \n",
    "Below, we will use the function **quantile** to come up with the 95% interval. This interval says that the true mean of all projection densities from the primary visual area to the medial mammillary nucleus is likely to be between these two values.\n",
    "</div>"
   ]
  },
  {
   "cell_type": "code",
   "execution_count": 77,
   "metadata": {},
   "outputs": [
    {
     "data": {
      "text/plain": [
       "[4.337306761375068e-05, 0.03558782991550174]"
      ]
     },
     "execution_count": 77,
     "metadata": {},
     "output_type": "execute_result"
    }
   ],
   "source": [
    "mmn = {'Projection Density Means': means}\n",
    "mmn_means = pd.DataFrame(data=mmn)\n",
    "percentile = list(mmn_means.quantile([0.025, 0.975])['Projection Density Means'])\n",
    "percentile"
   ]
  },
  {
   "cell_type": "code",
   "execution_count": 78,
   "metadata": {},
   "outputs": [
    {
     "data": {
      "text/plain": [
       "<matplotlib.collections.LineCollection at 0x1a2cc3a828>"
      ]
     },
     "execution_count": 78,
     "metadata": {},
     "output_type": "execute_result"
    },
    {
     "data": {
      "image/png": "[encoded data removed]",
      "text/plain": [
       "<Figure size 432x288 with 1 Axes>"
      ]
     },
     "metadata": {
      "needs_background": "light"
     },
     "output_type": "display_data"
    }
   ],
   "source": [
    "# Run this cell\n",
    "mmn = {'Projection Density Means': means}\n",
    "mmn_means = pd.DataFrame(data=mmn).hist()\n",
    "plt.hlines(y=0, xmin=percentile[0], xmax=percentile[1], linewidth=10, color = 'y')"
   ]
  },
  {
   "cell_type": "markdown",
   "metadata": {},
   "source": [
    "<div style=\"border-left: 3px solid #000; padding: 1px; padding-left: 10px; background: #f0f0ff; \">\n",
    "    \n",
    "Below, we will calculate the ***p-value*** using the above distribution and a made-up mean named **mystery_mean** that will simulate a mean projection density obtained from one of the injections into the primary visual area that projects to the medial mammillary nucleus. We must come up with a null hypothesis and an alternative hypothesis in oder to use the p-value.\n",
    "\n",
    "***Null hypothesis:*** The mystery_mean comes from the same underlying distribution as that of the medial mammilary nucleus. \n",
    "\n",
    "***Alternative hypothesis:*** The mystery_mean does not come from the same underlying distribution, and any correlation is purely due to chance. \n",
    "\n",
    "</div>"
   ]
  },
  {
   "cell_type": "code",
   "execution_count": 79,
   "metadata": {},
   "outputs": [],
   "source": [
    "# Run this cell\n",
    "mystery_mean = 0.0434\n",
    "mmn = {'Projection Density Means': means}\n",
    "mmn_means = pd.DataFrame(data=mmn)"
   ]
  },
  {
   "cell_type": "code",
   "execution_count": 80,
   "metadata": {},
   "outputs": [
    {
     "data": {
      "text/plain": [
       "<matplotlib.lines.Line2D at 0x1a2b6b49b0>"
      ]
     },
     "execution_count": 80,
     "metadata": {},
     "output_type": "execute_result"
    },
    {
     "data": {
      "image/png": "[encoded data removed]",
      "text/plain": [
       "<Figure size 432x288 with 1 Axes>"
      ]
     },
     "metadata": {
      "needs_background": "light"
     },
     "output_type": "display_data"
    }
   ],
   "source": [
    "mmn_means.hist()\n",
    "plt.axvline(mystery_mean, color = 'k')"
   ]
  },
  {
   "cell_type": "code",
   "execution_count": 81,
   "metadata": {},
   "outputs": [
    {
     "data": {
      "text/plain": [
       "0.013"
      ]
     },
     "execution_count": 81,
     "metadata": {},
     "output_type": "execute_result"
    }
   ],
   "source": [
    "p_value = np.average(mmn_means > mystery_mean)\n",
    "p_value"
   ]
  },
  {
   "cell_type": "markdown",
   "metadata": {},
   "source": [
    "<div style=\"border-left: 3px solid #000; padding: 1px; padding-left: 10px; background: #f0f0ff; \">\n",
    "    \n",
    "Since the p_value is less than 0.05 (chosen by convention), we can reject the null hypothesis. This means that our mystery_mean did not come from the same underlying distribution as the means from the primary visual area, so we can assume that our mystery_mean is not coming from the primary visual area.\n",
    "\n",
    "</div>"
   ]
  },
  {
   "cell_type": "markdown",
   "metadata": {
    "collapsed": true
   },
   "source": [
    "## Conclusion"
   ]
  },
  {
   "cell_type": "markdown",
   "metadata": {
    "collapsed": true
   },
   "source": [
    "<div style=\"border-left: 3px solid #000; padding: 1px; padding-left: 10px; background: #f0f0ff; \">\n",
    "    \n",
    "We hoped that this lab served as a good introductions to the tools and the statistical analysis used in neuroinformatics. Neuroinformatics is a growing field and every year, new techniques are being invented for collection of large neural information. Because of this, it is important to know how to analyze and manipulate this data. \n",
    "\n",
    "If you liked the lab and would like to further your data science techniques, below are some introductary courses that may interest you:\n",
    "\n",
    "***Data 8: The Foundations of Data Science***\n",
    "\n",
    "***Data 100: Principles and Techniques of Data Science***\n",
    "\n",
    "***Prob 140: Probability for Data Science***\n",
    "</div>"
   ]
  }
 ],
 "metadata": {
  "kernelspec": {
   "display_name": "Python 3",
   "language": "python",
   "name": "python3"
  },
  "language_info": {
   "codemirror_mode": {
    "name": "ipython",
    "version": 3
   },
   "file_extension": ".py",
   "mimetype": "text/x-python",
   "name": "python",
   "nbconvert_exporter": "python",
   "pygments_lexer": "ipython3",
   "version": "3.7.1"
  }
 },
 "nbformat": 4,
 "nbformat_minor": 2
}
