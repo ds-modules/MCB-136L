{
 "cells": [
  {
   "cell_type": "markdown",
   "metadata": {},
   "source": [
    "<h1 align=\"center\">Lab 12: Introduction to Allen Mouse Brain Atlas Tools</h1>\n",
    "<h3 align=\"center\">Estimated Duration: 30 mins</h3>"
   ]
  },
  {
   "cell_type": "markdown",
   "metadata": {},
   "source": [
    "## Introduction"
   ]
  },
  {
   "cell_type": "markdown",
   "metadata": {},
   "source": [
    "<div style=\"border-left: 3px solid #000; padding: 1px; padding-left: 10px; background: #f0f0ff; \">\n",
    "    In the first part of the lab, we used the Mouse Connectivity Atlas to analyze projection data within regions of the brain. In this part of the lab, we will instead use the Mouse Brain Atlas to explore the gene expression density within specific regions and entire structure of the brain\n",
    "\n",
    "</center></p>. </div>"
   ]
  },
  {
   "cell_type": "markdown",
   "metadata": {},
   "source": [
    "## Pre-lab: Importing Data"
   ]
  },
  {
   "cell_type": "markdown",
   "metadata": {},
   "source": [
    "<div style=\"border-left: 3px solid #000; padding: 1px; padding-left: 10px; background: #f0f0ff; \">\n",
    "    \n",
    "Similar to the first part of the lab, we will be importing an Allen atlas. The cell below downlaods all Mouse Brain experiments, expression density, and griddata that we'll be using to analyze gene expression. \n",
    "\n",
    "</div>"
   ]
  },
  {
   "cell_type": "code",
   "execution_count": 7,
   "metadata": {},
   "outputs": [],
   "source": [
    "# Run this cell\n",
    "import pandas as pd\n",
    "import numpy as np\n",
    "import os\n",
    "import matplotlib.pyplot as plt\n",
    "from allensdk.core.mouse_connectivity_cache import MouseConnectivityCache\n",
    "from allensdk.api.queries.ontologies_api import OntologiesApi\n",
    "\n",
    "%matplotlib inline \n",
    "import seaborn as sns\n",
    "\n",
    "import ipywidgets as widgets\n",
    "from ipywidgets import interact, interactive, fixed, interact_manual\n",
    "\n",
    "from allensdk.api.queries.mouse_atlas_api import MouseAtlasApi\n",
    "from allensdk.core import sitk_utilities\n",
    "from allensdk.api.cache import Cache, cacheable\n",
    "\n",
    "from allensdk.api.queries.reference_space_api import ReferenceSpaceApi\n",
    "from allensdk.api.queries.grid_data_api import GridDataApi\n",
    "from allensdk.api.queries.rma_pager import pageable\n",
    "\n",
    "# Creates variables to access the API with.\n",
    "mcc = MouseConnectivityCache()\n",
    "structure_tree = mcc.get_structure_tree()\n",
    "maa = MouseAtlasApi()"
   ]
  },
  {
   "cell_type": "code",
   "execution_count": 34,
   "metadata": {},
   "outputs": [
    {
     "name": "stdout",
     "output_type": "stream",
     "text": [
      "['l', 'i', 'n', 'e', ' ', '1', ',', ' ', 'c', 'o', 'l', 'u', 'm', 'n', ' ', '5', '0', ':', ' ', 'n', 'o', ' ', 'v', 'i', 'a', 'b', 'l', 'e', ' ', 'a', 'l', 't', 'e', 'r', 'n', 'a', 't', 'i', 'v', 'e', ' ', 'a', 't', ' ', 'i', 'n', 'p', 'u', 't', ' ', '\"', ']', '\"', '\\n', 'm', 'o', 'd', 'e', 'l', ':', ':', 'S', 'e', 'c', 't', 'i', 'o', 'n', 'D', 'a', 't', 'a', 'S', 'e', 't', ',', 'r', 'm', 'a', ':', ':', 'c', 'r', 'i', 't', 'e', 'r', 'i', 'a', ',', 'p', 'r', 'o', 'd', 'u', 'c', 't', 's', '[', 'i', 'd', '$', 'i', 'n', ']', ',', 'g', 'e', 'n', 'e', 's', '[', 'i', 'd', '$', 'i', 'n', '3', '5', '2', '6', '8', ']', ',', 'r', 'm', 'a', ':', ':', 'i', 'n', 'c', 'l', 'u', 'd', 'e', ',', 'g', 'e', 'n', 'e', 's', ',', 'r', 'm', 'a', ':', ':', 'o', 'p', 't', 'i', 'o', 'n', 's', '[', 'n', 'u', 'm', '_', 'r', 'o', 'w', 's', '$', 'e', 'q', '2', '0', '0', '0', ']', '[', 's', 't', 'a', 'r', 't', '_', 'r', 'o', 'w', '$', 'e', 'q', '0', ']', '[', 'o', 'r', 'd', 'e', 'r', '$', 'e', 'q', \"'\", 'i', 'd', \"'\", ']', '[', 'c', 'o', 'u', 'n', 't', '$', 'e', 'q', 'f', 'a', 'l', 's', 'e', ']', '\\n', '-', '-', '-', '-', '-', '-', '-', '-', '-', '-', '-', '-', '-', '-', '-', '-', '-', '-', '-', '-', '-', '-', '-', '-', '-', '-', '-', '-', '-', '-', '-', '-', '-', '-', '-', '-', '-', '-', '-', '-', '-', '-', '-', '-', '-', '-', '-', '-', '-', '-', '^']\n"
     ]
    }
   ],
   "source": [
    "geneData = maa.get_section_data_sets([35268], [])\n",
    "print(list(geneData))"
   ]
  },
  {
   "cell_type": "markdown",
   "metadata": {},
   "source": [
    "## Part 1: Gene Expression Within Brain Regions"
   ]
  },
  {
   "cell_type": "markdown",
   "metadata": {},
   "source": [
    "<div style=\"border-left: 3px solid #000; padding: 1px; padding-left: 10px; background: #f0f0ff; \">\n",
    "\n",
    "In this section, we will begin to explore the relationship between the expression tendencies of specific genes and the location(s) with which they're found in.\n",
    "\n",
    "</div>"
   ]
  },
  {
   "cell_type": "markdown",
   "metadata": {},
   "source": [
    "## Part 1.1: Selecting a gene"
   ]
  },
  {
   "cell_type": "markdown",
   "metadata": {},
   "source": [
    "<div style=\"border-left: 3px solid #000; padding: 1px; padding-left: 10px; background: #f0f0ff; \">\n",
    "\n",
    "In order to select a gene you wish to focus on, we need the gene id. We'll be using the **get_genes** function in the Mouse Atlas API (a collection of functions that extract data). This function takes in two **optional** values: \n",
    "\n",
    "    * organism_ids : a list of organism id's that we'll take experiments from. Defaults to mouse id's\n",
    "    * chromosome_ids : a list of chromosome id's that we'll take experiments from. Defaults to all\n",
    "    \n",
    "This function will give us a list of experiments, genes, and their corresponding data, which we will use to get the id from.\n",
    "\n",
    "In the code below, insert any specifics (if any) within the parantheses of **get_genes**. A list is represented with [] with commas between each value. Then, insert the gene you wish to study in the quotations below. In this example, we use the K-2 gene. Lastly, run the code to obtain the gene id for your gene.\n",
    "\n",
    "</div>"
   ]
  },
  {
   "cell_type": "code",
   "execution_count": 15,
   "metadata": {},
   "outputs": [
    {
     "data": {
      "text/html": [
       "<div>\n",
       "<style scoped>\n",
       "    .dataframe tbody tr th:only-of-type {\n",
       "        vertical-align: middle;\n",
       "    }\n",
       "\n",
       "    .dataframe tbody tr th {\n",
       "        vertical-align: top;\n",
       "    }\n",
       "\n",
       "    .dataframe thead th {\n",
       "        text-align: right;\n",
       "    }\n",
       "</style>\n",
       "<table border=\"1\" class=\"dataframe\">\n",
       "  <thead>\n",
       "    <tr style=\"text-align: right;\">\n",
       "      <th></th>\n",
       "      <th>gender</th>\n",
       "      <th>id</th>\n",
       "      <th>injection_structures</th>\n",
       "      <th>injection_volume</th>\n",
       "      <th>injection_x</th>\n",
       "      <th>injection_y</th>\n",
       "      <th>injection_z</th>\n",
       "      <th>primary_injection_structure</th>\n",
       "      <th>product_id</th>\n",
       "      <th>specimen_name</th>\n",
       "      <th>strain</th>\n",
       "      <th>structure_abbrev</th>\n",
       "      <th>structure_id</th>\n",
       "      <th>structure_name</th>\n",
       "      <th>transgenic_line</th>\n",
       "      <th>transgenic_line_id</th>\n",
       "    </tr>\n",
       "  </thead>\n",
       "  <tbody>\n",
       "    <tr>\n",
       "      <th>0</th>\n",
       "      <td>F</td>\n",
       "      <td>527712447</td>\n",
       "      <td>[502, 926, 1084, 484682470]</td>\n",
       "      <td>0.006655</td>\n",
       "      <td>9240</td>\n",
       "      <td>3070</td>\n",
       "      <td>8990</td>\n",
       "      <td>502</td>\n",
       "      <td>5</td>\n",
       "      <td>Penk-IRES2-Cre-neo-249961</td>\n",
       "      <td>C57BL/6J</td>\n",
       "      <td>SUB</td>\n",
       "      <td>502</td>\n",
       "      <td>Subiculum</td>\n",
       "      <td>Penk-IRES2-Cre-neo</td>\n",
       "      <td>298725927.0</td>\n",
       "    </tr>\n",
       "    <tr>\n",
       "      <th>1</th>\n",
       "      <td>M</td>\n",
       "      <td>506426778</td>\n",
       "      <td>[502, 918, 926, 312782628]</td>\n",
       "      <td>0.324160</td>\n",
       "      <td>9500</td>\n",
       "      <td>4320</td>\n",
       "      <td>9420</td>\n",
       "      <td>502</td>\n",
       "      <td>5</td>\n",
       "      <td>Gpr26-Cre_KO250-206293</td>\n",
       "      <td>None</td>\n",
       "      <td>SUB</td>\n",
       "      <td>502</td>\n",
       "      <td>Subiculum</td>\n",
       "      <td>Gpr26-Cre_KO250</td>\n",
       "      <td>177839285.0</td>\n",
       "    </tr>\n",
       "    <tr>\n",
       "      <th>2</th>\n",
       "      <td>M</td>\n",
       "      <td>550155867</td>\n",
       "      <td>[502, 726, 843, 926, 1084]</td>\n",
       "      <td>0.203537</td>\n",
       "      <td>9280</td>\n",
       "      <td>4410</td>\n",
       "      <td>8940</td>\n",
       "      <td>502</td>\n",
       "      <td>5</td>\n",
       "      <td>Slc17a6-IRES-Cre-261141</td>\n",
       "      <td>None</td>\n",
       "      <td>SUB</td>\n",
       "      <td>502</td>\n",
       "      <td>Subiculum</td>\n",
       "      <td>Slc17a6-IRES-Cre</td>\n",
       "      <td>177838048.0</td>\n",
       "    </tr>\n",
       "    <tr>\n",
       "      <th>3</th>\n",
       "      <td>M</td>\n",
       "      <td>126523791</td>\n",
       "      <td>[215, 294, 502, 628, 706, 886, 1061, 484682470]</td>\n",
       "      <td>0.359012</td>\n",
       "      <td>7960</td>\n",
       "      <td>2400</td>\n",
       "      <td>6420</td>\n",
       "      <td>215</td>\n",
       "      <td>5</td>\n",
       "      <td>378-1282</td>\n",
       "      <td>C57BL/6J</td>\n",
       "      <td>SUB</td>\n",
       "      <td>502</td>\n",
       "      <td>Subiculum</td>\n",
       "      <td>None</td>\n",
       "      <td>NaN</td>\n",
       "    </tr>\n",
       "    <tr>\n",
       "      <th>4</th>\n",
       "      <td>F</td>\n",
       "      <td>556343427</td>\n",
       "      <td>[502, 726, 918, 926, 1084, 484682470]</td>\n",
       "      <td>0.349502</td>\n",
       "      <td>9510</td>\n",
       "      <td>4270</td>\n",
       "      <td>9450</td>\n",
       "      <td>502</td>\n",
       "      <td>5</td>\n",
       "      <td>Slc17a6-IRES-Cre-272451</td>\n",
       "      <td>None</td>\n",
       "      <td>SUB</td>\n",
       "      <td>502</td>\n",
       "      <td>Subiculum</td>\n",
       "      <td>Slc17a6-IRES-Cre</td>\n",
       "      <td>177838048.0</td>\n",
       "    </tr>\n",
       "  </tbody>\n",
       "</table>\n",
       "</div>"
      ],
      "text/plain": [
       "  gender         id                             injection_structures  \\\n",
       "0      F  527712447                      [502, 926, 1084, 484682470]   \n",
       "1      M  506426778                       [502, 918, 926, 312782628]   \n",
       "2      M  550155867                       [502, 726, 843, 926, 1084]   \n",
       "3      M  126523791  [215, 294, 502, 628, 706, 886, 1061, 484682470]   \n",
       "4      F  556343427            [502, 726, 918, 926, 1084, 484682470]   \n",
       "\n",
       "   injection_volume  injection_x  injection_y  injection_z  \\\n",
       "0          0.006655         9240         3070         8990   \n",
       "1          0.324160         9500         4320         9420   \n",
       "2          0.203537         9280         4410         8940   \n",
       "3          0.359012         7960         2400         6420   \n",
       "4          0.349502         9510         4270         9450   \n",
       "\n",
       "   primary_injection_structure  product_id              specimen_name  \\\n",
       "0                          502           5  Penk-IRES2-Cre-neo-249961   \n",
       "1                          502           5     Gpr26-Cre_KO250-206293   \n",
       "2                          502           5    Slc17a6-IRES-Cre-261141   \n",
       "3                          215           5                   378-1282   \n",
       "4                          502           5    Slc17a6-IRES-Cre-272451   \n",
       "\n",
       "     strain structure_abbrev  structure_id structure_name     transgenic_line  \\\n",
       "0  C57BL/6J              SUB           502      Subiculum  Penk-IRES2-Cre-neo   \n",
       "1      None              SUB           502      Subiculum     Gpr26-Cre_KO250   \n",
       "2      None              SUB           502      Subiculum    Slc17a6-IRES-Cre   \n",
       "3  C57BL/6J              SUB           502      Subiculum                None   \n",
       "4      None              SUB           502      Subiculum    Slc17a6-IRES-Cre   \n",
       "\n",
       "   transgenic_line_id  \n",
       "0         298725927.0  \n",
       "1         177839285.0  \n",
       "2         177838048.0  \n",
       "3                 NaN  \n",
       "4         177838048.0  "
      ]
     },
     "execution_count": 15,
     "metadata": {},
     "output_type": "execute_result"
    }
   ],
   "source": [
    "# insert your structure id in below\n",
    "experiments = mcc.get_experiments(injection_structure_ids=[502]) \n",
    "\n",
    "# The line below converts our infomration into a DataFrame \n",
    "data = pd.DataFrame(experiments)\n",
    "data.head()"
   ]
  },
  {
   "cell_type": "code",
   "execution_count": 17,
   "metadata": {},
   "outputs": [
    {
     "data": {
      "application/vnd.jupyter.widget-view+json": {
       "model_id": "aef05558441d483bb66b23519420d5c0",
       "version_major": 2,
       "version_minor": 0
      },
      "text/plain": [
       "Dropdown(description='Wildtype Exp', options=(126523791, 640285199, 127222723, 152994878, 127795906), value=12…"
      ]
     },
     "metadata": {},
     "output_type": "display_data"
    }
   ],
   "source": [
    "# Isolates the wildtype experiments\n",
    "experiment_set = [exp['id'] for exp in experiments if exp['transgenic_line'] == None]\n",
    "\n",
    "# Places experiments in drop-down widget\n",
    "wild_type = widgets.Dropdown(options = experiment_set, description = 'Wildtype Exp')\n",
    "wild_type"
   ]
  },
  {
   "cell_type": "markdown",
   "metadata": {},
   "source": [
    "<div style=\"border-left: 3px solid #000; padding: 1px; padding-left: 10px; background: #f0f0ff; \">\n",
    "    \n",
    "Next, we're going to choose one of these experiments and assign it to our variable **chosen_exp** so we could easily call upon it later on! Write down the experiment id from above on the designated spot below.\n",
    "</div>"
   ]
  },
  {
   "cell_type": "code",
   "execution_count": 18,
   "metadata": {},
   "outputs": [],
   "source": [
    "# My chosen experiment \n",
    "chosen_exp = 152994878"
   ]
  },
  {
   "cell_type": "markdown",
   "metadata": {},
   "source": [
    "## Part 1.2: Choosing a brain region "
   ]
  },
  {
   "cell_type": "markdown",
   "metadata": {},
   "source": [
    "<div style=\"border-left: 3px solid #000; padding: 1px; padding-left: 10px; background: #f0f0ff; \">\n",
    "    \n",
    "For this section, our main focus lies on isolating specific regions of the brain. To accomplish this task, we need to further refine our previous search results to only showcase the experiments that contain our specified gene and a specified brain region. \n",
    "\n",
    "This can be done through the use of the function **FUNCTION**, which will take in parameters: \n",
    "\n",
    "**FUNCTION** will check each experiment's affected region with your specified brain region to display experiment IDs which include both. In the code below, replace the quotations with a specified brain region to return a list of experiments for your specified brain region and gene. In this example, we used \"Cerebrum.\"\n",
    "\n",
    "</div>"
   ]
  },
  {
   "cell_type": "code",
   "execution_count": 28,
   "metadata": {},
   "outputs": [
    {
     "data": {
      "text/plain": [
       "[{'acronym': 'CH',\n",
       "  'graph_id': 1,\n",
       "  'graph_order': 2,\n",
       "  'id': 567,\n",
       "  'name': 'Cerebrum',\n",
       "  'structure_id_path': [997, 8, 567],\n",
       "  'structure_set_ids': [112905828,\n",
       "   691663206,\n",
       "   12,\n",
       "   184527634,\n",
       "   112905813,\n",
       "   114512891,\n",
       "   114512892],\n",
       "  'rgb_triplet': [176, 240, 255]}]"
      ]
     },
     "execution_count": 28,
     "metadata": {},
     "output_type": "execute_result"
    }
   ],
   "source": [
    "# Replace \"...\" with a brain region. \n",
    "cerebrum = structure_tree.get_structures_by_name([\"Cerebrum\"])\n",
    "cerebrum"
   ]
  },
  {
   "cell_type": "markdown",
   "metadata": {},
   "source": [
    "<div style=\"border-left: 3px solid #000; padding: 1px; padding-left: 10px; background: #f0f0ff; \">\n",
    "    \n",
    "Something that we will need for later is the structure id assigned by Allen Brain Atlas to each structure in the brain. You can obtain it by running the cell below. ( We obtain it by isolating the dictionary in the list from the previous cell and grabbing ' id ' )\n",
    "\n",
    "<div/>"
   ]
  },
  {
   "cell_type": "code",
   "execution_count": 33,
   "metadata": {},
   "outputs": [
    {
     "name": "stdout",
     "output_type": "stream",
     "text": [
      "567\n"
     ]
    }
   ],
   "source": [
    "# Run this cell\n",
    "cerebrum_id = cerebrum[0]['id']\n",
    "print(cerebrum_id)"
   ]
  },
  {
   "cell_type": "markdown",
   "metadata": {},
   "source": [
    "## Part 1.3 : Calculating gene expression density"
   ]
  },
  {
   "cell_type": "markdown",
   "metadata": {},
   "source": [
    "<div style=\"border-left: 3px solid #000; padding: 1px; padding-left: 10px; background: #f0f0ff; \">\n",
    "    \n",
    "Now that we have found the list of experiment IDs which show our desired gene and region, we can find its frequency and thus its percentage of the all gene expression within that region. \n",
    "\n",
    "To begin, we introduce the idea of a for loop. This statement will go through our list of experiments one by one and run the indexed code below it each time. In the code below, we created a function to return the sum of the values in listOfNumbers. In order to obtain the values in listOfNumbers, we use a for loop where number is a variable we named that takes on the values in listOfNumbers. Note: number could be anything that starts with a letter - cake, shoe, s, do12g3.\n",
    "\n",
    "In its first run through, number is set to num1 and added to our variable sum, which stores the current sum as we're going through the list. In its second run through, number is set to num2 and added to our variable sum, which is equal to num1. This for loop keeps running until all values in listOfNumbers have been accessed.\n",
    "\n",
    "We will be writing a for loop to calculate your specified gene expression density, so it is important to understand how a for loop works before moving on.\n",
    "\n",
    "</div>"
   ]
  },
  {
   "cell_type": "code",
   "execution_count": 38,
   "metadata": {},
   "outputs": [],
   "source": [
    "def sums(num1, num2) :\n",
    "    listOfNumbers = [num1, num2, 12314, 32534, 13513]\n",
    "    sum = 0\n",
    "    for number in listOfNumbers: \n",
    "        sum = sum + number "
   ]
  },
  {
   "cell_type": "markdown",
   "metadata": {},
   "source": [
    "<div style=\"border-left: 3px solid #000; padding: 1px; padding-left: 10px; background: #f0f0ff; \">\n",
    "To calculate density, we will create a function called **percentage**. This function will take in one value: \n",
    "\n",
    "     * gene_id : the id that corresponds to the gene you wish to explore \n",
    "\n",
    "**Percentage** will display percent that your gene appears relative to all genes in your specified brain region. To calculate proportion, we use the total amount of times the gene appears in the brain over the total amount of gene expression in that region and multiply this value by 100 to get the percent. \n",
    "\n",
    "To store the number of times we see our gene_id, we'll create a variable called occurrences, which is initially set to 0. Within our for loop, we will be taking the gene expression id in each experiment and comparing it to our gene_id. If they're equal, we will increment occurrences. \n",
    "\n",
    "In the code block below, fill in the appropriate values within the for loop to calculate percent. See below for hints.\n",
    "\n",
    "</div>"
   ]
  },
  {
   "cell_type": "code",
   "execution_count": 39,
   "metadata": {},
   "outputs": [],
   "source": [
    "def percentage(gene_id) :\n",
    "    occurrences = 0\n",
    "    length = 0\n",
    "    for ___ in ____ : \n",
    "        if (___ == gene_id) :\n",
    "            occurrences = _________\n",
    "        length = length + 1\n",
    "    return occurrences / length * 100"
   ]
  },
  {
   "cell_type": "markdown",
   "metadata": {},
   "source": [
    "<div style=\"border-left: 3px solid #000; padding: 1px; padding-left: 10px; background: #f0f0ff; \">\n",
    "\n",
    "**Hints** :\n",
    "\n",
    "The two blanks after for refer to the following: \n",
    "\n",
    "     * first blank refers to a variable that can take on any name starting with a letter. It takes on each value in a list one by one. \n",
    "     * second blank refers to a list of some kind that we want to access the values of in order to calculate percentage. This is something we've found earlier in this lab. \n",
    "\n",
    "</div>"
   ]
  },
  {
   "cell_type": "markdown",
   "metadata": {},
   "source": [
    "## Part 1.4: Most common gene expressions "
   ]
  },
  {
   "cell_type": "markdown",
   "metadata": {},
   "source": [
    "<div style=\"border-left: 3px solid #000; padding: 1px; padding-left: 10px; background: #f0f0ff; \">\n",
    "    \n",
    "To ensure you are on the right track, below is a bar graph indicating the ten most expressed genes in the your specified region of the brain. Fill in your specified brain region within quotations below. We used Cerebrum in our example. Then, run the code below to construct a bar graph showing data relevant to your brain region.\n",
    "\n",
    "</div>"
   ]
  },
  {
   "cell_type": "code",
   "execution_count": 64,
   "metadata": {},
   "outputs": [
    {
     "data": {
      "image/png": "[encoded data removed]",
      "text/plain": [
       "<Figure size 432x288 with 1 Axes>"
      ]
     },
     "metadata": {
      "needs_background": "light"
     },
     "output_type": "display_data"
    }
   ],
   "source": [
    "# Replace Cerebrum with your specified brain region. "
   ]
  },
  {
   "cell_type": "markdown",
   "metadata": {},
   "source": [
    "## Part 2: Gene Expression overall within BIG brain"
   ]
  },
  {
   "cell_type": "markdown",
   "metadata": {},
   "source": [
    "<div style=\"border-left: 3px solid #000; padding: 1px; padding-left: 10px; background: #f0f0ff; \">\n",
    "\n",
    "Let's calculate the **mean** of the projection densities at the medial mammillary nucleus.\n",
    "</div>"
   ]
  },
  {
   "cell_type": "code",
   "execution_count": 65,
   "metadata": {},
   "outputs": [
    {
     "data": {
      "text/plain": [
       "0.23557054765769622"
      ]
     },
     "execution_count": 65,
     "metadata": {},
     "output_type": "execute_result"
    }
   ],
   "source": [
    "sub_mean = sum(proj_dens) / len(proj_dens)\n",
    "sub_mean"
   ]
  },
  {
   "cell_type": "markdown",
   "metadata": {},
   "source": [
    "<div style=\"border-left: 3px solid #000; padding: 1px; padding-left: 10px; background: #f0f0ff; \">\n",
    "\n",
    "Find the **median** of the projection densities at the medial mammillary nucleus.\n",
    "</div>"
   ]
  },
  {
   "cell_type": "code",
   "execution_count": 66,
   "metadata": {},
   "outputs": [
    {
     "data": {
      "text/plain": [
       "0.24814843696811198"
      ]
     },
     "execution_count": 66,
     "metadata": {},
     "output_type": "execute_result"
    }
   ],
   "source": [
    "sub_median = medial_mammillary.sort_values('projection_density', ascending=False)['projection_density'].values[2]\n",
    "sub_median"
   ]
  },
  {
   "cell_type": "markdown",
   "metadata": {},
   "source": [
    "<div style=\"border-left: 3px solid #000; padding: 1px; padding-left: 10px; background: #f0f0ff; \">\n",
    "\n",
    "Now find the **standard deviation** of the projection densities at the medial mammillary nucleus.\n",
    "\n",
    "Recall:\n",
    "\n",
    "$$\\sigma = \\sqrt{\\sum_{i=1}^N \\frac{(x-\\mu)^2}{N - 1}}$$\n",
    "\n",
    "* $\\sigma$ = standard deviation\n",
    "* $x$ = data\n",
    "* $\\mu$ = mean\n",
    "* $N$ = number of values\n",
    "</div>"
   ]
  },
  {
   "cell_type": "code",
   "execution_count": 67,
   "metadata": {},
   "outputs": [
    {
     "data": {
      "text/plain": [
       "0.17050709841601444"
      ]
     },
     "execution_count": 67,
     "metadata": {},
     "output_type": "execute_result"
    }
   ],
   "source": [
    "sub_std = np.sqrt(sum((proj_dens - sub_mean)**2) / (len(proj_dens) - 1))\n",
    "sub_std"
   ]
  },
  {
   "cell_type": "markdown",
   "metadata": {},
   "source": [
    "## Part 2.4: Average Projection Densities"
   ]
  },
  {
   "cell_type": "markdown",
   "metadata": {},
   "source": [
    "<div style=\"border-left: 3px solid #000; padding: 1px; padding-left: 10px; background: #f0f0ff; \">\n",
    "    \n",
    "Using our statistical analysis, we can observe the average projection densities at the top 20 sites where the subiculum maps to for the 5 wildtype injections.\n",
    "</div>"
   ]
  },
  {
   "cell_type": "code",
   "execution_count": 68,
   "metadata": {},
   "outputs": [
    {
     "data": {
      "image/png": "[encoded data removed]",
      "text/plain": [
       "<Figure size 432x288 with 1 Axes>"
      ]
     },
     "metadata": {
      "needs_background": "light"
     },
     "output_type": "display_data"
    }
   ],
   "source": [
    "# Run this cell\n",
    "\n",
    "# We can combine groupby and mean to find the average projection density across experiments for each summary structure\n",
    "unionizes_set_mean = (unionizes_set.groupby('structure_id', as_index = False)['projection_density'].mean())\n",
    "\n",
    "# Again, add a column with summary structure acronyms so we can interpret the unionizes more easily\n",
    "names = [name_map[strid] for strid in unionizes_set_mean['structure_id']]\n",
    "unionizes_set_mean['structure_name'] = names\n",
    "unionizes_set_mean.sort_values(by = 'projection_density', ascending = False, inplace = True)\n",
    "\n",
    "# Plot the 20 structures with the highest average projection density across all wild type Subiculum injections\n",
    "unionizes_set_mean[:20].plot('structure_name', 'projection_density', kind='barh')\n",
    "plt.gca().invert_yaxis()\n",
    "plt.title('Average Unionize Data for %i injections'%len(experiment_set));"
   ]
  },
  {
   "cell_type": "code",
   "execution_count": 69,
   "metadata": {},
   "outputs": [
    {
     "data": {
      "text/html": [
       "<div>\n",
       "<style scoped>\n",
       "    .dataframe tbody tr th:only-of-type {\n",
       "        vertical-align: middle;\n",
       "    }\n",
       "\n",
       "    .dataframe tbody tr th {\n",
       "        vertical-align: top;\n",
       "    }\n",
       "\n",
       "    .dataframe thead th {\n",
       "        text-align: right;\n",
       "    }\n",
       "</style>\n",
       "<table border=\"1\" class=\"dataframe\">\n",
       "  <thead>\n",
       "    <tr style=\"text-align: right;\">\n",
       "      <th></th>\n",
       "      <th>structure_name</th>\n",
       "      <th>mean_projection_density</th>\n",
       "      <th>stdev</th>\n",
       "    </tr>\n",
       "  </thead>\n",
       "  <tbody>\n",
       "    <tr>\n",
       "      <th>145</th>\n",
       "      <td>Medial mammillary nucleus</td>\n",
       "      <td>0.235571</td>\n",
       "      <td>0.170507</td>\n",
       "    </tr>\n",
       "    <tr>\n",
       "      <th>282</th>\n",
       "      <td>Presubiculum</td>\n",
       "      <td>0.156300</td>\n",
       "      <td>0.164140</td>\n",
       "    </tr>\n",
       "    <tr>\n",
       "      <th>35</th>\n",
       "      <td>Anteromedial nucleus</td>\n",
       "      <td>0.137534</td>\n",
       "      <td>0.125943</td>\n",
       "    </tr>\n",
       "    <tr>\n",
       "      <th>308</th>\n",
       "      <td>Perifornical nucleus</td>\n",
       "      <td>0.136466</td>\n",
       "      <td>0.101008</td>\n",
       "    </tr>\n",
       "    <tr>\n",
       "      <th>146</th>\n",
       "      <td>Subiculum</td>\n",
       "      <td>0.124839</td>\n",
       "      <td>0.083361</td>\n",
       "    </tr>\n",
       "  </tbody>\n",
       "</table>\n",
       "</div>"
      ],
      "text/plain": [
       "                structure_name  mean_projection_density     stdev\n",
       "145  Medial mammillary nucleus                 0.235571  0.170507\n",
       "282               Presubiculum                 0.156300  0.164140\n",
       "35        Anteromedial nucleus                 0.137534  0.125943\n",
       "308       Perifornical nucleus                 0.136466  0.101008\n",
       "146                  Subiculum                 0.124839  0.083361"
      ]
     },
     "execution_count": 69,
     "metadata": {},
     "output_type": "execute_result"
    }
   ],
   "source": [
    "# look at the data\n",
    "# re-generate means so they are in the same order as standard deviation\n",
    "unionizes_set_mean = (\n",
    "    unionizes_set.groupby('structure_id', as_index = False)[\n",
    "    'projection_density'].mean())\n",
    "\n",
    "# generate a second data frame with standard deviations\n",
    "unionizes_set_std = (\n",
    "    unionizes_set.groupby('structure_id', as_index = False)[\n",
    "    'projection_density'].std())\n",
    "\n",
    "# find names from structure ids\n",
    "names = [name_map[strid] for strid in unionizes_set_mean['structure_id']]\n",
    "\n",
    "# combine names, mean, and standard deviation into one dataframe for easy plotting\n",
    "set_mean_std = pd.DataFrame({'structure_name': names, \n",
    "                            'mean_projection_density': unionizes_set_mean['projection_density'], \n",
    "                            'stdev':  unionizes_set_std['projection_density']\n",
    "                            })\n",
    "\n",
    "# sort the dataframe to get the top 20 values on top\n",
    "set_mean_std.sort_values(by = 'mean_projection_density', ascending = False, inplace = True)\n",
    "\n",
    "set_mean_std.head()"
   ]
  },
  {
   "cell_type": "markdown",
   "metadata": {},
   "source": [
    "<div style=\"border-left: 3px solid #000; padding: 1px; padding-left: 10px; background: #f0f0ff; \">\n",
    "    \n",
    "Do your results match those in our visualization and the table above?\n",
    "</div>"
   ]
  },
  {
   "cell_type": "markdown",
   "metadata": {
    "collapsed": true
   },
   "source": [
    "## Part 3: Bootstrap"
   ]
  },
  {
   "cell_type": "markdown",
   "metadata": {},
   "source": [
    "<div style=\"border-left: 3px solid #000; padding: 1px; padding-left: 10px; background: #f0f0ff; \">\n",
    "\n",
    "For this part of the lab, we will apply a technique called boostraping to analyze the probability of a structure being a part of a circuit. We will start off with looking at the Primary Visual Cortex since it has more wildtype injections than the subiculum.\n",
    "</div>"
   ]
  },
  {
   "cell_type": "code",
   "execution_count": 70,
   "metadata": {},
   "outputs": [
    {
     "name": "stdout",
     "output_type": "stream",
     "text": [
      "Total number of experiments in the Primary visual area: 33\n",
      "Primary visual area id: 385\n"
     ]
    }
   ],
   "source": [
    "# Run this cell\n",
    "VISp = structure_tree.get_structures_by_name([\"Primary visual area\"])\n",
    "VISp_id = VISp[0]['id']\n",
    "visual_experiments = mcc.get_experiments(injection_structure_ids=[VISp_id]) \n",
    "visual_experiment_set = [exp['id'] for exp in visual_experiments if exp['transgenic_line'] == None]\n",
    "visual_data = pd.DataFrame(visual_experiment_set)\n",
    "print('Total number of experiments in the Primary visual area:', len(visual_data))\n",
    "print('Primary visual area id:', VISp_id)"
   ]
  },
  {
   "cell_type": "markdown",
   "metadata": {},
   "source": [
    "<div style=\"border-left: 3px solid #000; padding: 1px; padding-left: 10px; background: #f0f0ff; \">\n",
    "\n",
    "In the cell above, we obtain the structure id for the **Primary Visual Area** and filter the number of experiments to wildtype (transgenic line == None). This was the same procedure that was done in the subiculum but condensed into one cell. Try to follow along, but don't focus too much on the code. \n",
    "\n",
    "Next, we will obtain a **unionizes_set** similar to the one obtained for the subiculum. The unionizes set is a DataFrame that consists of all of the structures that the Primary visual area projects to for every injection. We named it visual_unionizes_set to differentiate between the earlier unionizes_set.\n",
    "</div>"
   ]
  },
  {
   "cell_type": "code",
   "execution_count": 71,
   "metadata": {},
   "outputs": [
    {
     "data": {
      "text/html": [
       "<div>\n",
       "<style scoped>\n",
       "    .dataframe tbody tr th:only-of-type {\n",
       "        vertical-align: middle;\n",
       "    }\n",
       "\n",
       "    .dataframe tbody tr th {\n",
       "        vertical-align: top;\n",
       "    }\n",
       "\n",
       "    .dataframe thead th {\n",
       "        text-align: right;\n",
       "    }\n",
       "</style>\n",
       "<table border=\"1\" class=\"dataframe\">\n",
       "  <thead>\n",
       "    <tr style=\"text-align: right;\">\n",
       "      <th></th>\n",
       "      <th>hemisphere_id</th>\n",
       "      <th>id</th>\n",
       "      <th>is_injection</th>\n",
       "      <th>max_voxel_density</th>\n",
       "      <th>max_voxel_x</th>\n",
       "      <th>max_voxel_y</th>\n",
       "      <th>max_voxel_z</th>\n",
       "      <th>normalized_projection_volume</th>\n",
       "      <th>projection_density</th>\n",
       "      <th>projection_energy</th>\n",
       "      <th>projection_intensity</th>\n",
       "      <th>projection_volume</th>\n",
       "      <th>experiment_id</th>\n",
       "      <th>structure_id</th>\n",
       "      <th>sum_pixel_intensity</th>\n",
       "      <th>sum_pixels</th>\n",
       "      <th>sum_projection_pixel_intensity</th>\n",
       "      <th>sum_projection_pixels</th>\n",
       "      <th>volume</th>\n",
       "      <th>structure_name</th>\n",
       "    </tr>\n",
       "  </thead>\n",
       "  <tbody>\n",
       "    <tr>\n",
       "      <th>0</th>\n",
       "      <td>3</td>\n",
       "      <td>636132166</td>\n",
       "      <td>False</td>\n",
       "      <td>1.000000</td>\n",
       "      <td>9370</td>\n",
       "      <td>2500</td>\n",
       "      <td>9450</td>\n",
       "      <td>0.105844</td>\n",
       "      <td>0.129473</td>\n",
       "      <td>280.100383</td>\n",
       "      <td>2163.396424</td>\n",
       "      <td>0.070242</td>\n",
       "      <td>307297141</td>\n",
       "      <td>312782574</td>\n",
       "      <td>2.717960e+11</td>\n",
       "      <td>442877400.0</td>\n",
       "      <td>1.240501e+11</td>\n",
       "      <td>5.734045e+07</td>\n",
       "      <td>0.542525</td>\n",
       "      <td>Laterointermediate area</td>\n",
       "    </tr>\n",
       "    <tr>\n",
       "      <th>1</th>\n",
       "      <td>3</td>\n",
       "      <td>636130952</td>\n",
       "      <td>False</td>\n",
       "      <td>0.176642</td>\n",
       "      <td>3690</td>\n",
       "      <td>3470</td>\n",
       "      <td>6460</td>\n",
       "      <td>0.000097</td>\n",
       "      <td>0.000069</td>\n",
       "      <td>0.029395</td>\n",
       "      <td>424.604137</td>\n",
       "      <td>0.000064</td>\n",
       "      <td>307297141</td>\n",
       "      <td>44</td>\n",
       "      <td>1.842736e+11</td>\n",
       "      <td>759889792.0</td>\n",
       "      <td>2.233689e+07</td>\n",
       "      <td>5.260639e+04</td>\n",
       "      <td>0.930865</td>\n",
       "      <td>Infralimbic area</td>\n",
       "    </tr>\n",
       "    <tr>\n",
       "      <th>2</th>\n",
       "      <td>3</td>\n",
       "      <td>636131320</td>\n",
       "      <td>False</td>\n",
       "      <td>0.000000</td>\n",
       "      <td>0</td>\n",
       "      <td>0</td>\n",
       "      <td>0</td>\n",
       "      <td>0.000000</td>\n",
       "      <td>0.000000</td>\n",
       "      <td>0.000000</td>\n",
       "      <td>0.000000</td>\n",
       "      <td>0.000000</td>\n",
       "      <td>307297141</td>\n",
       "      <td>246</td>\n",
       "      <td>7.140429e+09</td>\n",
       "      <td>123998400.0</td>\n",
       "      <td>0.000000e+00</td>\n",
       "      <td>0.000000e+00</td>\n",
       "      <td>0.151898</td>\n",
       "      <td>Midbrain reticular nucleus, retrorubral area</td>\n",
       "    </tr>\n",
       "    <tr>\n",
       "      <th>3</th>\n",
       "      <td>3</td>\n",
       "      <td>636131638</td>\n",
       "      <td>False</td>\n",
       "      <td>0.000000</td>\n",
       "      <td>0</td>\n",
       "      <td>0</td>\n",
       "      <td>0</td>\n",
       "      <td>0.000000</td>\n",
       "      <td>0.000000</td>\n",
       "      <td>0.000000</td>\n",
       "      <td>0.000000</td>\n",
       "      <td>0.000000</td>\n",
       "      <td>307297141</td>\n",
       "      <td>460</td>\n",
       "      <td>5.506341e+08</td>\n",
       "      <td>8535600.0</td>\n",
       "      <td>0.000000e+00</td>\n",
       "      <td>0.000000e+00</td>\n",
       "      <td>0.010456</td>\n",
       "      <td>Midbrain trigeminal nucleus</td>\n",
       "    </tr>\n",
       "    <tr>\n",
       "      <th>4</th>\n",
       "      <td>3</td>\n",
       "      <td>636132128</td>\n",
       "      <td>False</td>\n",
       "      <td>0.000000</td>\n",
       "      <td>0</td>\n",
       "      <td>0</td>\n",
       "      <td>0</td>\n",
       "      <td>0.000000</td>\n",
       "      <td>0.000000</td>\n",
       "      <td>0.000000</td>\n",
       "      <td>0.000000</td>\n",
       "      <td>0.000000</td>\n",
       "      <td>307297141</td>\n",
       "      <td>599626923</td>\n",
       "      <td>4.878733e+08</td>\n",
       "      <td>13030200.0</td>\n",
       "      <td>0.000000e+00</td>\n",
       "      <td>0.000000e+00</td>\n",
       "      <td>0.015962</td>\n",
       "      <td>Subcommissural organ</td>\n",
       "    </tr>\n",
       "  </tbody>\n",
       "</table>\n",
       "</div>"
      ],
      "text/plain": [
       "   hemisphere_id         id  is_injection  max_voxel_density  max_voxel_x  \\\n",
       "0              3  636132166         False           1.000000         9370   \n",
       "1              3  636130952         False           0.176642         3690   \n",
       "2              3  636131320         False           0.000000            0   \n",
       "3              3  636131638         False           0.000000            0   \n",
       "4              3  636132128         False           0.000000            0   \n",
       "\n",
       "   max_voxel_y  max_voxel_z  normalized_projection_volume  projection_density  \\\n",
       "0         2500         9450                      0.105844            0.129473   \n",
       "1         3470         6460                      0.000097            0.000069   \n",
       "2            0            0                      0.000000            0.000000   \n",
       "3            0            0                      0.000000            0.000000   \n",
       "4            0            0                      0.000000            0.000000   \n",
       "\n",
       "   projection_energy  projection_intensity  projection_volume  experiment_id  \\\n",
       "0         280.100383           2163.396424           0.070242      307297141   \n",
       "1           0.029395            424.604137           0.000064      307297141   \n",
       "2           0.000000              0.000000           0.000000      307297141   \n",
       "3           0.000000              0.000000           0.000000      307297141   \n",
       "4           0.000000              0.000000           0.000000      307297141   \n",
       "\n",
       "   structure_id  sum_pixel_intensity   sum_pixels  \\\n",
       "0     312782574         2.717960e+11  442877400.0   \n",
       "1            44         1.842736e+11  759889792.0   \n",
       "2           246         7.140429e+09  123998400.0   \n",
       "3           460         5.506341e+08    8535600.0   \n",
       "4     599626923         4.878733e+08   13030200.0   \n",
       "\n",
       "   sum_projection_pixel_intensity  sum_projection_pixels    volume  \\\n",
       "0                    1.240501e+11           5.734045e+07  0.542525   \n",
       "1                    2.233689e+07           5.260639e+04  0.930865   \n",
       "2                    0.000000e+00           0.000000e+00  0.151898   \n",
       "3                    0.000000e+00           0.000000e+00  0.010456   \n",
       "4                    0.000000e+00           0.000000e+00  0.015962   \n",
       "\n",
       "                                 structure_name  \n",
       "0                       Laterointermediate area  \n",
       "1                              Infralimbic area  \n",
       "2  Midbrain reticular nucleus, retrorubral area  \n",
       "3                   Midbrain trigeminal nucleus  \n",
       "4                          Subcommissural organ  "
      ]
     },
     "execution_count": 71,
     "metadata": {},
     "output_type": "execute_result"
    }
   ],
   "source": [
    "visual_unionizes_set = mcc.get_structure_unionizes(visual_experiment_set,\n",
    "                                               is_injection = False,\n",
    "                                                structure_ids = summary_structure_ids,\n",
    "                                               hemisphere_ids = [3])\n",
    "visual_names = [name_map[strid] for strid in visual_unionizes_set['structure_id']]\n",
    "visual_unionizes_set['structure_name'] = visual_names\n",
    "visual_unionizes_set.head()"
   ]
  },
  {
   "cell_type": "markdown",
   "metadata": {},
   "source": [
    "<div style=\"border-left: 3px solid #000; padding: 1px; padding-left: 10px; background: #f0f0ff; \">\n",
    "\n",
    "In the next cell, we want to obtain the projection densities for the different injections to the Primary visual area that project to the medial mammillary nucleus. We do this in the first line and we name it **mmn** to differentiate from the variable **medial_mammillary**. Next, we arrange the projection densities from biggest to smallest.\n",
    "</div>"
   ]
  },
  {
   "cell_type": "code",
   "execution_count": 72,
   "metadata": {},
   "outputs": [
    {
     "data": {
      "text/plain": [
       "array([3.53851879e-01, 5.54855498e-02, 6.99215228e-04, 1.87557598e-04,\n",
       "       1.59921258e-04, 1.27419001e-04, 1.13553904e-04, 1.05397442e-04,\n",
       "       8.50623343e-05, 7.62672564e-05, 6.96496052e-05, 5.50569880e-05,\n",
       "       4.81055549e-05, 3.82561235e-05, 3.21326946e-05, 3.04819335e-05,\n",
       "       2.96921059e-05, 2.64879792e-05, 1.21357127e-05, 9.85602408e-06,\n",
       "       9.83749942e-06, 9.46315358e-06, 6.95636149e-06, 6.37881662e-06,\n",
       "       5.13140928e-06, 2.05455434e-06, 1.48721138e-06, 1.32933310e-06,\n",
       "       4.21888049e-07, 7.88465769e-08, 2.38114485e-08, 3.44629633e-09,\n",
       "       0.00000000e+00])"
      ]
     },
     "execution_count": 72,
     "metadata": {},
     "output_type": "execute_result"
    }
   ],
   "source": [
    "mmn = visual_unionizes_set[visual_unionizes_set['structure_name'] == 'Medial mammillary nucleus']\n",
    "mmn = mmn['projection_density'].sort_values(ascending=False).values\n",
    "mmn"
   ]
  },
  {
   "cell_type": "markdown",
   "metadata": {},
   "source": [
    "<div style=\"border-left: 3px solid #000; padding: 1px; padding-left: 10px; background: #f0f0ff; \">\n",
    "    \n",
    "Next, we are going to create a dataframe that we will be able to use for the bootstrapping. \n",
    "</div>"
   ]
  },
  {
   "cell_type": "code",
   "execution_count": 73,
   "metadata": {},
   "outputs": [
    {
     "data": {
      "text/html": [
       "<div>\n",
       "<style scoped>\n",
       "    .dataframe tbody tr th:only-of-type {\n",
       "        vertical-align: middle;\n",
       "    }\n",
       "\n",
       "    .dataframe tbody tr th {\n",
       "        vertical-align: top;\n",
       "    }\n",
       "\n",
       "    .dataframe thead th {\n",
       "        text-align: right;\n",
       "    }\n",
       "</style>\n",
       "<table border=\"1\" class=\"dataframe\">\n",
       "  <thead>\n",
       "    <tr style=\"text-align: right;\">\n",
       "      <th></th>\n",
       "      <th>Medial mammillary nucleus</th>\n",
       "    </tr>\n",
       "  </thead>\n",
       "  <tbody>\n",
       "    <tr>\n",
       "      <th>0</th>\n",
       "      <td>0.353852</td>\n",
       "    </tr>\n",
       "    <tr>\n",
       "      <th>1</th>\n",
       "      <td>0.055486</td>\n",
       "    </tr>\n",
       "    <tr>\n",
       "      <th>2</th>\n",
       "      <td>0.000699</td>\n",
       "    </tr>\n",
       "    <tr>\n",
       "      <th>3</th>\n",
       "      <td>0.000188</td>\n",
       "    </tr>\n",
       "    <tr>\n",
       "      <th>4</th>\n",
       "      <td>0.000160</td>\n",
       "    </tr>\n",
       "  </tbody>\n",
       "</table>\n",
       "</div>"
      ],
      "text/plain": [
       "   Medial mammillary nucleus\n",
       "0                   0.353852\n",
       "1                   0.055486\n",
       "2                   0.000699\n",
       "3                   0.000188\n",
       "4                   0.000160"
      ]
     },
     "execution_count": 73,
     "metadata": {},
     "output_type": "execute_result"
    }
   ],
   "source": [
    "mmn_data = {'Medial mammillary nucleus': mmn}\n",
    "mmn_dataframe = pd.DataFrame(data=mmn_data)\n",
    "mmn_dataframe.head()"
   ]
  },
  {
   "cell_type": "markdown",
   "metadata": {},
   "source": [
    "<div style=\"border-left: 3px solid #000; padding: 1px; padding-left: 10px; background: #f0f0ff; \">\n",
    "    \n",
    "The essence of bootstrapping is reliant on a population. In this case, the population is going to be that of the neurons that project to the medial mammillary nucleus from the primary visual area. We obtained a sample, the 33 wildtype experiments from the primary visual area. \n",
    "\n",
    "In the cell below, we will resample the samples, which will give us an estimate of the real population distribution, and will give us a \"confidence interval\" for where the real mean of the population should be. We will do this 5000 times to make sure that our number is big enough for our data to be accurate.\n",
    "</div>"
   ]
  },
  {
   "cell_type": "code",
   "execution_count": 74,
   "metadata": {},
   "outputs": [],
   "source": [
    "# Run this cell\n",
    "means = []\n",
    "for i in np.arange(5000):\n",
    "    resampled = mmn_dataframe.sample(n = 33, replace = True)\n",
    "    mean = resampled.mean()\n",
    "    means = np.append(means, mean)"
   ]
  },
  {
   "cell_type": "markdown",
   "metadata": {},
   "source": [
    "<div style=\"border-left: 3px solid #000; padding: 1px; padding-left: 10px; background: #f0f0ff; \">\n",
    "    \n",
    "We will now graph the resampled means in the histogram below. \n",
    "</div>"
   ]
  },
  {
   "cell_type": "code",
   "execution_count": 75,
   "metadata": {},
   "outputs": [
    {
     "data": {
      "image/png": "[encoded data removed]",
      "text/plain": [
       "<Figure size 432x288 with 1 Axes>"
      ]
     },
     "metadata": {
      "needs_background": "light"
     },
     "output_type": "display_data"
    }
   ],
   "source": [
    "# Run this cell\n",
    "mmn = {'Projection Density Means': means}\n",
    "mmn_means = pd.DataFrame(data=mmn).hist()"
   ]
  },
  {
   "cell_type": "markdown",
   "metadata": {
    "collapsed": true
   },
   "source": [
    "<div style=\"border-left: 3px solid #000; padding: 1px; padding-left: 10px; background: #f0f0ff; \">\n",
    "    \n",
    "Now, let's overlay the mean projection density from the subiculum to the medial mammillary nucleus with the historygram above.\n",
    "</div>"
   ]
  },
  {
   "cell_type": "code",
   "execution_count": 76,
   "metadata": {},
   "outputs": [
    {
     "data": {
      "text/plain": [
       "<matplotlib.lines.Line2D at 0x1a2c4653c8>"
      ]
     },
     "execution_count": 76,
     "metadata": {},
     "output_type": "execute_result"
    },
    {
     "data": {
      "image/png": "[encoded data removed]",
      "text/plain": [
       "<Figure size 432x288 with 1 Axes>"
      ]
     },
     "metadata": {
      "needs_background": "light"
     },
     "output_type": "display_data"
    }
   ],
   "source": [
    "# Run this cell\n",
    "mmn = {'Projection Density Means': means}\n",
    "mmn_means = pd.DataFrame(data=mmn).hist()\n",
    "plt.axvline(sub_mean, color = 'k')"
   ]
  },
  {
   "cell_type": "markdown",
   "metadata": {
    "collapsed": true
   },
   "source": [
    "<div style=\"border-left: 3px solid #000; padding: 1px; padding-left: 10px; background: #f0f0ff; \">\n",
    "    \n",
    "What can we see about the difference in projection density means to the medial mammillary nucleus from the primary visual area and the subiculum?\n",
    "</div>"
   ]
  },
  {
   "cell_type": "markdown",
   "metadata": {
    "collapsed": true
   },
   "source": [
    "*Your answer here*"
   ]
  },
  {
   "cell_type": "markdown",
   "metadata": {
    "collapsed": true
   },
   "source": [
    "<div style=\"border-left: 3px solid #000; padding: 1px; padding-left: 10px; background: #f0f0ff; \">\n",
    "    \n",
    "From the histogram above, it is obvious that the mean projection density from the subiculum and the one from the primary visual area do not come from the same underlying population distribution, due to the sharp contrast in numbers. Usually, this analysis would be done using p-values, (which will be included as optional exercises afterwards) but because the contrast is so big, we can skip this step. \n",
    "\n",
    "<h3 align=\"center\">What does this mean in terms of connectivity?</h3>\n",
    "\n",
    "It makes sense that the mean projection density from the subiculum to the medial mammillary nucleus be so high due to this being the connectivity in the Papez circuit. It also makes sense that the mean projection density is so low for the primary visual cortex, due to the fact that this structure is not part of the circuit (even though there is still minimal connectivity)."
   ]
  },
  {
   "cell_type": "markdown",
   "metadata": {
    "collapsed": true
   },
   "source": [
    "<div style=\"border-left: 3px solid #000; padding: 1px; padding-left: 10px; background: #f0f0ff; \">\n",
    "    \n",
    "<h3 align=\"center\">Optional Exercises</h3>\n",
    "\n",
    "</div>"
   ]
  },
  {
   "cell_type": "markdown",
   "metadata": {},
   "source": [
    "<div style=\"border-left: 3px solid #000; padding: 1px; padding-left: 10px; background: #f0f0ff; \">\n",
    "    \n",
    "Below, we will use the function **quantile** to come up with the 95% interval. This interval says that the true mean of all projection densities from the primary visual area to the medial mammillary nucleus is likely to be between these two values.\n",
    "</div>"
   ]
  },
  {
   "cell_type": "code",
   "execution_count": 77,
   "metadata": {},
   "outputs": [
    {
     "data": {
      "text/plain": [
       "[4.337306761375068e-05, 0.03558782991550174]"
      ]
     },
     "execution_count": 77,
     "metadata": {},
     "output_type": "execute_result"
    }
   ],
   "source": [
    "mmn = {'Projection Density Means': means}\n",
    "mmn_means = pd.DataFrame(data=mmn)\n",
    "percentile = list(mmn_means.quantile([0.025, 0.975])['Projection Density Means'])\n",
    "percentile"
   ]
  },
  {
   "cell_type": "code",
   "execution_count": 78,
   "metadata": {},
   "outputs": [
    {
     "data": {
      "text/plain": [
       "<matplotlib.collections.LineCollection at 0x1a2cc3a828>"
      ]
     },
     "execution_count": 78,
     "metadata": {},
     "output_type": "execute_result"
    },
    {
     "data": {
      "image/png": "[encoded data removed]",
      "text/plain": [
       "<Figure size 432x288 with 1 Axes>"
      ]
     },
     "metadata": {
      "needs_background": "light"
     },
     "output_type": "display_data"
    }
   ],
   "source": [
    "# Run this cell\n",
    "mmn = {'Projection Density Means': means}\n",
    "mmn_means = pd.DataFrame(data=mmn).hist()\n",
    "plt.hlines(y=0, xmin=percentile[0], xmax=percentile[1], linewidth=10, color = 'y')"
   ]
  },
  {
   "cell_type": "markdown",
   "metadata": {},
   "source": [
    "<div style=\"border-left: 3px solid #000; padding: 1px; padding-left: 10px; background: #f0f0ff; \">\n",
    "    \n",
    "Below, we will calculate the ***p-value*** using the above distribution and a made-up mean named **mystery_mean** that will simulate a mean projection density obtained from one of the injections into the primary visual area that projects to the medial mammillary nucleus. We must come up with a null hypothesis and an alternative hypothesis in oder to use the p-value.\n",
    "\n",
    "***Null hypothesis:*** The mystery_mean comes from the same underlying distribution as that of the medial mammilary nucleus. \n",
    "\n",
    "***Alternative hypothesis:*** The mystery_mean does not come from the same underlying distribution, and any correlation is purely due to chance. \n",
    "\n",
    "</div>"
   ]
  },
  {
   "cell_type": "code",
   "execution_count": 79,
   "metadata": {},
   "outputs": [],
   "source": [
    "# Run this cell\n",
    "mystery_mean = 0.0434\n",
    "mmn = {'Projection Density Means': means}\n",
    "mmn_means = pd.DataFrame(data=mmn)"
   ]
  },
  {
   "cell_type": "code",
   "execution_count": 80,
   "metadata": {},
   "outputs": [
    {
     "data": {
      "text/plain": [
       "<matplotlib.lines.Line2D at 0x1a2b6b49b0>"
      ]
     },
     "execution_count": 80,
     "metadata": {},
     "output_type": "execute_result"
    },
    {
     "data": {
      "image/png": "[encoded data removed]",
      "text/plain": [
       "<Figure size 432x288 with 1 Axes>"
      ]
     },
     "metadata": {
      "needs_background": "light"
     },
     "output_type": "display_data"
    }
   ],
   "source": [
    "mmn_means.hist()\n",
    "plt.axvline(mystery_mean, color = 'k')"
   ]
  },
  {
   "cell_type": "code",
   "execution_count": 81,
   "metadata": {},
   "outputs": [
    {
     "data": {
      "text/plain": [
       "0.013"
      ]
     },
     "execution_count": 81,
     "metadata": {},
     "output_type": "execute_result"
    }
   ],
   "source": [
    "p_value = np.average(mmn_means > mystery_mean)\n",
    "p_value"
   ]
  },
  {
   "cell_type": "markdown",
   "metadata": {},
   "source": [
    "<div style=\"border-left: 3px solid #000; padding: 1px; padding-left: 10px; background: #f0f0ff; \">\n",
    "    \n",
    "Since the p_value is less than 0.05 (chosen by convention), we can reject the null hypothesis. This means that our mystery_mean did not come from the same underlying distribution as the means from the primary visual area, so we can assume that our mystery_mean is not coming from the primary visual area.\n",
    "\n",
    "</div>"
   ]
  },
  {
   "cell_type": "markdown",
   "metadata": {
    "collapsed": true
   },
   "source": [
    "## Conclusion"
   ]
  },
  {
   "cell_type": "markdown",
   "metadata": {
    "collapsed": true
   },
   "source": [
    "<div style=\"border-left: 3px solid #000; padding: 1px; padding-left: 10px; background: #f0f0ff; \">\n",
    "    \n",
    "We hoped that this lab served as a good introductions to the tools and the statistical analysis used in neuroinformatics. Neuroinformatics is a growing field and every year, new techniques are being invented for collection of large neural information. Because of this, it is important to know how to analyze and manipulate this data. \n",
    "\n",
    "If you liked the lab and would like to further your data science techniques, below are some introductary courses that may interest you:\n",
    "\n",
    "***Data 8: The Foundations of Data Science***\n",
    "\n",
    "***Data 100: Principles and Techniques of Data Science***\n",
    "\n",
    "***Prob 140: Probability for Data Science***\n",
    "</div>"
   ]
  }
 ],
 "metadata": {
  "kernelspec": {
   "display_name": "Python 3",
   "language": "python",
   "name": "python3"
  },
  "language_info": {
   "codemirror_mode": {
    "name": "ipython",
    "version": 3
   },
   "file_extension": ".py",
   "mimetype": "text/x-python",
   "name": "python",
   "nbconvert_exporter": "python",
   "pygments_lexer": "ipython3",
   "version": "3.7.1"
  }
 },
 "nbformat": 4,
 "nbformat_minor": 2
}
